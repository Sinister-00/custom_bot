{
 "cells": [
  {
   "cell_type": "code",
   "execution_count": 1,
   "metadata": {},
   "outputs": [
    {
     "data": {
      "text/plain": [
       "True"
      ]
     },
     "execution_count": 1,
     "metadata": {},
     "output_type": "execute_result"
    }
   ],
   "source": [
    "import os\n",
    "from dotenv import load_dotenv\n",
    "load_dotenv()"
   ]
  },
  {
   "cell_type": "code",
   "execution_count": 2,
   "metadata": {},
   "outputs": [],
   "source": [
    "os.environ[\"OPENAI_API_KEY\"]=os.getenv(\"OPENAI_API_KEY\")\n"
   ]
  },
  {
   "cell_type": "code",
   "execution_count": 3,
   "metadata": {},
   "outputs": [],
   "source": [
    "from llama_index.core import VectorStoreIndex, SimpleDirectoryReader\n",
    "documents=SimpleDirectoryReader(\"data\").load_data()"
   ]
  },
  {
   "cell_type": "code",
   "execution_count": 4,
   "metadata": {},
   "outputs": [
    {
     "data": {
      "text/plain": [
       "[Document(id_='2cfe35c5-e229-4871-bf2f-614e35763bf3', embedding=None, metadata={'page_label': '1', 'file_name': '/Users/swapnildhamu/Developer/vin-ai/RAG/llamaindex_and_openAI/data/SKU Barcode _ Vinculum Knowledge Central.pdf', 'file_path': '/Users/swapnildhamu/Developer/vin-ai/RAG/llamaindex_and_openAI/data/SKU Barcode _ Vinculum Knowledge Central.pdf', 'file_type': 'application/pdf', 'file_size': 198334, 'creation_date': '2024-03-06', 'last_modified_date': '2024-03-06'}, excluded_embed_metadata_keys=['file_name', 'file_type', 'file_size', 'creation_date', 'last_modified_date', 'last_accessed_date'], excluded_llm_metadata_keys=['file_name', 'file_type', 'file_size', 'creation_date', 'last_modified_date', 'last_accessed_date'], relationships={}, text='06/03/2024, 17:04 SKU Barcode : Vinculum Knowledge Central\\nhttps://vinculumhelpdesk.freshdesk.com/support/solutions/articles/9000214575-sku-barcode 1/2SKU Barcode\\nModiﬁed on: Wed, 6 Mar, 2024 at 11:49 AM\\nSKU Barcode\\nSKU Barcode feature enables the User to enter /upload the list of barcodes to be assigned to the SKU’ s. These\\nBarcodes provide a method to track and store information about SKUs from individual items to large stocks of\\nmillions in W arehousing and Order management.  With the help of SKU Barcoding, we can track the movement of\\nSKUs in/out of the warehouse.\\nNavigation: Masters –> SKU Management –> SKU Barcode.\\nThere are two tabs on SKU Bar Code Create/ Edit screen -\\n1. SKU Barcode Create /Edit\\n 2. SKU Barcode Import\\n \\n \\nAction Button\\nFields Field Description\\nSearch Users can view/ search the existing Barcode from within this screen.\\nReset Users can reset the current applied filter by this button\\nDownload Users can export the data from this screen.\\nAdd New User can add/map the barcode by clicking on this screen.\\nSKU BARCODE CREA TE/ EDIT\\nThis section will enable you to enquire and search an already existing Barcodes and their detail. User can refine\\nthe search further by using filters as per requirement/s.\\nUser can take a download/export all the data present on Enquiry screen at any point of time.\\n Below are the fields based on which the barcodes can be searched.\\nFields Field Description\\nAction User can see the Audit by clicking on “i” icon and  can modify the existing one.\\nSKU Code This is SKU Code which is derive from SKU Master\\nSKU Name SKU Name\\nBarcode EAN code which maps with SKU\\nUOM Can be assign dif ferent UOM with dif ferent BarCode of SKU\\nBarcode T ype  \\nIs Active It shows the barcode is InActive or Active.\\nIs Default One Barcode can be set as default for any SKU\\nCase Size It shows the Case Size of that particular Barcode\\nSale Price Saleable price can be dif ferent of SKU based on its Bar Code\\nIs Saleable If Is Saleable checked means, that Bar Code can be order .', start_char_idx=None, end_char_idx=None, text_template='{metadata_str}\\n\\n{content}', metadata_template='{key}: {value}', metadata_seperator='\\n'),\n",
       " Document(id_='b7536aa8-5c8c-4eed-8f12-1a91077e90e8', embedding=None, metadata={'page_label': '2', 'file_name': '/Users/swapnildhamu/Developer/vin-ai/RAG/llamaindex_and_openAI/data/SKU Barcode _ Vinculum Knowledge Central.pdf', 'file_path': '/Users/swapnildhamu/Developer/vin-ai/RAG/llamaindex_and_openAI/data/SKU Barcode _ Vinculum Knowledge Central.pdf', 'file_type': 'application/pdf', 'file_size': 198334, 'creation_date': '2024-03-06', 'last_modified_date': '2024-03-06'}, excluded_embed_metadata_keys=['file_name', 'file_type', 'file_size', 'creation_date', 'last_modified_date', 'last_accessed_date'], excluded_llm_metadata_keys=['file_name', 'file_type', 'file_size', 'creation_date', 'last_modified_date', 'last_accessed_date'], relationships={}, text='06/03/2024, 17:04 SKU Barcode : Vinculum Knowledge Central\\nhttps://vinculumhelpdesk.freshdesk.com/support/solutions/articles/9000214575-sku-barcode 2/2 \\nUser can map the Barcode by click “Add New” button.\\nSKU Barcode Import\\nUser can import the barcodes from this section in bulk by uploading the CSV .\\n This CSV must be in the format of default template given here.\\nImport T emplate\\n', start_char_idx=None, end_char_idx=None, text_template='{metadata_str}\\n\\n{content}', metadata_template='{key}: {value}', metadata_seperator='\\n'),\n",
       " Document(id_='191fe3a8-f541-42cf-bbfb-3c6bdb07f8eb', embedding=None, metadata={'page_label': '1', 'file_name': '/Users/swapnildhamu/Developer/vin-ai/RAG/llamaindex_and_openAI/data/SKU Import _ Vinculum Knowledge Central.pdf', 'file_path': '/Users/swapnildhamu/Developer/vin-ai/RAG/llamaindex_and_openAI/data/SKU Import _ Vinculum Knowledge Central.pdf', 'file_type': 'application/pdf', 'file_size': 242159, 'creation_date': '2024-03-06', 'last_modified_date': '2024-03-03'}, excluded_embed_metadata_keys=['file_name', 'file_type', 'file_size', 'creation_date', 'last_modified_date', 'last_accessed_date'], excluded_llm_metadata_keys=['file_name', 'file_type', 'file_size', 'creation_date', 'last_modified_date', 'last_accessed_date'], relationships={}, text='03/03/2024, 12:06 SKU Import : Vinculum Knowledge Central\\nhttps://vinculumhelpdesk.freshdesk.com/support/solutions/articles/9000213260-sku-import 1/3SKU Import\\nModiﬁed on: Wed, 23 Mar, 2022 at 8:08 PM\\nSKU Import\\nIntroduction\\nThe SKU import module in Vin eRetail enables the user to import SKUs to the system in bulk using\\nthe CSV template file. It also allows to download the uploaded CSV file.\\nNavigation:  Master >> SKU Management >> SKU Import\\n SKU Import\\nThe SKU Import module consists of two sections:\\ni. Import\\nii. Download\\n \\nI. Import:\\xa0 This section allows the user to import the SKUs in Bulk via CSV template file.\\n', start_char_idx=None, end_char_idx=None, text_template='{metadata_str}\\n\\n{content}', metadata_template='{key}: {value}', metadata_seperator='\\n'),\n",
       " Document(id_='baff30dd-7a39-4fc1-9b91-701fdf2c643f', embedding=None, metadata={'page_label': '2', 'file_name': '/Users/swapnildhamu/Developer/vin-ai/RAG/llamaindex_and_openAI/data/SKU Import _ Vinculum Knowledge Central.pdf', 'file_path': '/Users/swapnildhamu/Developer/vin-ai/RAG/llamaindex_and_openAI/data/SKU Import _ Vinculum Knowledge Central.pdf', 'file_type': 'application/pdf', 'file_size': 242159, 'creation_date': '2024-03-06', 'last_modified_date': '2024-03-03'}, excluded_embed_metadata_keys=['file_name', 'file_type', 'file_size', 'creation_date', 'last_modified_date', 'last_accessed_date'], excluded_llm_metadata_keys=['file_name', 'file_type', 'file_size', 'creation_date', 'last_modified_date', 'last_accessed_date'], relationships={}, text='03/03/2024, 12:06 SKU Import : Vinculum Knowledge Central\\nhttps://vinculumhelpdesk.freshdesk.com/support/solutions/articles/9000213260-sku-import 2/3The following fields are available for the user to import the correct SKU details.\\na. Import Type: The user can define the purpose of the import by selecting any of the dropdown\\nchoices, which are:\\n1. Create/Update: To create or update the SKUs in bulk\\n2. Cost Price Update: To update the price of the SKUs in bulk\\n3. BOM Link: To import BOM SKUs in bulk\\n \\nb. Attribute Set *: User will select the attribute set for SKU import from here. The SKU imported\\nfrom here will be assigned to the selected attribute.\\n \\nc. Upload Template: User will select the appropriate CSV file to be imported, using the ‘Choose\\nFile’ option.\\n ‘Download Template’  option allows the user to download the CSV template file for the\\nselected ‘Import Type’.\\n**Note: Max 500 rows can be imported in an attempt of Import.  (However , only for a first time\\nimport of the SKUs, the no. of rows can be increased from backend at the request of the user)\\n \\n1. Download:\\xa0 This section allows the user to search and download the uploaded CSV file of\\nSKU import by first searching them based on File Status, file Upload Date and other similar\\ncriterion.\\n \\nAction Buttons\\nOn Import Section\\n1. IMPOR T: After selecting the Import Type, Attribute Set and Uploading the correct file, the\\nuser needs to click on the yellow coloured “Import” button to start the import process.\\n2. RESET : This is used to reset all the selections made on the screen.\\n \\nOn Download Section\\n1. SEARCH: This is used to display the list of uploads made by the user .\\n2. RESET : This is used to reset all the filters selected by the user .\\n ', start_char_idx=None, end_char_idx=None, text_template='{metadata_str}\\n\\n{content}', metadata_template='{key}: {value}', metadata_seperator='\\n'),\n",
       " Document(id_='8d1f0bdf-ddf6-41bf-908d-1770f7916ec9', embedding=None, metadata={'page_label': '3', 'file_name': '/Users/swapnildhamu/Developer/vin-ai/RAG/llamaindex_and_openAI/data/SKU Import _ Vinculum Knowledge Central.pdf', 'file_path': '/Users/swapnildhamu/Developer/vin-ai/RAG/llamaindex_and_openAI/data/SKU Import _ Vinculum Knowledge Central.pdf', 'file_type': 'application/pdf', 'file_size': 242159, 'creation_date': '2024-03-06', 'last_modified_date': '2024-03-03'}, excluded_embed_metadata_keys=['file_name', 'file_type', 'file_size', 'creation_date', 'last_modified_date', 'last_accessed_date'], excluded_llm_metadata_keys=['file_name', 'file_type', 'file_size', 'creation_date', 'last_modified_date', 'last_accessed_date'], relationships={}, text='03/03/2024, 12:06 SKU Import : Vinculum Knowledge Central\\nhttps://vinculumhelpdesk.freshdesk.com/support/solutions/articles/9000213260-sku-import 3/3SKU Import T emplate File (CSV)\\n', start_char_idx=None, end_char_idx=None, text_template='{metadata_str}\\n\\n{content}', metadata_template='{key}: {value}', metadata_seperator='\\n'),\n",
       " Document(id_='fdb21dce-6125-4066-ba90-9563b49ad417', embedding=None, metadata={'page_label': '1', 'file_name': '/Users/swapnildhamu/Developer/vin-ai/RAG/llamaindex_and_openAI/data/SKU Master _ Vinculum Knowledge Central.pdf', 'file_path': '/Users/swapnildhamu/Developer/vin-ai/RAG/llamaindex_and_openAI/data/SKU Master _ Vinculum Knowledge Central.pdf', 'file_type': 'application/pdf', 'file_size': 358209, 'creation_date': '2024-03-06', 'last_modified_date': '2024-03-03'}, excluded_embed_metadata_keys=['file_name', 'file_type', 'file_size', 'creation_date', 'last_modified_date', 'last_accessed_date'], excluded_llm_metadata_keys=['file_name', 'file_type', 'file_size', 'creation_date', 'last_modified_date', 'last_accessed_date'], relationships={}, text='03/03/2024, 12:05 SKU Master : Vinculum Knowledge Central\\nhttps://vinculumhelpdesk.freshdesk.com/support/solutions/articles/9000213659-sku-master 1/7SKU Master\\nModiﬁed on: Fri, 1 Apr, 2022 at 3:31 PM\\nSKU Master\\nIntroduction\\nA Stock Keeping Unit or SKU is a distinct type of item that can be purchased, sold, or tracked with a unique\\nalphanumeric code/scannable bar code printed on it or its packaging. This code contains all the attributes\\nassociated with that item-type that can distinguish it from other item-types. These attributes can be manufacturer\\nname, material used, color , size, warranty , etc. The term SKU is used by stores, e-commerce vendors,\\nwarehouses, product fulfilment centres and any other business in inventory management field.\\nSKU Master is a collection of all the SKUs and their details available in the system. A user can search and\\nenquire any SKU and its details using the SKU Master data.\\n \\nSKU Master in V in eRetail\\nThe SKU Master in V in eRetail enables users to enquire and search an already existing SKU & its details. The\\nusers can refine the search further by using available filters like ‘Classification’, ‘Brand’, ‘V endor ’, etc. There is\\nalso a provision to Download/Export all the data present on the SKU Enquiry screen.\\nVin eRetail also allows users to Add/Import new SKU and its details. There are 3 ways to do so -\\n1. Through APIs from PIM.\\n2. Through SKU Import screen for bulk import.\\n3. Through Add New button on the SKU Master screen.\\n \\nNavigation:  Master >> SKU Management >> SKU Master\\n', start_char_idx=None, end_char_idx=None, text_template='{metadata_str}\\n\\n{content}', metadata_template='{key}: {value}', metadata_seperator='\\n'),\n",
       " Document(id_='9b470b22-2469-4106-81c8-bf00203598b2', embedding=None, metadata={'page_label': '2', 'file_name': '/Users/swapnildhamu/Developer/vin-ai/RAG/llamaindex_and_openAI/data/SKU Master _ Vinculum Knowledge Central.pdf', 'file_path': '/Users/swapnildhamu/Developer/vin-ai/RAG/llamaindex_and_openAI/data/SKU Master _ Vinculum Knowledge Central.pdf', 'file_type': 'application/pdf', 'file_size': 358209, 'creation_date': '2024-03-06', 'last_modified_date': '2024-03-03'}, excluded_embed_metadata_keys=['file_name', 'file_type', 'file_size', 'creation_date', 'last_modified_date', 'last_accessed_date'], excluded_llm_metadata_keys=['file_name', 'file_type', 'file_size', 'creation_date', 'last_modified_date', 'last_accessed_date'], relationships={}, text='03/03/2024, 12:05 SKU Master : Vinculum Knowledge Central\\nhttps://vinculumhelpdesk.freshdesk.com/support/solutions/articles/9000213659-sku-master 2/7 \\nSKU Enquiry Screen\\nNavigating to SKU Master opens the SKU Enquiry screen.\\nOn SKU Enquiry screen, the following are the fields based on which the SKUs can be searched:\\nFields Field Description\\nSKU Code SKU code is the User defined code given to the SKU.\\nStyle It is used to identify ‘Style’  SKU from a ‘V ariant’  SKU.\\nSKU Name SKU name is the User defined name given to the SKU.\\nClassification This is used to classify a SKU. Ex: ‘Normal’, ‘BOM’, etc.\\nSize/Color This field gives details about the size and color of the SKU\\nMRP This field reflects the MRP  of the SKU\\nBase Cost This field reflects the cost of the SKU which is the amount at which it was procured.\\nSale PriceThis reflects the price of the SKU which is the amount at which it will be listed for\\nsale.\\nSKU Mfg Code It is the V endor SKU Code i.e. the code used by the vendor to identify the SKU.\\nPrimary V endor This is the primary vendor from whom the SKU is procured.\\nBrand Code This is the name of the brand of the SKU.\\nHierarchy Code This reflects the hierarchy to which the SKU belong.\\nAttribute SetThis is a user defined classification and can be added through the Manage Attribute\\nsection of eRetail.\\nStatus It reflects the status of the SKU as ‘Active’, ‘Inactive’  or ‘Deleted’\\nCreated By This reflects the name of the user that created the SKU.\\nCreated Date This reflects the date on which the SKU was created.\\nBack Order This is a Yes/No dropdown to identify the SKU if it is eligible for Back Orders.\\nTax Category This gives details about the tax applicable on the sale of the SKU (HSN code)\\n \\nAction Buttons\\n ', start_char_idx=None, end_char_idx=None, text_template='{metadata_str}\\n\\n{content}', metadata_template='{key}: {value}', metadata_seperator='\\n'),\n",
       " Document(id_='0599a56b-8ba2-48be-8903-0753318369a3', embedding=None, metadata={'page_label': '3', 'file_name': '/Users/swapnildhamu/Developer/vin-ai/RAG/llamaindex_and_openAI/data/SKU Master _ Vinculum Knowledge Central.pdf', 'file_path': '/Users/swapnildhamu/Developer/vin-ai/RAG/llamaindex_and_openAI/data/SKU Master _ Vinculum Knowledge Central.pdf', 'file_type': 'application/pdf', 'file_size': 358209, 'creation_date': '2024-03-06', 'last_modified_date': '2024-03-03'}, excluded_embed_metadata_keys=['file_name', 'file_type', 'file_size', 'creation_date', 'last_modified_date', 'last_accessed_date'], excluded_llm_metadata_keys=['file_name', 'file_type', 'file_size', 'creation_date', 'last_modified_date', 'last_accessed_date'], relationships={}, text='03/03/2024, 12:05 SKU Master : Vinculum Knowledge Central\\nhttps://vinculumhelpdesk.freshdesk.com/support/solutions/articles/9000213659-sku-master 3/7Action Buttons Description\\nSearchClicking on the search button without entering any filter criterion will populate the\\nlist of all the SKUs created so far based on default filter setting. User can further\\nnarrow down the search by using filter options to get any specific information.\\nResetReset button will refresh the filter fields to default settings, i.e. to an initial state to\\nstart fresh search.\\nAdvance SearchAdvance Search opens a set of new filters to search SKU.\\nHere the additional filters are ‘Site Location’, ‘Approved Status’, ‘V endor Type’ and\\n‘SKU Source’.\\nExportThis allows the user to take the export of the details visible on the screen in an\\nexcel template.\\nMetaData Export This allows the user to take the export of Metadata in an excel template.\\nAdd New Add new tab is used to create a new SKU in the system.\\n \\nAdd New\\nAfter clicking on the ‘Add New’  option, the following screen opens\\nThe SKU classification dropdown has the following options to choose from \\nOut of these options, the four major classifications are Gradable, Normal, Style and BOM. The rest of the\\nclassifications are generated by users as per their individual requirements.', start_char_idx=None, end_char_idx=None, text_template='{metadata_str}\\n\\n{content}', metadata_template='{key}: {value}', metadata_seperator='\\n'),\n",
       " Document(id_='e091ccf0-0b02-436b-9d5d-36e9e7ecee4f', embedding=None, metadata={'page_label': '4', 'file_name': '/Users/swapnildhamu/Developer/vin-ai/RAG/llamaindex_and_openAI/data/SKU Master _ Vinculum Knowledge Central.pdf', 'file_path': '/Users/swapnildhamu/Developer/vin-ai/RAG/llamaindex_and_openAI/data/SKU Master _ Vinculum Knowledge Central.pdf', 'file_type': 'application/pdf', 'file_size': 358209, 'creation_date': '2024-03-06', 'last_modified_date': '2024-03-03'}, excluded_embed_metadata_keys=['file_name', 'file_type', 'file_size', 'creation_date', 'last_modified_date', 'last_accessed_date'], excluded_llm_metadata_keys=['file_name', 'file_type', 'file_size', 'creation_date', 'last_modified_date', 'last_accessed_date'], relationships={}, text='03/03/2024, 12:05 SKU Master : Vinculum Knowledge Central\\nhttps://vinculumhelpdesk.freshdesk.com/support/solutions/articles/9000213659-sku-master 4/7Classifications Description\\nGradable This includes SKU that can be graded. Mostly used for Grocery .\\nNormalThis includes general physical SKU. It does not have any other attribute and\\nclassified feature added to it.\\nStyle \\n(and V ariant)\\n This includes SKUs that are available in various size and color . It is mostly used for\\nFootwear and Apparels. The same SKU in dif ferent size or color are then auto-\\nclassified as ‘V ariants’  of that Style.\\nBOMBOM SKU are those in which dif ferent SKUs that are already created in the system\\nare bundled up together in a defined ratio form a new single SKU.\\nAvailable for Marketplace subscription checkbox: Marketplace subscription means making the SKU available\\nvirtually .\\n \\nSKU Create/Edit\\nAfter selecting a classification from the given options, the following screen will be displayed\\nOn this screen, below tabs are present to capture all vendor related information.\\nSKU Details\\nUser Defined Field\\nAttributes Detail\\nOther Details\\n ARS Details\\n \\nSKU DET AILS:  This is further divided into four sections.\\ni. Product Detail\\nii. Pricing Detail\\niii. Dimension Detail\\niv. SKU Image\\n \\nv. Product Detail  section will consist of all the primary information related to the SKU.\\nSKU Code: Any unique code which a user gives to the SKU while creating it. This SKU code is a mandatory field\\nand once created and saved cannot be changed and must be a unique number .\\nSKU Name & SKU Short Name: Enter the SKU name & Short name.\\nSKU Classification: SKU type out of the four types will be defined here initially when you click on create SKU\\nbutton.\\nStyle: This will reflect the Style SKU of the V ariant\\nSKU Source: To mention the source of SKU here by selecting from the drop down whether it is a consignment\\nproduct or an outright purchase.\\nAttribute Set; Size Group; Size; Color; Material: All these fields input values which appear in drop down are\\ncreated & configured by user from the Other Masters of the Master section.', start_char_idx=None, end_char_idx=None, text_template='{metadata_str}\\n\\n{content}', metadata_template='{key}: {value}', metadata_seperator='\\n'),\n",
       " Document(id_='2c9b14b3-92ef-4b0a-a83a-74b418c5313f', embedding=None, metadata={'page_label': '5', 'file_name': '/Users/swapnildhamu/Developer/vin-ai/RAG/llamaindex_and_openAI/data/SKU Master _ Vinculum Knowledge Central.pdf', 'file_path': '/Users/swapnildhamu/Developer/vin-ai/RAG/llamaindex_and_openAI/data/SKU Master _ Vinculum Knowledge Central.pdf', 'file_type': 'application/pdf', 'file_size': 358209, 'creation_date': '2024-03-06', 'last_modified_date': '2024-03-03'}, excluded_embed_metadata_keys=['file_name', 'file_type', 'file_size', 'creation_date', 'last_modified_date', 'last_accessed_date'], excluded_llm_metadata_keys=['file_name', 'file_type', 'file_size', 'creation_date', 'last_modified_date', 'last_accessed_date'], relationships={}, text='03/03/2024, 12:05 SKU Master : Vinculum Knowledge Central\\nhttps://vinculumhelpdesk.freshdesk.com/support/solutions/articles/9000213659-sku-master 5/7Primary UPC/EAN: UPC (Universal Product Code) or EAN (European Product Code) are the bar code for the\\nSKU which will be entered here. Multiple barcodes can be supported by the single SKU.\\nBase UOM:  UOM is the Unit of Measurement in which the SKU will be measured or weighed which is used in\\nadvanced Shipment Notice, Invoice, Purchase Order documents etc.\\nHierarchy Code: Hierarchy code helps user to configure merchandising hierarchy for SKU from the list as they\\ncould be the sub category or sub-sub category of the SKU.\\nVendor SKU Code: The SKU code defined by the V endor can be entered in this field.\\nPrimary V endor: Every SKU in system is linked to a Primary vendor which is a mandatory field. There can be\\nmultiple other secondary vendors also linked to the same SKU.\\nVendor Name: This reflects the name of the V endor .\\nIs Approved: Mention the status of the V endor .\\nStatus: It is used to set the status of the SKU as ‘Active’, ‘Inactive’  or ‘Deleted’\\nCountry of Origin: Enter the country of origin of SKU by choosing from the down.\\nBrand Code:  Enter the name of the brand.\\nLink To Store: This is used to link the SKU to dif ferent stores, where it will be available for sale.\\nBack order & Back Order Quantity: This is used to make SKU eligible for back order and to set the back order\\nquantity .\\n1. Pricing Detail: In this section below given pricing related details of the SKU will be entered.\\n1. MSRP/MRP\\n2. Sale Price\\n3. Base Cost\\n4. Std Margin %\\n5. Tax Category\\n6. SKU Level Tax\\n1. Dimension Detail: All the below given dimension criterion will be filled in with respect to each SKU as this\\ninformation is further required for the Shipping purpose.\\n1. Height (CM)\\n2. Length (CM)\\n3. Width (CM)\\n4. Cube\\n5. Weight (KG)\\n1. Sku Image:  Images of the SKU can be entered in dif ferent format through this section.\\n1. Image URL\\n2. Product Page URL\\n3. Image files\\nUSER DEFINED FIELD: These are the custom fields which can be created by the User for SKU in case of any\\nextra information required.\\nATTRIBUTES DET AIL: This section allows user to fill data related to the selection made on “SKU Detail” screen\\nunder “Attribute Set”.\\nOTHER DET AILS: Other Detail section is further divided into two sections:\\ni. Detail 1\\nii. Detail 2', start_char_idx=None, end_char_idx=None, text_template='{metadata_str}\\n\\n{content}', metadata_template='{key}: {value}', metadata_seperator='\\n'),\n",
       " Document(id_='32b18959-ec98-410f-b0b6-008a2c29f45d', embedding=None, metadata={'page_label': '6', 'file_name': '/Users/swapnildhamu/Developer/vin-ai/RAG/llamaindex_and_openAI/data/SKU Master _ Vinculum Knowledge Central.pdf', 'file_path': '/Users/swapnildhamu/Developer/vin-ai/RAG/llamaindex_and_openAI/data/SKU Master _ Vinculum Knowledge Central.pdf', 'file_type': 'application/pdf', 'file_size': 358209, 'creation_date': '2024-03-06', 'last_modified_date': '2024-03-03'}, excluded_embed_metadata_keys=['file_name', 'file_type', 'file_size', 'creation_date', 'last_modified_date', 'last_accessed_date'], excluded_llm_metadata_keys=['file_name', 'file_type', 'file_size', 'creation_date', 'last_modified_date', 'last_accessed_date'], relationships={}, text='03/03/2024, 12:05 SKU Master : Vinculum Knowledge Central\\nhttps://vinculumhelpdesk.freshdesk.com/support/solutions/articles/9000213659-sku-master 6/7Detail 1: This section requires the user to input all the details of the product related to its shelf life. These details\\ncan be used to define validations at the time of Inbound and Picking.\\nFields Field Description\\nShelf Life This is used to enable and track shelf life for the SKU. \\nShelf Life T ypeUser needs to select what type of date is to be tracked for the SKU (Expiry date or\\nMfg. date)\\nTotal Shelf LifeThis field is used to enter the no. of days for which the SKU can be stored before it\\nbecomes unsafe to use. (Expiry Date)\\nShelf Life on ReceivingThis reflects the min. no. of days left for Expiry at inbound. If the shelf life of SKU is\\nless than this no. then the system will not allow to Inbound it.\\nShelf Life on PickingThis reflects the min. no. of days left for Expiry at the time of Picking. If the shelf life\\nof SKU is less than this no. then the system will not allow to pick it\\nSerial T racking When this is enabled, the system will track the SKU based on its serial no.\\nStackable .When this is enabled, the SKUs can be stacked together .\\nHazardous This is used to mark the SKU as Hazardous.\\nPoisonous This is used to mark the SKU as Poisonous.\\nIs Purchasable User can purchase/raise a PO for the SKU only when this field is enabled.\\nIs Saleable The SKU is made available for selling only when this field is enabled.\\nIs Stocked  When this is enabled, the SKU should be stocked.\\n \\nDetail 2: This section requires the user to input all the details of the product related to the SKU rotation and\\nvalidation.\\nFields Field Description\\nLottable V alidation This is used to define the Lottable V alidation, applicable for the SKU.\\nSKU RotationThis is used to select the SKU allocation strategy , which can be FEFO(First Expire\\nFirst Out), FIFO(First In First Out) or LIFO(Last In First Out). Ex: for FEFO the SKU\\nwith min. shelf life will be allocated first .\\nRotate By It is used to select the attribute based on which the SKU will be allocated.\\nRecv . Validation Code This is used to define the validations applicable at the time of Inbound.\\nPicking InstructionsThis is used to select the standard instructions that need to be followed while\\npicking the SKU.\\nShipping InstructionsThis is used to select the standard instructions that need to be followed while\\nshipping the SKU.\\nThreshold Alert\\nRequiredThis is enabled to set an alert when the SKU qty falls below the threshold.\\nThreshold Qty The user can enter the threshold qty to set up the threshold alert.\\nFullfilment T ype This is used to select the Fullfilment Type for procuring the SKU.', start_char_idx=None, end_char_idx=None, text_template='{metadata_str}\\n\\n{content}', metadata_template='{key}: {value}', metadata_seperator='\\n'),\n",
       " Document(id_='d663f474-0598-4a6d-93aa-d8ee9894ba95', embedding=None, metadata={'page_label': '7', 'file_name': '/Users/swapnildhamu/Developer/vin-ai/RAG/llamaindex_and_openAI/data/SKU Master _ Vinculum Knowledge Central.pdf', 'file_path': '/Users/swapnildhamu/Developer/vin-ai/RAG/llamaindex_and_openAI/data/SKU Master _ Vinculum Knowledge Central.pdf', 'file_type': 'application/pdf', 'file_size': 358209, 'creation_date': '2024-03-06', 'last_modified_date': '2024-03-03'}, excluded_embed_metadata_keys=['file_name', 'file_type', 'file_size', 'creation_date', 'last_modified_date', 'last_accessed_date'], excluded_llm_metadata_keys=['file_name', 'file_type', 'file_size', 'creation_date', 'last_modified_date', 'last_accessed_date'], relationships={}, text='03/03/2024, 12:05 SKU Master : Vinculum Knowledge Central\\nhttps://vinculumhelpdesk.freshdesk.com/support/solutions/articles/9000213659-sku-master 7/7Shipping Charges This reflects the charges required for shipping the SKU.\\nHandling Charges This reflects the charges required for handling the SKU.\\nDef Source WHThis is used to define the warehouse from where the SKU will be\\nsourced/procured.\\nIs Uniquebarcode When this is enabled, the system will maintain the USN for the SKU.\\nIs IpcAllowed This is enabled for cross border fullfilment.\\nIs Repack AllowedThis is enabled for SKUs that need to be unpacked and then repacked into smaller\\npacks. Ex: grocery\\nMinimum T ransfer Qty This reflects the min. qty of the SKU which is required to perform ST O.\\nTransfer Unit FactorThe qty for which ST O is to be created should be in the multiples of transfer unit\\nfactor . Ex: if it is 5 then ST O qty can only be 5,10,15,20,25,etc\\n \\nARS DET AILS: Auto Replenishment System or ARS is used for automatic purchase order creation and auto-\\ndelivery of products. In this section user needs to check if the ARS is required, and then mention the ARS method\\nand stock details.\\nUser needs to enable the checkbox and the rest details to be updated in the ARS screen. (Please refer to ARS\\ndocumentation)\\nVARIANTS: This section is accessible only for “Style” classification of SKU. In this section user can add and fill\\ndetails of dif ferent variant SKUs to the main Style SKU.\\nBUNDLED ARTICLE: This section is accessible only for “BOM” classification of SKU. In this section the user can\\nadd multiple SKUs to create a new Bundled SKU. The user also has the option to select the ratio in which the\\nSKUs need to be bundled to create the new SKU.\\n \\nEdit Existing SKU\\nTo edit the already existing SKU in the system, the user needs to navigate to the SKU Enquiry screen and click\\non the ‘Blue’  colored SKU code. This will open the SKU Create/Edit screen, where the user can edit the SKU\\ndetails.\\n', start_char_idx=None, end_char_idx=None, text_template='{metadata_str}\\n\\n{content}', metadata_template='{key}: {value}', metadata_seperator='\\n')]"
      ]
     },
     "execution_count": 4,
     "metadata": {},
     "output_type": "execute_result"
    }
   ],
   "source": [
    "documents\n"
   ]
  },
  {
   "cell_type": "code",
   "execution_count": 5,
   "metadata": {},
   "outputs": [
    {
     "name": "stderr",
     "output_type": "stream",
     "text": [
      "/Users/swapnildhamu/Developer/vin-ai/.venv/lib/python3.12/site-packages/tqdm/auto.py:21: TqdmWarning: IProgress not found. Please update jupyter and ipywidgets. See https://ipywidgets.readthedocs.io/en/stable/user_install.html\n",
      "  from .autonotebook import tqdm as notebook_tqdm\n",
      "Generating embeddings: 100%|██████████| 12/12 [00:01<00:00,  6.68it/s]\n"
     ]
    }
   ],
   "source": [
    "index=VectorStoreIndex(documents, show_progress=True)"
   ]
  },
  {
   "cell_type": "code",
   "execution_count": 6,
   "metadata": {},
   "outputs": [
    {
     "data": {
      "text/plain": [
       "<llama_index.core.indices.vector_store.base.VectorStoreIndex at 0x174a21f10>"
      ]
     },
     "execution_count": 6,
     "metadata": {},
     "output_type": "execute_result"
    }
   ],
   "source": [
    "index"
   ]
  },
  {
   "cell_type": "code",
   "execution_count": 7,
   "metadata": {},
   "outputs": [],
   "source": [
    "query_engine=index.as_query_engine() "
   ]
  },
  {
   "cell_type": "code",
   "execution_count": 8,
   "metadata": {},
   "outputs": [
    {
     "data": {
      "text/plain": [
       "<llama_index.core.query_engine.retriever_query_engine.RetrieverQueryEngine at 0x178f57f20>"
      ]
     },
     "execution_count": 8,
     "metadata": {},
     "output_type": "execute_result"
    }
   ],
   "source": [
    "query_engine"
   ]
  },
  {
   "cell_type": "code",
   "execution_count": 17,
   "metadata": {},
   "outputs": [],
   "source": [
    "from llama_index.core.retrievers import VectorIndexRetriever\n",
    "from llama_index.core.query_engine import RetrieverQueryEngine\n",
    "from llama_index.core.postprocessor import SimilarityPostprocessor\n",
    "\n",
    "\n",
    "retriever=VectorIndexRetriever(index=index)\n",
    "\n",
    "\n",
    "postProcessor=SimilarityPostprocessor(similarity_cutoff=0.85)\n",
    "\n",
    "query_engine=RetrieverQueryEngine(retriever=retriever,node_postprocessors=[postProcessor])"
   ]
  },
  {
   "cell_type": "code",
   "execution_count": 12,
   "metadata": {},
   "outputs": [],
   "source": [
    "response=query_engine.query(\"Want to add new SKU’s/ Items Please assist?\")"
   ]
  },
  {
   "cell_type": "code",
   "execution_count": 13,
   "metadata": {},
   "outputs": [
    {
     "name": "stdout",
     "output_type": "stream",
     "text": [
      "Final Response: To add new SKUs or items, you can use the \"Add New\"\n",
      "option in the system. After clicking on this option, a screen will\n",
      "open where you can choose the SKU classification from the dropdown\n",
      "menu. The major classifications available are Gradable, Normal, Style,\n",
      "and BOM. You can select the appropriate classification based on your\n",
      "requirements and proceed with creating the new SKU or item.\n",
      "______________________________________________________________________\n",
      "Source Node 1/3\n",
      "Node ID: 0599a56b-8ba2-48be-8903-0753318369a3\n",
      "Similarity: 0.8314592697353788\n",
      "Text: 03/03/2024, 12:05 SKU Master : Vinculum Knowledge Central https:\n",
      "//vinculumhelpdesk.freshdesk.com/support/solutions/articles/9000213659\n",
      "-sku-master 3/7Action Buttons Description SearchClicking on the search\n",
      "button without entering any filter criterion will populate the list of\n",
      "all the SKUs created so far based on default filter setting. User can\n",
      "f...\n",
      "______________________________________________________________________\n",
      "Source Node 2/3\n",
      "Node ID: d663f474-0598-4a6d-93aa-d8ee9894ba95\n",
      "Similarity: 0.8296910110281119\n",
      "Text: 03/03/2024, 12:05 SKU Master : Vinculum Knowledge Central https:\n",
      "//vinculumhelpdesk.freshdesk.com/support/solutions/articles/9000213659\n",
      "-sku-master 7/7Shipping Charges This reflects the charges required for\n",
      "shipping the SKU. Handling Charges This reflects the charges required\n",
      "for handling the SKU. Def Source WHThis is used to define the\n",
      "warehouse ...\n",
      "______________________________________________________________________\n",
      "Source Node 3/3\n",
      "Node ID: baff30dd-7a39-4fc1-9b91-701fdf2c643f\n",
      "Similarity: 0.8209076590180499\n",
      "Text: 03/03/2024, 12:06 SKU Import : Vinculum Knowledge Central https:\n",
      "//vinculumhelpdesk.freshdesk.com/support/solutions/articles/9000213260\n",
      "-sku-import 2/3The following fields are available for the user to\n",
      "import the correct SKU details. a. Import Type: The user can define\n",
      "the purpose of the import by selecting any of the dropdown choices,\n",
      "which are: ...\n"
     ]
    }
   ],
   "source": [
    "from llama_index.core.response.pprint_utils import pprint_response\n",
    "pprint_response(response,show_source=True)"
   ]
  },
  {
   "cell_type": "code",
   "execution_count": 10,
   "metadata": {},
   "outputs": [
    {
     "name": "stdout",
     "output_type": "stream",
     "text": [
      "To edit any SKU field, you need to navigate to the SKU Enquiry screen and click on the ‘Blue’ colored SKU code. This action will open the SKU Create/Edit screen, where you can make the necessary changes to the SKU details.\n"
     ]
    }
   ],
   "source": [
    "print(response)"
   ]
  },
  {
   "cell_type": "code",
   "execution_count": null,
   "metadata": {},
   "outputs": [],
   "source": []
  },
  {
   "cell_type": "markdown",
   "metadata": {},
   "source": [
    "## Stroing the index"
   ]
  },
  {
   "cell_type": "code",
   "execution_count": 19,
   "metadata": {},
   "outputs": [
    {
     "name": "stdout",
     "output_type": "stream",
     "text": [
      "A Stock Keeping Unit or SKU is a distinct type of item that can be purchased, sold, or tracked with a unique alphanumeric code/scannable bar code printed on it or its packaging. This code contains all the attributes associated with that item-type that can distinguish it from other item-types. These attributes can be manufacturer name, material used, color, size, warranty, etc. The term SKU is used by stores, e-commerce vendors, warehouses, product fulfillment centers, and any other business in inventory management field.\n",
      "user: What are SKU?\n",
      "Assistant: A Stock Keeping Unit or SKU is a distinct type of item that can be purchased, sold, or tracked with a unique alphanumeric code/scannable bar code printed on it or its packaging. This code contains all the attributes associated with that item-type that can distinguish it from other item-types. These attributes can be manufacturer name, material used, color, size, warranty, etc. The term SKU is used by stores, e-commerce vendors, warehouses, product fulfillment centers, and any other business in the inventory management field.\n",
      "\n",
      "user: Want to add new SKU’s/ Items Please assist?\n",
      "Assistant: To add new SKUs or items, you can click on the 'Add New' tab in the system. This will open a screen where you can choose the SKU classification from options such as Gradable, Normal, Style, and BOM. After selecting the classification, you can proceed to create the new SKU by entering the necessary details as per your requirements.\n",
      "\n",
      "user: How can we update the SKU details like SKU Name, Price, Description in Bulk?\n",
      "Assistant: To update the SKU details like SKU Name, Price, and Description in bulk, the user can follow these steps:\n",
      "1. Select the appropriate 'Import Type' from the dropdown choices provided, such as 'Create/Update' for bulk updates.\n",
      "2. Choose the desired 'Attribute Set' for SKU import.\n",
      "3. Upload the CSV file containing the updated SKU details by using the 'Choose File' option.\n",
      "4. Click on the yellow 'Import' button to start the import process.\n",
      "5. Ensure that the CSV file follows the template format for successful bulk update of SKU details.\n",
      "\n",
      "user: Getting Error as Color not available while uploading item master?\n",
      "Assistant: The error regarding color not being available while uploading the item master could be due to the fact that the field for color might be a required field in the system where the item master is being uploaded. Make sure to provide the necessary color information for each item being uploaded to avoid this error.\n",
      "\n",
      "user: Getting Error as UOM not available while uploading item master?\n",
      "Assistant: The UOM (Unit of Measurement) field is essential for specifying how the SKU will be measured or weighed in various documents. Make sure to enter the appropriate UOM for each SKU when uploading the item master to avoid encountering the error related to UOM not being available.\n",
      "\n",
      "user: Getting Error as size not available while uploading item master?\n",
      "Assistant: The error regarding size not being available while uploading the item master could be due to the required field for size information not being filled or included in the data being uploaded. Make sure that the size details are provided for each item in the item master data before uploading to avoid this error.\n",
      "\n",
      "user: Getting Error as Hierarchy not available while uploading item master?\n",
      "Assistant: The error regarding Hierarchy not being available while uploading the item master could be due to the absence of the required Hierarchy Code field being filled in or selected during the item master upload process. Make sure to include the Hierarchy Code information for each item being uploaded to avoid this error.\n",
      "\n",
      "user: Getting Error as HSN Code not available while uploading item master?\n",
      "Assistant: Ensure that the Tax Category field is filled with the appropriate HSN code while uploading the item master. This field provides details about the tax applicable on the sale of the SKU, including the required HSN code.\n",
      "\n",
      "user: Getting Error as Brand not available while uploading item master?\n",
      "Assistant: The error message \"Brand not available while uploading item master\" typically occurs when the brand field is mandatory for uploading the item master data, but the brand information is missing or not provided in the data being uploaded. To resolve this error, ensure that the brand field is filled out correctly with the appropriate brand information before uploading the item master data.\n",
      "\n",
      "user: Getting Error as Upload SKU within assigned limit\n",
      "Assistant: The error message \"Getting Error as Upload SKU within assigned limit\" indicates that the user is trying to upload more SKUs than the maximum allowed limit. The system restricts the number of SKUs that can be imported at once to a maximum of 500 rows. If the user is encountering this error, they should ensure that the number of SKUs being uploaded does not exceed this limit to successfully import the SKUs.\n",
      "\n",
      "user: Getting error as “Excel Cell [D9] must not exceed the length above 50 characters” while uploading the SKU master\n",
      "Assistant: The error message \"Excel Cell [D9] must not exceed the length above 50 characters\" indicates that the data being entered into cell D9 of the Excel sheet during the SKU master upload process is too long. To resolve this error, you need to ensure that the content in cell D9 does not exceed 50 characters. Shorten the text or split it into multiple cells if necessary to meet this character limit.\n",
      "\n",
      "user: Getting error as “Excel Cell [G9] must not exceed the length above 200 characters” while uploading the SKU master\n",
      "Assistant: The error message \"Excel Cell [G9] must not exceed the length above 200 characters\" indicates that the content in cell G9 of the Excel file being used to upload the SKU master data is too long. To resolve this error, you need to shorten the content in cell G9 so that it does not exceed 200 characters. This can be achieved by editing the information in cell G9 to make it more concise and within the character limit specified.\n",
      "\n",
      "user: Getting Invalid Template Error\n",
      "Assistant: The error \"Getting Invalid Template Error\" may occur if the CSV file being uploaded for import does not match the required format specified by the system. It is important to ensure that the CSV file follows the default template provided for the import process to avoid encountering this error.\n",
      "\n",
      "user: Getting error as Duplicate SKU code while uploading item master\n",
      "Assistant: The error of \"Duplicate SKU code\" typically occurs when the system identifies that the SKU code being uploaded already exists in the database. To resolve this issue, you should ensure that each SKU code is unique and not already present in the system. Double-check the SKU codes to avoid any duplication before uploading the item master data.\n",
      "\n",
      "user: Error due to wrong format.\n",
      "Assistant: The error is likely occurring because the CSV file being used is not in the correct format as specified by the default template provided for importing barcodes.\n",
      "\n",
      "user: Server Encountered Error while uploading the File\n",
      "Assistant: Ensure that the file being uploaded is in the correct format as specified in the default template. Double-check that the file meets all the required specifications before attempting to upload it again.\n",
      "\n",
      "user: File uploaded successfully but showing under processing.\n",
      "Assistant: The file may still be under processing due to the system needing time to import and process the data. It is advisable to wait for a while to allow the system to complete the import process. If the file remains in the \"under processing\" status for an extended period, it would be recommended to reach out to the appropriate support channels for further assistance.\n",
      "\n",
      "user: Want to upload SKU Barcode / EAN code in the system against uploaded SKU’s\n",
      "Assistant: To upload SKU Barcode / EAN code in the system against uploaded SKUs, you can utilize the SKU Barcode feature. This feature enables users to enter or upload a list of barcodes to be assigned to the SKUs. These barcodes provide a method to track and store information about SKUs, aiding in the management of individual items or large stocks in warehousing and order management. By navigating to Masters -> SKU Management -> SKU Barcode, you can access the SKU Barcode Create/Edit section where you can add/map the barcode by clicking on the screen. This allows for the tracking of SKU movement in and out of the warehouse efficiently.\n",
      "\n",
      "user: Facing Error as EAN/barcode no is already mapped with SKU while uploading the SKU master.\n",
      "Assistant: The error is likely occurring because the EAN/barcode number being uploaded is already associated with a SKU in the system.\n",
      "\n",
      "user: Getting an error as “This SKU is not a valid Sku” while uploading the SKU barcode.\n",
      "Assistant: The error message \"This SKU is not a valid SKU\" while uploading the SKU barcode could be due to an issue with the SKU code itself. It is possible that the SKU code being entered does not match any existing SKU in the system, leading to the error message. Double-check the SKU code being entered and ensure it matches a valid SKU in the system to resolve this error.\n",
      "\n"
     ]
    }
   ],
   "source": [
    "import os.path\n",
    "from llama_index.core import (\n",
    "    VectorStoreIndex,\n",
    "    SimpleDirectoryReader,\n",
    "    StorageContext,\n",
    "    load_index_from_storage\n",
    ")\n",
    "\n",
    "PERSIST_DIR = \"./storage\"\n",
    "if not os.path.exists(PERSIST_DIR):\n",
    "    # load the documents and create the index\n",
    "    documents = SimpleDirectoryReader(\"data\").load_data()\n",
    "    index = VectorStoreIndex.from_documents(documents)\n",
    "    # store it for later\n",
    "    index.storage_context.persist(persist_dir=PERSIST_DIR)\n",
    "else:\n",
    "    # load the existing index\n",
    "    storage_context = StorageContext.from_defaults(persist_dir=PERSIST_DIR)\n",
    "    index = load_index_from_storage(storage_context)\n",
    "\n",
    "# either way we can now query the index\n",
    "query_engine = index.as_query_engine()\n",
    "response = query_engine.query(\"What are SKU?\")\n",
    "print(response)\n",
    "# Want to add new SKU’s/ Items Please assist?\n",
    "# How can we update the SKU details like SKU Name, Price, Description in Bulk?\n",
    "# Getting Error as Color not available while uploading item master?\n",
    "# Getting Error as UOM not available while uploading item master?\n",
    "# Getting Error as size not available while uploading item master?\n",
    "# Getting Error as Hierarchy not available while uploading item master?\n",
    "# Getting Error as HSN Code not available while uploading item master?\n",
    "# Getting Error as Brand not available while uploading item master?\n",
    "# Getting Error as Upload SKU within assigned limit\n",
    "# Getting error as “Excel Cell [D9] must not exceed the length above 50 characters” while uploading the SKU master\n",
    "# Getting error as “Excel Cell [G9] must not exceed the length above 200 characters” while uploading the SKU master\n",
    "# Getting Invalid Template Error\n",
    "# Getting error as Duplicate SKU code while uploading item master\n",
    "# Error due to wrong format.\n",
    "# Server Encountered Error while uploading the File\n",
    "# File uploaded successfully but showing under processing.\n",
    "# Want to upload SKU Barcode / EAN code in the system against uploaded SKU’s\n",
    "# Facing Error as EAN/barcode no is already mapped with SKU while uploading the SKU master.\n",
    "# Getting an error as “This SKU is not a valid Sku” while uploading the SKU barcode.\n",
    "queries=[\n",
    "    \"What are SKU?\",\n",
    "    \"Want to add new SKU’s/ Items Please assist?\",\n",
    "    \"How can we update the SKU details like SKU Name, Price, Description in Bulk?\",\n",
    "    \"Getting Error as Color not available while uploading item master?\",\n",
    "    \"Getting Error as UOM not available while uploading item master?\",\n",
    "    \"Getting Error as size not available while uploading item master?\",\n",
    "    \"Getting Error as Hierarchy not available while uploading item master?\",\n",
    "    \"Getting Error as HSN Code not available while uploading item master?\",\n",
    "    \"Getting Error as Brand not available while uploading item master?\",\n",
    "    \"Getting Error as Upload SKU within assigned limit\",\n",
    "    \"Getting error as “Excel Cell [D9] must not exceed the length above 50 characters” while uploading the SKU master\",\n",
    "    \"Getting error as “Excel Cell [G9] must not exceed the length above 200 characters” while uploading the SKU master\",\n",
    "    \"Getting Invalid Template Error\",\n",
    "    \"Getting error as Duplicate SKU code while uploading item master\",\n",
    "    \"Error due to wrong format.\",\n",
    "    \"Server Encountered Error while uploading the File\",\n",
    "    \"File uploaded successfully but showing under processing.\",\n",
    "    \"Want to upload SKU Barcode / EAN code in the system against uploaded SKU’s\",\n",
    "    \"Facing Error as EAN/barcode no is already mapped with SKU while uploading the SKU master.\",\n",
    "    \"Getting an error as “This SKU is not a valid Sku” while uploading the SKU barcode.\"\n",
    "]\n",
    "for query in queries:\n",
    "    response = query_engine.query(query)\n",
    "    print(f\"user: {query}\")\n",
    "    # pprint_response(response, show_source=True)\n",
    "    print(f\"Assistant: {response}\")\n",
    "    print()"
   ]
  },
  {
   "cell_type": "code",
   "execution_count": 71,
   "metadata": {},
   "outputs": [
    {
     "name": "stdout",
     "output_type": "stream",
     "text": [
      "Loaded index from storage\n",
      "The SKU Import module is a feature in Vin eRetail that allows users to import SKUs in bulk using a CSV template file. It consists of two sections: Import and Download. The Import section enables users to import SKUs in bulk by selecting the Import Type, Attribute Set, and uploading the correct CSV file. The Download section allows users to search and download the uploaded CSV file of SKU imports based on various criteria.\n"
     ]
    }
   ],
   "source": [
    "import os.path\n",
    "from llama_index.core import (\n",
    "    VectorStoreIndex,\n",
    "    SimpleDirectoryReader,\n",
    "    StorageContext,\n",
    "    load_index_from_storage\n",
    ")\n",
    "\n",
    "PERSIST_DIR = \"./storage\"\n",
    "if not os.path.exists(PERSIST_DIR):\n",
    "    # load the documents and create the index\n",
    "    documents = SimpleDirectoryReader(\"data\").load_data()\n",
    "    index = VectorStoreIndex.from_documents(documents)\n",
    "    # store it for later\n",
    "    index.storage_context.persist(persist_dir=PERSIST_DIR)\n",
    "    print(\"Created and stored index\")\n",
    "else:\n",
    "    # load the existing index\n",
    "    storage_context = StorageContext.from_defaults(persist_dir=PERSIST_DIR)\n",
    "    index = load_index_from_storage(storage_context)\n",
    "    print(\"Loaded index from storage\")\n",
    "\n",
    "# either way we can now query the index\n",
    "query_engine = index.as_query_engine()\n",
    "response = query_engine.query(\"What is SKU Import module?\")\n",
    "print(response)"
   ]
  },
  {
   "cell_type": "code",
   "execution_count": null,
   "metadata": {},
   "outputs": [],
   "source": []
  }
 ],
 "metadata": {
  "kernelspec": {
   "display_name": ".venv",
   "language": "python",
   "name": "python3"
  },
  "language_info": {
   "codemirror_mode": {
    "name": "ipython",
    "version": 3
   },
   "file_extension": ".py",
   "mimetype": "text/x-python",
   "name": "python",
   "nbconvert_exporter": "python",
   "pygments_lexer": "ipython3",
   "version": "3.12.0"
  }
 },
 "nbformat": 4,
 "nbformat_minor": 2
}
