{
 "cells": [
  {
   "cell_type": "code",
   "execution_count": 16,
   "metadata": {},
   "outputs": [
    {
     "data": {
      "text/plain": [
       "True"
      ]
     },
     "execution_count": 16,
     "metadata": {},
     "output_type": "execute_result"
    }
   ],
   "source": [
    "import os\n",
    "from dotenv import load_dotenv\n",
    "load_dotenv()"
   ]
  },
  {
   "cell_type": "code",
   "execution_count": 17,
   "metadata": {},
   "outputs": [],
   "source": [
    "os.environ[\"OPENAI_API_KEY\"]=os.getenv(\"OPENAI_API_KEY\")\n"
   ]
  },
  {
   "cell_type": "code",
   "execution_count": 18,
   "metadata": {},
   "outputs": [],
   "source": [
    "from llama_index.core import VectorStoreIndex, SimpleDirectoryReader\n",
    "documents=SimpleDirectoryReader(\"data\").load_data()"
   ]
  },
  {
   "cell_type": "code",
   "execution_count": 19,
   "metadata": {},
   "outputs": [
    {
     "data": {
      "text/plain": [
       "[Document(id_='79619a5a-cba8-4295-abb4-2869360d956f', embedding=None, metadata={'page_label': '1', 'file_name': '/Users/swapnildhamu/Developer/vin-ai/RAG/llamaindex_and_openAI/data/Customer Master _ Vinculum Knowledge Central.pdf', 'file_path': '/Users/swapnildhamu/Developer/vin-ai/RAG/llamaindex_and_openAI/data/Customer Master _ Vinculum Knowledge Central.pdf', 'file_type': 'application/pdf', 'file_size': 456124, 'creation_date': '2024-03-11', 'last_modified_date': '2024-03-11'}, excluded_embed_metadata_keys=['file_name', 'file_type', 'file_size', 'creation_date', 'last_modified_date', 'last_accessed_date'], excluded_llm_metadata_keys=['file_name', 'file_type', 'file_size', 'creation_date', 'last_modified_date', 'last_accessed_date'], relationships={}, text='11/03/2024, 15:48 Customer Master : Vinculum Knowledge Central\\nhttps://vinculumhelpdesk.freshdesk.com/support/solutions/articles/9000212663-customer-master 1/4Customer Master\\nModiﬁed on: Wed, 31 Jan, 2024 at 6:03 PM\\nCustomer Master  \\nIn Vin eRetail, the Customer Master module is pivotal for systems dealing with orders and returns, placing\\ncustomers at the forefront. Each customer is identified by a unique customer code in the system for which the\\ntransactions related to any order , or returns can be done. There can be different ways through which the\\ncustomers can be created in the system. \\nFollowing are the steps to create a customer in eRetail Web portal.\\n1. User to navigate to Master module and click on Customer Master .\\n2. User to click on Add New for adding new customer to the screen. \\n3. User to enter details related to the customer that he wishes to create in the system.\\n4. User to click on Save and the entries will be reflected on the Customer Master screen.\\nAdditionally , the customers can be created by the APIs directly where the order details are pulled from the\\nexternal systems and the corresponding customers are created in the system. These customers are also visible\\nin the Customer Master module against a unique customer code. \\nNavigation : Masters > Trading Partners > Customer Master\\nFields Description\\nCustomer  Code System generated unique code provided to each customer and once saved, it is un-editable\\nCustomer  Name This is the name given to a particular customer\\nExt Customer\\ncodeThis is the external customer code for any customer\\nTypeThis is the type of customer created by the user. Ex – B2B, B2C or any other type. This is\\nconfigurable and can be created as per the requirements.\\nStatus This is the status of a customer , Active or Inactive. \\nPrimary\\nContactThis is the primary contact number of the customer\\nPrimary Email This is the primary email address for the customer\\nCreated date This is the date on which the customer is created in the system\\n ', start_char_idx=None, end_char_idx=None, text_template='{metadata_str}\\n\\n{content}', metadata_template='{key}: {value}', metadata_seperator='\\n'),\n",
       " Document(id_='86959f73-8f33-47ee-ab61-c40faa73b701', embedding=None, metadata={'page_label': '2', 'file_name': '/Users/swapnildhamu/Developer/vin-ai/RAG/llamaindex_and_openAI/data/Customer Master _ Vinculum Knowledge Central.pdf', 'file_path': '/Users/swapnildhamu/Developer/vin-ai/RAG/llamaindex_and_openAI/data/Customer Master _ Vinculum Knowledge Central.pdf', 'file_type': 'application/pdf', 'file_size': 456124, 'creation_date': '2024-03-11', 'last_modified_date': '2024-03-11'}, excluded_embed_metadata_keys=['file_name', 'file_type', 'file_size', 'creation_date', 'last_modified_date', 'last_accessed_date'], excluded_llm_metadata_keys=['file_name', 'file_type', 'file_size', 'creation_date', 'last_modified_date', 'last_accessed_date'], relationships={}, text='11/03/2024, 15:48 Customer Master : Vinculum Knowledge Central\\nhttps://vinculumhelpdesk.freshdesk.com/support/solutions/articles/9000212663-customer-master 2/4Action Buttons :\\nFields Description\\nCustomer  CodeSystem generated unique code provided to each customer\\nand once saved, it is un-editable\\nCustomer  Name This is the name given to a particular customer\\nExt Customer\\ncodeThis is the external customer code for any customer\\nTypeThis is the type of customer created by the user. Ex – B2B,\\nB2C or any other type. This is configurable and can be\\ncreated as per the requirements.\\nStatus This is the status of a customer , Active or Inactive. \\nPrimary Contact This is the primary contact number of the customer\\nPrimary Email This is the primary email address for the customer\\nCreated dateThis is the date on which the customer is created in the\\nsystem\\nFollowing are the tabs in which the details for the customer are captured :\\n1. Customer  Details : This tab captures all the details for a particular customer where some of the fields are\\nmandatory and non-mandatory .\\nCustomer  Code : Customer Code is the unique code provided by the system and this helps in\\ndifferentiation two or more records. Once the customer is saved in the system, the field becomes un-\\neditable.\\nCustomer  Name* : This is the name of the customer and if this name is similar to any other custom er,\\nthe unique customer will be identified on the basis of the customer code.\\nIs Active : This is the check if the customer is Active or Inactive.\\nParent Customer : This is the Primary customer who can have multiple customers within itself. For\\nexample, for any customer dealing in Wholesale goods, this customer can have multiple retail\\ncustomers linked to him. This handling is possible in the system and the user can create the retail\\ncustomer in the system and link it to this wholesale Parent customer through this functionality . \\nExt Customer  Code: This is the external Customer Code and is given to the customer who get\\nsynced from a dif ferent platform.\\nCreation Sour ce: This captures the source of customer creation, and the user can type in the box.\\nPayment Terms : This is an option for the payment settlement days for any customer .', start_char_idx=None, end_char_idx=None, text_template='{metadata_str}\\n\\n{content}', metadata_template='{key}: {value}', metadata_seperator='\\n'),\n",
       " Document(id_='e7d003c2-663f-4922-8783-82244e493655', embedding=None, metadata={'page_label': '3', 'file_name': '/Users/swapnildhamu/Developer/vin-ai/RAG/llamaindex_and_openAI/data/Customer Master _ Vinculum Knowledge Central.pdf', 'file_path': '/Users/swapnildhamu/Developer/vin-ai/RAG/llamaindex_and_openAI/data/Customer Master _ Vinculum Knowledge Central.pdf', 'file_type': 'application/pdf', 'file_size': 456124, 'creation_date': '2024-03-11', 'last_modified_date': '2024-03-11'}, excluded_embed_metadata_keys=['file_name', 'file_type', 'file_size', 'creation_date', 'last_modified_date', 'last_accessed_date'], excluded_llm_metadata_keys=['file_name', 'file_type', 'file_size', 'creation_date', 'last_modified_date', 'last_accessed_date'], relationships={}, text='11/03/2024, 15:48 Customer Master : Vinculum Knowledge Central\\nhttps://vinculumhelpdesk.freshdesk.com/support/solutions/articles/9000212663-customer-master 3/4GSTIN/TIN : This is the GST  Identification Number for the customer created in the system.\\nGL Code : This is the General Ledger code and is used to keep track of the financial transactions.\\nTax Zone : State/City/Country where the tax is applicable for the customer becomes the Tax Zone.\\nType* : This is the type of customer created in the database by the user. The list of the type of\\ncustomers can be selected from the dropdown.\\nIs Form C : This is the check box for a customer to which Form C is applicable.\\nPAN No : PAN Number is used for financial recordings of a customer .\\nTax Ref No : This is the reference number for Tax filing purposes apart from the GSTIN/TIN.\\nCredit days : These are the number of credit days applicable for that customer .\\nEarned points : This is the number of points earned on different channels for the customer and is auto\\nfilled.\\nExpiry date : This is the expiry date for the points earned by the customer and is also auto filled.\\nIs Tax Exempt : This check is applicable for the Tax-Exempt customer . For this customer , no tax is\\napplicable for that customer and once the user enables this for a customer , the user will have an option\\nto select the Economic Zone for which this Tax-Exempt condition is applicable.\\nIs TCS Applicable : This is used to capture if Tax Collected at Source is applicable for the customer\\nand if the box is checked by the user, a new tab to capture the Tax Percentage will open. This Tax\\nPercentage will capture the applicable tax percentage for the customer created in the system.\\n2. Addr esses : This section captures the addresses of a particular customer and has dif ferent sections for\\nBilling Address Details and Shipping Address Details. All the fields in this section are self-explanatory . \\n3. Other  Shipping Addr esses : This section enables the user to add additional shipping addresses for a\\nparticular customer apart from the primary billing and shipping address specified in the above section. The\\nuser can click on (Add new) on this module to add the shipping addresses. Fields in the section are self-\\nexplanatory . \\n', start_char_idx=None, end_char_idx=None, text_template='{metadata_str}\\n\\n{content}', metadata_template='{key}: {value}', metadata_seperator='\\n'),\n",
       " Document(id_='fb0adb66-63eb-4ad2-a236-ea46f2351132', embedding=None, metadata={'page_label': '4', 'file_name': '/Users/swapnildhamu/Developer/vin-ai/RAG/llamaindex_and_openAI/data/Customer Master _ Vinculum Knowledge Central.pdf', 'file_path': '/Users/swapnildhamu/Developer/vin-ai/RAG/llamaindex_and_openAI/data/Customer Master _ Vinculum Knowledge Central.pdf', 'file_type': 'application/pdf', 'file_size': 456124, 'creation_date': '2024-03-11', 'last_modified_date': '2024-03-11'}, excluded_embed_metadata_keys=['file_name', 'file_type', 'file_size', 'creation_date', 'last_modified_date', 'last_accessed_date'], excluded_llm_metadata_keys=['file_name', 'file_type', 'file_size', 'creation_date', 'last_modified_date', 'last_accessed_date'], relationships={}, text='11/03/2024, 15:48 Customer Master : Vinculum Knowledge Central\\nhttps://vinculumhelpdesk.freshdesk.com/support/solutions/articles/9000212663-customer-master 4/44. User  Defined Fields : This section captures the custom fields that are created by the user for any customer\\nin case of any extra information is required.\\n5. Other  Settings : This section captures the additional settings for a customer . It includes below fields :\\nInvoice Report : The user can choose the type of Invoice report. The details of the type of reports are\\nenabled from the database.\\nTotal Shelf Life:  No. of days of Total shelf like for SKU(s) as agreed by the user and the customer .\\nShelf Life on Picking : No. of days of Shelf Life on Picking for SKU(s) as agreed by the user and the\\ncustomer\\n', start_char_idx=None, end_char_idx=None, text_template='{metadata_str}\\n\\n{content}', metadata_template='{key}: {value}', metadata_seperator='\\n'),\n",
       " Document(id_='7bd33d98-79a6-47d9-b6ec-46a5e4afdc36', embedding=None, metadata={'page_label': '1', 'file_name': '/Users/swapnildhamu/Developer/vin-ai/RAG/llamaindex_and_openAI/data/SKU Barcode _ Vinculum Knowledge Central.pdf', 'file_path': '/Users/swapnildhamu/Developer/vin-ai/RAG/llamaindex_and_openAI/data/SKU Barcode _ Vinculum Knowledge Central.pdf', 'file_type': 'application/pdf', 'file_size': 198334, 'creation_date': '2024-03-08', 'last_modified_date': '2024-03-06'}, excluded_embed_metadata_keys=['file_name', 'file_type', 'file_size', 'creation_date', 'last_modified_date', 'last_accessed_date'], excluded_llm_metadata_keys=['file_name', 'file_type', 'file_size', 'creation_date', 'last_modified_date', 'last_accessed_date'], relationships={}, text='06/03/2024, 17:04 SKU Barcode : Vinculum Knowledge Central\\nhttps://vinculumhelpdesk.freshdesk.com/support/solutions/articles/9000214575-sku-barcode 1/2SKU Barcode\\nModiﬁed on: Wed, 6 Mar, 2024 at 11:49 AM\\nSKU Barcode\\nSKU Barcode feature enables the User to enter /upload the list of barcodes to be assigned to the SKU’ s. These\\nBarcodes provide a method to track and store information about SKUs from individual items to large stocks of\\nmillions in W arehousing and Order management.  With the help of SKU Barcoding, we can track the movement of\\nSKUs in/out of the warehouse.\\nNavigation: Masters –> SKU Management –> SKU Barcode.\\nThere are two tabs on SKU Bar Code Create/ Edit screen -\\n1. SKU Barcode Create /Edit\\n 2. SKU Barcode Import\\n \\n \\nAction Button\\nFields Field Description\\nSearch Users can view/ search the existing Barcode from within this screen.\\nReset Users can reset the current applied filter by this button\\nDownload Users can export the data from this screen.\\nAdd New User can add/map the barcode by clicking on this screen.\\nSKU BARCODE CREA TE/ EDIT\\nThis section will enable you to enquire and search an already existing Barcodes and their detail. User can refine\\nthe search further by using filters as per requirement/s.\\nUser can take a download/export all the data present on Enquiry screen at any point of time.\\n Below are the fields based on which the barcodes can be searched.\\nFields Field Description\\nAction User can see the Audit by clicking on “i” icon and  can modify the existing one.\\nSKU Code This is SKU Code which is derive from SKU Master\\nSKU Name SKU Name\\nBarcode EAN code which maps with SKU\\nUOM Can be assign dif ferent UOM with dif ferent BarCode of SKU\\nBarcode T ype  \\nIs Active It shows the barcode is InActive or Active.\\nIs Default One Barcode can be set as default for any SKU\\nCase Size It shows the Case Size of that particular Barcode\\nSale Price Saleable price can be dif ferent of SKU based on its Bar Code\\nIs Saleable If Is Saleable checked means, that Bar Code can be order .', start_char_idx=None, end_char_idx=None, text_template='{metadata_str}\\n\\n{content}', metadata_template='{key}: {value}', metadata_seperator='\\n'),\n",
       " Document(id_='9b35892b-42df-42f9-87e7-4ddf998887bf', embedding=None, metadata={'page_label': '2', 'file_name': '/Users/swapnildhamu/Developer/vin-ai/RAG/llamaindex_and_openAI/data/SKU Barcode _ Vinculum Knowledge Central.pdf', 'file_path': '/Users/swapnildhamu/Developer/vin-ai/RAG/llamaindex_and_openAI/data/SKU Barcode _ Vinculum Knowledge Central.pdf', 'file_type': 'application/pdf', 'file_size': 198334, 'creation_date': '2024-03-08', 'last_modified_date': '2024-03-06'}, excluded_embed_metadata_keys=['file_name', 'file_type', 'file_size', 'creation_date', 'last_modified_date', 'last_accessed_date'], excluded_llm_metadata_keys=['file_name', 'file_type', 'file_size', 'creation_date', 'last_modified_date', 'last_accessed_date'], relationships={}, text='06/03/2024, 17:04 SKU Barcode : Vinculum Knowledge Central\\nhttps://vinculumhelpdesk.freshdesk.com/support/solutions/articles/9000214575-sku-barcode 2/2 \\nUser can map the Barcode by click “Add New” button.\\nSKU Barcode Import\\nUser can import the barcodes from this section in bulk by uploading the CSV .\\n This CSV must be in the format of default template given here.\\nImport T emplate\\n', start_char_idx=None, end_char_idx=None, text_template='{metadata_str}\\n\\n{content}', metadata_template='{key}: {value}', metadata_seperator='\\n'),\n",
       " Document(id_='bab77f7c-f7fe-4ae9-af5f-56aa753dd201', embedding=None, metadata={'page_label': '1', 'file_name': '/Users/swapnildhamu/Developer/vin-ai/RAG/llamaindex_and_openAI/data/SKU Import _ Vinculum Knowledge Central.pdf', 'file_path': '/Users/swapnildhamu/Developer/vin-ai/RAG/llamaindex_and_openAI/data/SKU Import _ Vinculum Knowledge Central.pdf', 'file_type': 'application/pdf', 'file_size': 242159, 'creation_date': '2024-03-08', 'last_modified_date': '2024-03-03'}, excluded_embed_metadata_keys=['file_name', 'file_type', 'file_size', 'creation_date', 'last_modified_date', 'last_accessed_date'], excluded_llm_metadata_keys=['file_name', 'file_type', 'file_size', 'creation_date', 'last_modified_date', 'last_accessed_date'], relationships={}, text='03/03/2024, 12:06 SKU Import : Vinculum Knowledge Central\\nhttps://vinculumhelpdesk.freshdesk.com/support/solutions/articles/9000213260-sku-import 1/3SKU Import\\nModiﬁed on: Wed, 23 Mar, 2022 at 8:08 PM\\nSKU Import\\nIntroduction\\nThe SKU import module in Vin eRetail enables the user to import SKUs to the system in bulk using\\nthe CSV template file. It also allows to download the uploaded CSV file.\\nNavigation:  Master >> SKU Management >> SKU Import\\n SKU Import\\nThe SKU Import module consists of two sections:\\ni. Import\\nii. Download\\n \\nI. Import:\\xa0 This section allows the user to import the SKUs in Bulk via CSV template file.\\n', start_char_idx=None, end_char_idx=None, text_template='{metadata_str}\\n\\n{content}', metadata_template='{key}: {value}', metadata_seperator='\\n'),\n",
       " Document(id_='a06d0ef5-63d8-471e-9c87-622176eb50ca', embedding=None, metadata={'page_label': '2', 'file_name': '/Users/swapnildhamu/Developer/vin-ai/RAG/llamaindex_and_openAI/data/SKU Import _ Vinculum Knowledge Central.pdf', 'file_path': '/Users/swapnildhamu/Developer/vin-ai/RAG/llamaindex_and_openAI/data/SKU Import _ Vinculum Knowledge Central.pdf', 'file_type': 'application/pdf', 'file_size': 242159, 'creation_date': '2024-03-08', 'last_modified_date': '2024-03-03'}, excluded_embed_metadata_keys=['file_name', 'file_type', 'file_size', 'creation_date', 'last_modified_date', 'last_accessed_date'], excluded_llm_metadata_keys=['file_name', 'file_type', 'file_size', 'creation_date', 'last_modified_date', 'last_accessed_date'], relationships={}, text='03/03/2024, 12:06 SKU Import : Vinculum Knowledge Central\\nhttps://vinculumhelpdesk.freshdesk.com/support/solutions/articles/9000213260-sku-import 2/3The following fields are available for the user to import the correct SKU details.\\na. Import Type: The user can define the purpose of the import by selecting any of the dropdown\\nchoices, which are:\\n1. Create/Update: To create or update the SKUs in bulk\\n2. Cost Price Update: To update the price of the SKUs in bulk\\n3. BOM Link: To import BOM SKUs in bulk\\n \\nb. Attribute Set *: User will select the attribute set for SKU import from here. The SKU imported\\nfrom here will be assigned to the selected attribute.\\n \\nc. Upload Template: User will select the appropriate CSV file to be imported, using the ‘Choose\\nFile’ option.\\n ‘Download Template’  option allows the user to download the CSV template file for the\\nselected ‘Import Type’.\\n**Note: Max 500 rows can be imported in an attempt of Import.  (However , only for a first time\\nimport of the SKUs, the no. of rows can be increased from backend at the request of the user)\\n \\n1. Download:\\xa0 This section allows the user to search and download the uploaded CSV file of\\nSKU import by first searching them based on File Status, file Upload Date and other similar\\ncriterion.\\n \\nAction Buttons\\nOn Import Section\\n1. IMPOR T: After selecting the Import Type, Attribute Set and Uploading the correct file, the\\nuser needs to click on the yellow coloured “Import” button to start the import process.\\n2. RESET : This is used to reset all the selections made on the screen.\\n \\nOn Download Section\\n1. SEARCH: This is used to display the list of uploads made by the user .\\n2. RESET : This is used to reset all the filters selected by the user .\\n ', start_char_idx=None, end_char_idx=None, text_template='{metadata_str}\\n\\n{content}', metadata_template='{key}: {value}', metadata_seperator='\\n'),\n",
       " Document(id_='d1ad9ecd-0a14-4d61-9cd7-1c6e667b713b', embedding=None, metadata={'page_label': '3', 'file_name': '/Users/swapnildhamu/Developer/vin-ai/RAG/llamaindex_and_openAI/data/SKU Import _ Vinculum Knowledge Central.pdf', 'file_path': '/Users/swapnildhamu/Developer/vin-ai/RAG/llamaindex_and_openAI/data/SKU Import _ Vinculum Knowledge Central.pdf', 'file_type': 'application/pdf', 'file_size': 242159, 'creation_date': '2024-03-08', 'last_modified_date': '2024-03-03'}, excluded_embed_metadata_keys=['file_name', 'file_type', 'file_size', 'creation_date', 'last_modified_date', 'last_accessed_date'], excluded_llm_metadata_keys=['file_name', 'file_type', 'file_size', 'creation_date', 'last_modified_date', 'last_accessed_date'], relationships={}, text='03/03/2024, 12:06 SKU Import : Vinculum Knowledge Central\\nhttps://vinculumhelpdesk.freshdesk.com/support/solutions/articles/9000213260-sku-import 3/3SKU Import T emplate File (CSV)\\n', start_char_idx=None, end_char_idx=None, text_template='{metadata_str}\\n\\n{content}', metadata_template='{key}: {value}', metadata_seperator='\\n'),\n",
       " Document(id_='cd206e19-8eb3-4694-a276-08ad0160d999', embedding=None, metadata={'page_label': '1', 'file_name': '/Users/swapnildhamu/Developer/vin-ai/RAG/llamaindex_and_openAI/data/SKU Master _ Vinculum Knowledge Central.pdf', 'file_path': '/Users/swapnildhamu/Developer/vin-ai/RAG/llamaindex_and_openAI/data/SKU Master _ Vinculum Knowledge Central.pdf', 'file_type': 'application/pdf', 'file_size': 358209, 'creation_date': '2024-03-08', 'last_modified_date': '2024-03-03'}, excluded_embed_metadata_keys=['file_name', 'file_type', 'file_size', 'creation_date', 'last_modified_date', 'last_accessed_date'], excluded_llm_metadata_keys=['file_name', 'file_type', 'file_size', 'creation_date', 'last_modified_date', 'last_accessed_date'], relationships={}, text='03/03/2024, 12:05 SKU Master : Vinculum Knowledge Central\\nhttps://vinculumhelpdesk.freshdesk.com/support/solutions/articles/9000213659-sku-master 1/7SKU Master\\nModiﬁed on: Fri, 1 Apr, 2022 at 3:31 PM\\nSKU Master\\nIntroduction\\nA Stock Keeping Unit or SKU is a distinct type of item that can be purchased, sold, or tracked with a unique\\nalphanumeric code/scannable bar code printed on it or its packaging. This code contains all the attributes\\nassociated with that item-type that can distinguish it from other item-types. These attributes can be manufacturer\\nname, material used, color , size, warranty , etc. The term SKU is used by stores, e-commerce vendors,\\nwarehouses, product fulfilment centres and any other business in inventory management field.\\nSKU Master is a collection of all the SKUs and their details available in the system. A user can search and\\nenquire any SKU and its details using the SKU Master data.\\n \\nSKU Master in V in eRetail\\nThe SKU Master in V in eRetail enables users to enquire and search an already existing SKU & its details. The\\nusers can refine the search further by using available filters like ‘Classification’, ‘Brand’, ‘V endor ’, etc. There is\\nalso a provision to Download/Export all the data present on the SKU Enquiry screen.\\nVin eRetail also allows users to Add/Import new SKU and its details. There are 3 ways to do so -\\n1. Through APIs from PIM.\\n2. Through SKU Import screen for bulk import.\\n3. Through Add New button on the SKU Master screen.\\n \\nNavigation:  Master >> SKU Management >> SKU Master\\n', start_char_idx=None, end_char_idx=None, text_template='{metadata_str}\\n\\n{content}', metadata_template='{key}: {value}', metadata_seperator='\\n'),\n",
       " Document(id_='bff7c494-31f0-47b3-8585-01767b1f034d', embedding=None, metadata={'page_label': '2', 'file_name': '/Users/swapnildhamu/Developer/vin-ai/RAG/llamaindex_and_openAI/data/SKU Master _ Vinculum Knowledge Central.pdf', 'file_path': '/Users/swapnildhamu/Developer/vin-ai/RAG/llamaindex_and_openAI/data/SKU Master _ Vinculum Knowledge Central.pdf', 'file_type': 'application/pdf', 'file_size': 358209, 'creation_date': '2024-03-08', 'last_modified_date': '2024-03-03'}, excluded_embed_metadata_keys=['file_name', 'file_type', 'file_size', 'creation_date', 'last_modified_date', 'last_accessed_date'], excluded_llm_metadata_keys=['file_name', 'file_type', 'file_size', 'creation_date', 'last_modified_date', 'last_accessed_date'], relationships={}, text='03/03/2024, 12:05 SKU Master : Vinculum Knowledge Central\\nhttps://vinculumhelpdesk.freshdesk.com/support/solutions/articles/9000213659-sku-master 2/7 \\nSKU Enquiry Screen\\nNavigating to SKU Master opens the SKU Enquiry screen.\\nOn SKU Enquiry screen, the following are the fields based on which the SKUs can be searched:\\nFields Field Description\\nSKU Code SKU code is the User defined code given to the SKU.\\nStyle It is used to identify ‘Style’  SKU from a ‘V ariant’  SKU.\\nSKU Name SKU name is the User defined name given to the SKU.\\nClassification This is used to classify a SKU. Ex: ‘Normal’, ‘BOM’, etc.\\nSize/Color This field gives details about the size and color of the SKU\\nMRP This field reflects the MRP  of the SKU\\nBase Cost This field reflects the cost of the SKU which is the amount at which it was procured.\\nSale PriceThis reflects the price of the SKU which is the amount at which it will be listed for\\nsale.\\nSKU Mfg Code It is the V endor SKU Code i.e. the code used by the vendor to identify the SKU.\\nPrimary V endor This is the primary vendor from whom the SKU is procured.\\nBrand Code This is the name of the brand of the SKU.\\nHierarchy Code This reflects the hierarchy to which the SKU belong.\\nAttribute SetThis is a user defined classification and can be added through the Manage Attribute\\nsection of eRetail.\\nStatus It reflects the status of the SKU as ‘Active’, ‘Inactive’  or ‘Deleted’\\nCreated By This reflects the name of the user that created the SKU.\\nCreated Date This reflects the date on which the SKU was created.\\nBack Order This is a Yes/No dropdown to identify the SKU if it is eligible for Back Orders.\\nTax Category This gives details about the tax applicable on the sale of the SKU (HSN code)\\n \\nAction Buttons\\n ', start_char_idx=None, end_char_idx=None, text_template='{metadata_str}\\n\\n{content}', metadata_template='{key}: {value}', metadata_seperator='\\n'),\n",
       " Document(id_='1a6294d7-2d1f-48dc-b251-1a881c5dafe6', embedding=None, metadata={'page_label': '3', 'file_name': '/Users/swapnildhamu/Developer/vin-ai/RAG/llamaindex_and_openAI/data/SKU Master _ Vinculum Knowledge Central.pdf', 'file_path': '/Users/swapnildhamu/Developer/vin-ai/RAG/llamaindex_and_openAI/data/SKU Master _ Vinculum Knowledge Central.pdf', 'file_type': 'application/pdf', 'file_size': 358209, 'creation_date': '2024-03-08', 'last_modified_date': '2024-03-03'}, excluded_embed_metadata_keys=['file_name', 'file_type', 'file_size', 'creation_date', 'last_modified_date', 'last_accessed_date'], excluded_llm_metadata_keys=['file_name', 'file_type', 'file_size', 'creation_date', 'last_modified_date', 'last_accessed_date'], relationships={}, text='03/03/2024, 12:05 SKU Master : Vinculum Knowledge Central\\nhttps://vinculumhelpdesk.freshdesk.com/support/solutions/articles/9000213659-sku-master 3/7Action Buttons Description\\nSearchClicking on the search button without entering any filter criterion will populate the\\nlist of all the SKUs created so far based on default filter setting. User can further\\nnarrow down the search by using filter options to get any specific information.\\nResetReset button will refresh the filter fields to default settings, i.e. to an initial state to\\nstart fresh search.\\nAdvance SearchAdvance Search opens a set of new filters to search SKU.\\nHere the additional filters are ‘Site Location’, ‘Approved Status’, ‘V endor Type’ and\\n‘SKU Source’.\\nExportThis allows the user to take the export of the details visible on the screen in an\\nexcel template.\\nMetaData Export This allows the user to take the export of Metadata in an excel template.\\nAdd New Add new tab is used to create a new SKU in the system.\\n \\nAdd New\\nAfter clicking on the ‘Add New’  option, the following screen opens\\nThe SKU classification dropdown has the following options to choose from \\nOut of these options, the four major classifications are Gradable, Normal, Style and BOM. The rest of the\\nclassifications are generated by users as per their individual requirements.', start_char_idx=None, end_char_idx=None, text_template='{metadata_str}\\n\\n{content}', metadata_template='{key}: {value}', metadata_seperator='\\n'),\n",
       " Document(id_='55b8e7d6-e528-48c5-b23a-eeb3875905d8', embedding=None, metadata={'page_label': '4', 'file_name': '/Users/swapnildhamu/Developer/vin-ai/RAG/llamaindex_and_openAI/data/SKU Master _ Vinculum Knowledge Central.pdf', 'file_path': '/Users/swapnildhamu/Developer/vin-ai/RAG/llamaindex_and_openAI/data/SKU Master _ Vinculum Knowledge Central.pdf', 'file_type': 'application/pdf', 'file_size': 358209, 'creation_date': '2024-03-08', 'last_modified_date': '2024-03-03'}, excluded_embed_metadata_keys=['file_name', 'file_type', 'file_size', 'creation_date', 'last_modified_date', 'last_accessed_date'], excluded_llm_metadata_keys=['file_name', 'file_type', 'file_size', 'creation_date', 'last_modified_date', 'last_accessed_date'], relationships={}, text='03/03/2024, 12:05 SKU Master : Vinculum Knowledge Central\\nhttps://vinculumhelpdesk.freshdesk.com/support/solutions/articles/9000213659-sku-master 4/7Classifications Description\\nGradable This includes SKU that can be graded. Mostly used for Grocery .\\nNormalThis includes general physical SKU. It does not have any other attribute and\\nclassified feature added to it.\\nStyle \\n(and V ariant)\\n This includes SKUs that are available in various size and color . It is mostly used for\\nFootwear and Apparels. The same SKU in dif ferent size or color are then auto-\\nclassified as ‘V ariants’  of that Style.\\nBOMBOM SKU are those in which dif ferent SKUs that are already created in the system\\nare bundled up together in a defined ratio form a new single SKU.\\nAvailable for Marketplace subscription checkbox: Marketplace subscription means making the SKU available\\nvirtually .\\n \\nSKU Create/Edit\\nAfter selecting a classification from the given options, the following screen will be displayed\\nOn this screen, below tabs are present to capture all vendor related information.\\nSKU Details\\nUser Defined Field\\nAttributes Detail\\nOther Details\\n ARS Details\\n \\nSKU DET AILS:  This is further divided into four sections.\\ni. Product Detail\\nii. Pricing Detail\\niii. Dimension Detail\\niv. SKU Image\\n \\nv. Product Detail  section will consist of all the primary information related to the SKU.\\nSKU Code: Any unique code which a user gives to the SKU while creating it. This SKU code is a mandatory field\\nand once created and saved cannot be changed and must be a unique number .\\nSKU Name & SKU Short Name: Enter the SKU name & Short name.\\nSKU Classification: SKU type out of the four types will be defined here initially when you click on create SKU\\nbutton.\\nStyle: This will reflect the Style SKU of the V ariant\\nSKU Source: To mention the source of SKU here by selecting from the drop down whether it is a consignment\\nproduct or an outright purchase.\\nAttribute Set; Size Group; Size; Color; Material: All these fields input values which appear in drop down are\\ncreated & configured by user from the Other Masters of the Master section.', start_char_idx=None, end_char_idx=None, text_template='{metadata_str}\\n\\n{content}', metadata_template='{key}: {value}', metadata_seperator='\\n'),\n",
       " Document(id_='9f876edf-23b9-4d30-a64a-8934f2c44401', embedding=None, metadata={'page_label': '5', 'file_name': '/Users/swapnildhamu/Developer/vin-ai/RAG/llamaindex_and_openAI/data/SKU Master _ Vinculum Knowledge Central.pdf', 'file_path': '/Users/swapnildhamu/Developer/vin-ai/RAG/llamaindex_and_openAI/data/SKU Master _ Vinculum Knowledge Central.pdf', 'file_type': 'application/pdf', 'file_size': 358209, 'creation_date': '2024-03-08', 'last_modified_date': '2024-03-03'}, excluded_embed_metadata_keys=['file_name', 'file_type', 'file_size', 'creation_date', 'last_modified_date', 'last_accessed_date'], excluded_llm_metadata_keys=['file_name', 'file_type', 'file_size', 'creation_date', 'last_modified_date', 'last_accessed_date'], relationships={}, text='03/03/2024, 12:05 SKU Master : Vinculum Knowledge Central\\nhttps://vinculumhelpdesk.freshdesk.com/support/solutions/articles/9000213659-sku-master 5/7Primary UPC/EAN: UPC (Universal Product Code) or EAN (European Product Code) are the bar code for the\\nSKU which will be entered here. Multiple barcodes can be supported by the single SKU.\\nBase UOM:  UOM is the Unit of Measurement in which the SKU will be measured or weighed which is used in\\nadvanced Shipment Notice, Invoice, Purchase Order documents etc.\\nHierarchy Code: Hierarchy code helps user to configure merchandising hierarchy for SKU from the list as they\\ncould be the sub category or sub-sub category of the SKU.\\nVendor SKU Code: The SKU code defined by the V endor can be entered in this field.\\nPrimary V endor: Every SKU in system is linked to a Primary vendor which is a mandatory field. There can be\\nmultiple other secondary vendors also linked to the same SKU.\\nVendor Name: This reflects the name of the V endor .\\nIs Approved: Mention the status of the V endor .\\nStatus: It is used to set the status of the SKU as ‘Active’, ‘Inactive’  or ‘Deleted’\\nCountry of Origin: Enter the country of origin of SKU by choosing from the down.\\nBrand Code:  Enter the name of the brand.\\nLink To Store: This is used to link the SKU to dif ferent stores, where it will be available for sale.\\nBack order & Back Order Quantity: This is used to make SKU eligible for back order and to set the back order\\nquantity .\\n1. Pricing Detail: In this section below given pricing related details of the SKU will be entered.\\n1. MSRP/MRP\\n2. Sale Price\\n3. Base Cost\\n4. Std Margin %\\n5. Tax Category\\n6. SKU Level Tax\\n1. Dimension Detail: All the below given dimension criterion will be filled in with respect to each SKU as this\\ninformation is further required for the Shipping purpose.\\n1. Height (CM)\\n2. Length (CM)\\n3. Width (CM)\\n4. Cube\\n5. Weight (KG)\\n1. Sku Image:  Images of the SKU can be entered in dif ferent format through this section.\\n1. Image URL\\n2. Product Page URL\\n3. Image files\\nUSER DEFINED FIELD: These are the custom fields which can be created by the User for SKU in case of any\\nextra information required.\\nATTRIBUTES DET AIL: This section allows user to fill data related to the selection made on “SKU Detail” screen\\nunder “Attribute Set”.\\nOTHER DET AILS: Other Detail section is further divided into two sections:\\ni. Detail 1\\nii. Detail 2', start_char_idx=None, end_char_idx=None, text_template='{metadata_str}\\n\\n{content}', metadata_template='{key}: {value}', metadata_seperator='\\n'),\n",
       " Document(id_='5017cd09-a55d-45d8-85ff-18acd822ddbf', embedding=None, metadata={'page_label': '6', 'file_name': '/Users/swapnildhamu/Developer/vin-ai/RAG/llamaindex_and_openAI/data/SKU Master _ Vinculum Knowledge Central.pdf', 'file_path': '/Users/swapnildhamu/Developer/vin-ai/RAG/llamaindex_and_openAI/data/SKU Master _ Vinculum Knowledge Central.pdf', 'file_type': 'application/pdf', 'file_size': 358209, 'creation_date': '2024-03-08', 'last_modified_date': '2024-03-03'}, excluded_embed_metadata_keys=['file_name', 'file_type', 'file_size', 'creation_date', 'last_modified_date', 'last_accessed_date'], excluded_llm_metadata_keys=['file_name', 'file_type', 'file_size', 'creation_date', 'last_modified_date', 'last_accessed_date'], relationships={}, text='03/03/2024, 12:05 SKU Master : Vinculum Knowledge Central\\nhttps://vinculumhelpdesk.freshdesk.com/support/solutions/articles/9000213659-sku-master 6/7Detail 1: This section requires the user to input all the details of the product related to its shelf life. These details\\ncan be used to define validations at the time of Inbound and Picking.\\nFields Field Description\\nShelf Life This is used to enable and track shelf life for the SKU. \\nShelf Life T ypeUser needs to select what type of date is to be tracked for the SKU (Expiry date or\\nMfg. date)\\nTotal Shelf LifeThis field is used to enter the no. of days for which the SKU can be stored before it\\nbecomes unsafe to use. (Expiry Date)\\nShelf Life on ReceivingThis reflects the min. no. of days left for Expiry at inbound. If the shelf life of SKU is\\nless than this no. then the system will not allow to Inbound it.\\nShelf Life on PickingThis reflects the min. no. of days left for Expiry at the time of Picking. If the shelf life\\nof SKU is less than this no. then the system will not allow to pick it\\nSerial T racking When this is enabled, the system will track the SKU based on its serial no.\\nStackable .When this is enabled, the SKUs can be stacked together .\\nHazardous This is used to mark the SKU as Hazardous.\\nPoisonous This is used to mark the SKU as Poisonous.\\nIs Purchasable User can purchase/raise a PO for the SKU only when this field is enabled.\\nIs Saleable The SKU is made available for selling only when this field is enabled.\\nIs Stocked  When this is enabled, the SKU should be stocked.\\n \\nDetail 2: This section requires the user to input all the details of the product related to the SKU rotation and\\nvalidation.\\nFields Field Description\\nLottable V alidation This is used to define the Lottable V alidation, applicable for the SKU.\\nSKU RotationThis is used to select the SKU allocation strategy , which can be FEFO(First Expire\\nFirst Out), FIFO(First In First Out) or LIFO(Last In First Out). Ex: for FEFO the SKU\\nwith min. shelf life will be allocated first .\\nRotate By It is used to select the attribute based on which the SKU will be allocated.\\nRecv . Validation Code This is used to define the validations applicable at the time of Inbound.\\nPicking InstructionsThis is used to select the standard instructions that need to be followed while\\npicking the SKU.\\nShipping InstructionsThis is used to select the standard instructions that need to be followed while\\nshipping the SKU.\\nThreshold Alert\\nRequiredThis is enabled to set an alert when the SKU qty falls below the threshold.\\nThreshold Qty The user can enter the threshold qty to set up the threshold alert.\\nFullfilment T ype This is used to select the Fullfilment Type for procuring the SKU.', start_char_idx=None, end_char_idx=None, text_template='{metadata_str}\\n\\n{content}', metadata_template='{key}: {value}', metadata_seperator='\\n'),\n",
       " Document(id_='365dc45e-b061-494b-9ff4-73cddd63b2f2', embedding=None, metadata={'page_label': '7', 'file_name': '/Users/swapnildhamu/Developer/vin-ai/RAG/llamaindex_and_openAI/data/SKU Master _ Vinculum Knowledge Central.pdf', 'file_path': '/Users/swapnildhamu/Developer/vin-ai/RAG/llamaindex_and_openAI/data/SKU Master _ Vinculum Knowledge Central.pdf', 'file_type': 'application/pdf', 'file_size': 358209, 'creation_date': '2024-03-08', 'last_modified_date': '2024-03-03'}, excluded_embed_metadata_keys=['file_name', 'file_type', 'file_size', 'creation_date', 'last_modified_date', 'last_accessed_date'], excluded_llm_metadata_keys=['file_name', 'file_type', 'file_size', 'creation_date', 'last_modified_date', 'last_accessed_date'], relationships={}, text='03/03/2024, 12:05 SKU Master : Vinculum Knowledge Central\\nhttps://vinculumhelpdesk.freshdesk.com/support/solutions/articles/9000213659-sku-master 7/7Shipping Charges This reflects the charges required for shipping the SKU.\\nHandling Charges This reflects the charges required for handling the SKU.\\nDef Source WHThis is used to define the warehouse from where the SKU will be\\nsourced/procured.\\nIs Uniquebarcode When this is enabled, the system will maintain the USN for the SKU.\\nIs IpcAllowed This is enabled for cross border fullfilment.\\nIs Repack AllowedThis is enabled for SKUs that need to be unpacked and then repacked into smaller\\npacks. Ex: grocery\\nMinimum T ransfer Qty This reflects the min. qty of the SKU which is required to perform ST O.\\nTransfer Unit FactorThe qty for which ST O is to be created should be in the multiples of transfer unit\\nfactor . Ex: if it is 5 then ST O qty can only be 5,10,15,20,25,etc\\n \\nARS DET AILS: Auto Replenishment System or ARS is used for automatic purchase order creation and auto-\\ndelivery of products. In this section user needs to check if the ARS is required, and then mention the ARS method\\nand stock details.\\nUser needs to enable the checkbox and the rest details to be updated in the ARS screen. (Please refer to ARS\\ndocumentation)\\nVARIANTS: This section is accessible only for “Style” classification of SKU. In this section user can add and fill\\ndetails of dif ferent variant SKUs to the main Style SKU.\\nBUNDLED ARTICLE: This section is accessible only for “BOM” classification of SKU. In this section the user can\\nadd multiple SKUs to create a new Bundled SKU. The user also has the option to select the ratio in which the\\nSKUs need to be bundled to create the new SKU.\\n \\nEdit Existing SKU\\nTo edit the already existing SKU in the system, the user needs to navigate to the SKU Enquiry screen and click\\non the ‘Blue’  colored SKU code. This will open the SKU Create/Edit screen, where the user can edit the SKU\\ndetails.\\n', start_char_idx=None, end_char_idx=None, text_template='{metadata_str}\\n\\n{content}', metadata_template='{key}: {value}', metadata_seperator='\\n'),\n",
       " Document(id_='c5962381-7649-46ab-8071-c96bbbd8c482', embedding=None, metadata={'page_label': '1', 'file_name': \"/Users/swapnildhamu/Developer/vin-ai/RAG/llamaindex_and_openAI/data/Trading Partners FAQ's.pdf\", 'file_path': \"/Users/swapnildhamu/Developer/vin-ai/RAG/llamaindex_and_openAI/data/Trading Partners FAQ's.pdf\", 'file_type': 'application/pdf', 'file_size': 109799, 'creation_date': '2024-03-11', 'last_modified_date': '2024-03-11'}, excluded_embed_metadata_keys=['file_name', 'file_type', 'file_size', 'creation_date', 'last_modified_date', 'last_accessed_date'], excluded_llm_metadata_keys=['file_name', 'file_type', 'file_size', 'creation_date', 'last_modified_date', 'last_accessed_date'], relationships={}, text='Trading\\nPartner\\nFAQ’s:\\nVendor\\nMaster:\\n1.\\nNeed\\nassistance\\nin\\ncreating\\nNew\\nVendor?\\nNew\\nVendor\\ncan\\nbe\\nadded\\nin\\nthe\\nsystem\\nby\\nadding\\nVendor\\none\\nby\\none\\nthrough\\nthe\\nVendor\\nmaster\\nscreen,\\nUploading\\nVendor\\nthrough\\nExcel\\nin\\nbulk\\nfrom\\nCommon\\nimport\\nscreen\\nand\\nthrough\\nAPI.\\nYou\\ncan\\nrefer\\nto\\nthe\\ndocuments\\nbelow\\nfor\\nmore\\ndetails.\\nhttps://vinculumhelpdesk.freshdesk.com/a/solutions/articles/9000212657\\nNavigation\\nto\\nupload\\nvendors\\nin\\nbulk\\nis\\nbelow:\\nAdmin\\n<<\\nImports\\n<<\\nCommon\\nImports\\n<<\\nSelect\\nVendor\\nImport\\nfrom\\nDropdown\\n<<\\nImport\\nfile\\nTo\\ncreate\\nvendors\\nthrough\\nAPI\\nPlease\\nrefer\\nbelow\\nAPI:\\nhttps://erp.vineretail.com/swagger/#/Vendors\\n2.\\nGetting\\nError\\nas\\n“Vendor\\ncode\\nis\\nMandatory”\\nwhile\\nuploading\\nVendor\\nmaster\\nA:\\nWhile\\nuploading\\nVendor\\nMaster\\nplease\\nmake\\nsure\\nto\\nfill\\nall\\nmandatory\\nfields.\\nYou\\nare\\nnot\\nentering\\nVendor\\ncode\\nand\\nhence\\ngetting\\nthis\\nerror.\\nPlease\\nretry\\nafter\\nputting\\nvendor\\ncode.\\n3.\\nGetting\\nError\\nas\\n“Vendor\\nName\\nis\\nMandatory”\\nwhile\\nuploading\\nVendor\\nmaster\\nA:\\nWhile\\nuploading\\nVendor\\nMaster\\nplease\\nmake\\nsure\\nto\\nfill\\nall\\nmandatory\\nfields.\\nYou\\nare\\nnot\\nentering\\nVendor\\nName\\nand\\nhence\\ngetting\\nthis\\nerror.\\nPlease\\nretry\\nafter\\nputting\\nthe\\nvendor\\nName.\\n4.\\nGetting\\nError\\nas\\n“Tax\\nZone\\nis\\nMandatory”\\nwhile\\nuploading\\nVendor\\nmaster\\nA:\\nTax\\nzone\\nis\\nmandatory\\nfield\\nwhich\\ngives\\ninformation\\nof\\nZone\\n(State)\\nfrom\\nwhich\\nclient\\nbelongs\\nto\\nwhich\\nstate\\nso\\nplease\\nselect\\nvalid\\nTax\\nZone.', start_char_idx=None, end_char_idx=None, text_template='{metadata_str}\\n\\n{content}', metadata_template='{key}: {value}', metadata_seperator='\\n'),\n",
       " Document(id_='6c81caa2-08d2-4202-a7af-3361b86c2e12', embedding=None, metadata={'page_label': '2', 'file_name': \"/Users/swapnildhamu/Developer/vin-ai/RAG/llamaindex_and_openAI/data/Trading Partners FAQ's.pdf\", 'file_path': \"/Users/swapnildhamu/Developer/vin-ai/RAG/llamaindex_and_openAI/data/Trading Partners FAQ's.pdf\", 'file_type': 'application/pdf', 'file_size': 109799, 'creation_date': '2024-03-11', 'last_modified_date': '2024-03-11'}, excluded_embed_metadata_keys=['file_name', 'file_type', 'file_size', 'creation_date', 'last_modified_date', 'last_accessed_date'], excluded_llm_metadata_keys=['file_name', 'file_type', 'file_size', 'creation_date', 'last_modified_date', 'last_accessed_date'], relationships={}, text='5.\\nGetting\\nError\\nas\\n“Currency\\nCode\\nis\\nMandatory”\\nwhile\\nuploading\\nVendor\\nmaster\\nA:\\nPlease\\nselect\\nvalid\\ncurrency\\ncode\\napplicable\\nfor\\nthe\\nVendor,\\nthis\\nfield\\nis\\nmandatory\\nso\\nthat\\ninvoice\\ncan\\nbe\\ncreated\\nas\\nper\\nrespective\\ncurrency.\\n6.\\nFacing\\nError\\nas\\n“Vendor\\ntype\\nMandatory\\nError”\\nA:\\nPlease\\nselect\\nvalid\\nVentory\\ntype,\\nie.\\noutright\\nor\\nMarketplace.\\nThis\\nfield\\ndefines\\nthe\\ntype\\nof\\nVendor.\\nCustomer\\nMaster:\\n1.\\nWant\\nto\\nadd\\nCustomer\\nmaster\\nPlease\\nassist?\\nA:\\nCustomer\\nMaster\\ncan\\nbe\\nadded\\nfrom\\nthe\\nMaster\\nscreen\\none\\nby\\none.\\nYou\\ncan\\nNavigate\\nto\\nthe\\ncustomer\\nmaster\\nas\\nbelow:\\nNavigation:\\nMasters\\n>\\nT rading\\nPartners\\n>\\nCustomer\\nMaster\\nFor\\nMore\\nDetails\\nPlease\\nrefer\\nbelow\\ndocument:\\nhttps://vinculumhelpdesk.freshdesk.com/a/solutions/articles/9000212663\\n2.\\nGetting\\nerror\\nas\\nCustomer\\ntype\\nis\\nMandatory ,\\nhow\\ncan\\nthis\\nbe\\neliminated?\\nA:\\nCustomer\\ntype\\nfield\\nis\\na\\nmandatory\\nfield\\nused\\nto\\ndefine\\nwhether\\na\\ncustomer\\nis\\nB2B\\nor\\nB2C,\\nso\\nplease\\nretry\\nafter\\nselecting\\nthe\\nrespective\\ncustomer\\ntype.\\n3.\\nWhy\\nam\\nI\\ngetting\\nan\\nerror\\nas\\nGST\\nno\\nis\\nmandatory\\nwhile\\nadding\\ncustomer\\nmaster?\\nA:\\nY ou\\nmust\\nhave\\nselected\\ncustomer\\ntype\\nas\\nB2B,\\nfor\\nB2B\\ncustomer\\nGST in\\nnumber\\nis\\nmandatory\\nto\\nadd,\\nso\\neither\\nchange\\nthe\\ncustomer\\ntype\\nas\\nB2C\\nor\\nif\\nit\\nis\\nB2B\\nthen\\nproceed\\nwith\\nadding\\nrelevant\\nGST\\nno.', start_char_idx=None, end_char_idx=None, text_template='{metadata_str}\\n\\n{content}', metadata_template='{key}: {value}', metadata_seperator='\\n'),\n",
       " Document(id_='e37df316-1bf9-47be-99a1-7c785db251ea', embedding=None, metadata={'page_label': '1', 'file_name': '/Users/swapnildhamu/Developer/vin-ai/RAG/llamaindex_and_openAI/data/VENDOR MASTER _ Vinculum Knowledge Central.pdf', 'file_path': '/Users/swapnildhamu/Developer/vin-ai/RAG/llamaindex_and_openAI/data/VENDOR MASTER _ Vinculum Knowledge Central.pdf', 'file_type': 'application/pdf', 'file_size': 472141, 'creation_date': '2024-03-11', 'last_modified_date': '2024-03-11'}, excluded_embed_metadata_keys=['file_name', 'file_type', 'file_size', 'creation_date', 'last_modified_date', 'last_accessed_date'], excluded_llm_metadata_keys=['file_name', 'file_type', 'file_size', 'creation_date', 'last_modified_date', 'last_accessed_date'], relationships={}, text='11/03/2024, 15:47 VENDOR MASTER : Vinculum Knowledge Central\\nhttps://vinculumhelpdesk.freshdesk.com/support/solutions/articles/9000212657-vendor-master 1/5VENDOR MASTER\\nModiﬁed on: Wed, 31 Jan, 2024 at 5:34 PM\\nVendor Master\\nVendor  master  \\nThrough Vendor Master , seller can manage the information of all the vendors from one screen. Master Data\\nsetup is the initial configuration process where all the primary setup steps are performed on the basis of\\nwhich the transactions will take place. A Vendor needs to be configured to the system using the Vendor\\nCreate/Edit screen. \\nVendor  Enquiry Scr een\\nNavigate: WMS>T rading Partners>V endor Master . This section will enable user to enquire and search an\\nalready existing vendor and vendor details. User can refine the search further by using filters as per\\nrequirements.\\nButtons on the scr een:\\nSear ch: Use search filters and click on this button to view the details of the desired vendor .\\nReset : To remove all search filters.\\nImport : Will be use to configure multiple vendors at a time using an excel template.\\nExport : To download the filtered or searched result which is displayed in the data grid.\\nAdd New : To add a new vendor to the database.\\nVendor  Create/Edit scr een:', start_char_idx=None, end_char_idx=None, text_template='{metadata_str}\\n\\n{content}', metadata_template='{key}: {value}', metadata_seperator='\\n'),\n",
       " Document(id_='873a5877-e52e-48c0-993f-366da6ce448e', embedding=None, metadata={'page_label': '2', 'file_name': '/Users/swapnildhamu/Developer/vin-ai/RAG/llamaindex_and_openAI/data/VENDOR MASTER _ Vinculum Knowledge Central.pdf', 'file_path': '/Users/swapnildhamu/Developer/vin-ai/RAG/llamaindex_and_openAI/data/VENDOR MASTER _ Vinculum Knowledge Central.pdf', 'file_type': 'application/pdf', 'file_size': 472141, 'creation_date': '2024-03-11', 'last_modified_date': '2024-03-11'}, excluded_embed_metadata_keys=['file_name', 'file_type', 'file_size', 'creation_date', 'last_modified_date', 'last_accessed_date'], excluded_llm_metadata_keys=['file_name', 'file_type', 'file_size', 'creation_date', 'last_modified_date', 'last_accessed_date'], relationships={}, text='11/03/2024, 15:47 VENDOR MASTER : Vinculum Knowledge Central\\nhttps://vinculumhelpdesk.freshdesk.com/support/solutions/articles/9000212657-vendor-master 2/5\\n\\xa0\\nField Name Description\\nVendor  codeVendor Code is the unique code provided by the system to each vendor . It cannot be\\nedited once saved.\\nVendor  NameUser given name to the Vendor with which he is registering in the system. Vendor Names\\ncan be identical and hence we require the vendor codes to dif ferentiate.\\nVendor  Short\\nNameIt is another name used for the vendor\\nCST  Regi. No To capture Vendor ’s Central Sales Tax registration number . This is not a mandatory field.\\nVat Regi No To capture Vendor ’s Value added Tax registration number . This is not a mandatory field.\\nTin No To capture Vendor ’s Taxpayer Identification Number . This is not a mandatory field.\\nCredit DaysThis is the number of days or time limit each vendor provides to the company to pay of f\\nhis/her dues\\nTax Zone State/city/county under which a particular vendor is registered \\nStatusWhen a new vendor is created and saved but not confirmed, the status of that vendor is\\n‘Pending Confirmation’. All the vendors that are currently active in system are in\\n‘Confirmed’  Status. A vendor in ‘Deactivated’  status can no longer be used for any\\ntransactions.\\nReturn Select this checkbox if the vendor supports the return of products, else leave it blank.\\nGL CodeThe general ledger code is a code used by a business used for each of its accounts to\\nkeep track of its financial transactions and to prepare financial reports.\\nCurr ency CodeSelect the code from the list of currencies supported in the area. Mention the Vendor ’s\\npreferred currency to trade in\\nParent VendorMultiple addresses can be mapped for one vendor . Separate vendor codes are registered\\nfor each location and mapped to the master/parent vendor . If logged in with the parent\\nvendor , orders from all locations can be viewed and managed\\nPAN/IT  Number To capture Vendor ’s Permanent Account Number . This is not a mandatory field.\\nGST  No. To capture Vendor ’s Goods and Services Tax Number . This is not a mandatory field.\\nMin Order  Value It is the minimum amount of order that can be placed with the vendor', start_char_idx=None, end_char_idx=None, text_template='{metadata_str}\\n\\n{content}', metadata_template='{key}: {value}', metadata_seperator='\\n'),\n",
       " Document(id_='d420c5a1-0400-47b8-904f-6826970983dc', embedding=None, metadata={'page_label': '3', 'file_name': '/Users/swapnildhamu/Developer/vin-ai/RAG/llamaindex_and_openAI/data/VENDOR MASTER _ Vinculum Knowledge Central.pdf', 'file_path': '/Users/swapnildhamu/Developer/vin-ai/RAG/llamaindex_and_openAI/data/VENDOR MASTER _ Vinculum Knowledge Central.pdf', 'file_type': 'application/pdf', 'file_size': 472141, 'creation_date': '2024-03-11', 'last_modified_date': '2024-03-11'}, excluded_embed_metadata_keys=['file_name', 'file_type', 'file_size', 'creation_date', 'last_modified_date', 'last_accessed_date'], excluded_llm_metadata_keys=['file_name', 'file_type', 'file_size', 'creation_date', 'last_modified_date', 'last_accessed_date'], relationships={}, text='11/03/2024, 15:47 VENDOR MASTER : Vinculum Knowledge Central\\nhttps://vinculumhelpdesk.freshdesk.com/support/solutions/articles/9000212657-vendor-master 3/5Lead Time (In\\nDays)It is the expected number of days in which the Vendor will fulfil the PO In skuvendorlink\\ntable we have lead time.\\nexpected delivery date = PO create date + lead time\\nVendor  Type There are 4 types of Vendors: Outright, JIT , Marketplace and B2S2 \\nSOR DaysSale or Return is type of transaction in which the vendor allows the seller to keep\\ninventory without paying for it. The seller pays the retail price of the goods that get sold\\nand returns the rest to the vendor after a certain number of days that can be defined here.\\nIsCostbasedon\\nMarginIf checked, SKU cost and mar gin can be set in skuvendorlink table, based on which the\\ncost will be calculated.\\nVendor  is tax\\nexemptedCheck this box if no tax has to be levied from the Vendor \\nBypass SKU\\nVendor  LinkIf Bypass SKU vendor link is disabled, then it means PO can be created only against this\\nvendor for the SKU which is mapped with this vendor .\\nPO Additional\\nCharge TypeSelect any char ge type from the dropdown. Char ge types can be defined through:\\nProcurement>Setup>Purchase Char ge Masters\\nCost Derivative Select the Vendor Cost Derivative from the dropdown menu\\nLicense No Enter the Vendor License No. This is an optional field.\\nVendor  Types:\\na. Outright Vendor : It involves a normal purchase cycle in which a purchase order is raised to the\\nvendor in order to replenish the stock in the inventory\\nb. Just in Time (JIT) Vendor : Sellers don’ t keep inventory in this model. POs are raised to vendors only\\nwhen orders come in.\\nc. Marketplace Vendor:  Listed seller . Marketplace will take the order and forward the same to the seller .\\nThe billing and shipping party are the vendor . There are no purchase cycles involved.\\nd. B2S2(Bill to Ship to) : It is a combination of JIT  and marketplace model. MP  will take the order and\\nprovide the invoice. Vendor will not be char ged on the basis of orders, instead, POs will be raised to the\\nvendor . The billing party is MP , and the shipping party is vendor . \\n \\nBank Details : The below mentioned bank account details of vendors are required for the further transactions:\\nBank Name\\nAccount No\\nBranch Name\\nBranch Address\\nIFSC Code\\nSwift Code\\nMICR Code\\nAddr ess: Shipping Address Details & Billing Address Details: Vendor ’s full shipping and billing address\\nrequired here in these tabs for the case of returns and other related activities.\\nAddress 1*', start_char_idx=None, end_char_idx=None, text_template='{metadata_str}\\n\\n{content}', metadata_template='{key}: {value}', metadata_seperator='\\n'),\n",
       " Document(id_='0c846d82-1b2b-4400-8ff9-17d70afc0a5b', embedding=None, metadata={'page_label': '4', 'file_name': '/Users/swapnildhamu/Developer/vin-ai/RAG/llamaindex_and_openAI/data/VENDOR MASTER _ Vinculum Knowledge Central.pdf', 'file_path': '/Users/swapnildhamu/Developer/vin-ai/RAG/llamaindex_and_openAI/data/VENDOR MASTER _ Vinculum Knowledge Central.pdf', 'file_type': 'application/pdf', 'file_size': 472141, 'creation_date': '2024-03-11', 'last_modified_date': '2024-03-11'}, excluded_embed_metadata_keys=['file_name', 'file_type', 'file_size', 'creation_date', 'last_modified_date', 'last_accessed_date'], excluded_llm_metadata_keys=['file_name', 'file_type', 'file_size', 'creation_date', 'last_modified_date', 'last_accessed_date'], relationships={}, text='11/03/2024, 15:47 VENDOR MASTER : Vinculum Knowledge Central\\nhttps://vinculumhelpdesk.freshdesk.com/support/solutions/articles/9000212657-vendor-master 4/5Address 2*\\nAddress 3\\nContact Person*\\nPhone*\\nEmail*\\nLatitude\\nLongitude\\nCountry*\\nState*\\nCity\\nPin Code*\\nCopy to Billing checkbox\\nUser  Defined Fields:  These are the custom fields which can be used to capture any additional information as\\nper requirement.\\n \\nAttached Documents : Attached document section lets user to attach any important document/contract for the\\nvendor .\\nTerms and conditions : Users define the terms and conditions for the transactions and processes through this\\nscreen, for all the vendors to abide by .\\n \\nSeller  Details:  It is used to record details of the seller when Vendor Type is Marketplace in Vendor Master\\ntab. In this case, the MP  is the WMs user , and the seller is the vendor .  \\nDefault Delivery Mode : The default mode of delivery or transportation for this particular vendor .\\n1. Cross Dock: It is the practise of unloading goods from one truck and loading them into another at\\na docking station, without storing them in the warehouse. Hence, cross docking helps in reducing\\nthe storage space and the total time taken to fulfil the orders\\n2. Vendor self-ship: The vendors can choose their own transporters in this mode\\n3. Dropship: In this mode, the seller does not keep any stock on hand. The fulfilment will be done\\ndirectly by the vendor , who will be allowed to choose their delivery partner\\n4. Seller on Inventory: Sellers manage their own inventory \\nInvoice By*:  The seller can choose between MP  and Self invoice number\\nDelivery Mode Updation Allowed : This checkbox will decide whether the vendor will be allowed to\\nchange the Default Delivery Mode. Sellers can change the delivery mode from the seller panel if this\\nbox is check marked.\\nFulfilment Charges : Fulfilment Centre char ges in case when MP  maintains the inventory and fulfils\\nthe orders for sellers\\nPayment charges : Prepaid/COD char ges\\nCourier  Charges: Delivery Char ges\\nReturn Acceptance Charges', start_char_idx=None, end_char_idx=None, text_template='{metadata_str}\\n\\n{content}', metadata_template='{key}: {value}', metadata_seperator='\\n'),\n",
       " Document(id_='4dfae010-a23e-4f2b-afd2-98cea0bc006d', embedding=None, metadata={'page_label': '5', 'file_name': '/Users/swapnildhamu/Developer/vin-ai/RAG/llamaindex_and_openAI/data/VENDOR MASTER _ Vinculum Knowledge Central.pdf', 'file_path': '/Users/swapnildhamu/Developer/vin-ai/RAG/llamaindex_and_openAI/data/VENDOR MASTER _ Vinculum Knowledge Central.pdf', 'file_type': 'application/pdf', 'file_size': 472141, 'creation_date': '2024-03-11', 'last_modified_date': '2024-03-11'}, excluded_embed_metadata_keys=['file_name', 'file_type', 'file_size', 'creation_date', 'last_modified_date', 'last_accessed_date'], excluded_llm_metadata_keys=['file_name', 'file_type', 'file_size', 'creation_date', 'last_modified_date', 'last_accessed_date'], relationships={}, text='11/03/2024, 15:47 VENDOR MASTER : Vinculum Knowledge Central\\nhttps://vinculumhelpdesk.freshdesk.com/support/solutions/articles/9000212657-vendor-master 5/5\\nReturn Location Type\\nReturn Location\\nReturn Location Addr ess\\nDigital Sign URL\\nSLA  (In Hours):  Service Level Agreement is the time in which the vendor will fulfil the order starting\\nfrom receiving the order to the time it is shipped from the warehouse\\nDigital Sign Image\\nAction Buttons on the scr een:\\nAdd New : To configure a new vendor in the system\\nSave : To make changes in vendor information and update in vendor master or to create a new vendor\\nand save the details to confirm later\\nLink To Stor e: To map vendor to warehouses or store locations. Users will be able to make\\ntransactions against the vendor only when they login from the location they are linked to.\\nConfirm:  To confirm vendor configuration. Once confirmed, the vendor can be used for transactions\\nacross eRetail.\\nDeactivate : Users can deactivate a vendor if they no longer want to procure goods from these vendors.\\nNo transactions can be processed for a Deactivated vendor .\\nAudit : A dialog box will open showing the following information on the screen:\\n', start_char_idx=None, end_char_idx=None, text_template='{metadata_str}\\n\\n{content}', metadata_template='{key}: {value}', metadata_seperator='\\n')]"
      ]
     },
     "execution_count": 19,
     "metadata": {},
     "output_type": "execute_result"
    }
   ],
   "source": [
    "documents\n"
   ]
  },
  {
   "cell_type": "code",
   "execution_count": 20,
   "metadata": {},
   "outputs": [
    {
     "name": "stderr",
     "output_type": "stream",
     "text": [
      "Generating embeddings: 100%|██████████| 23/23 [00:02<00:00, 10.07it/s]\n"
     ]
    }
   ],
   "source": [
    "index=VectorStoreIndex(documents, show_progress=True)"
   ]
  },
  {
   "cell_type": "code",
   "execution_count": 21,
   "metadata": {},
   "outputs": [
    {
     "data": {
      "text/plain": [
       "<llama_index.core.indices.vector_store.base.VectorStoreIndex at 0x139dedf10>"
      ]
     },
     "execution_count": 21,
     "metadata": {},
     "output_type": "execute_result"
    }
   ],
   "source": [
    "index"
   ]
  },
  {
   "cell_type": "code",
   "execution_count": 22,
   "metadata": {},
   "outputs": [],
   "source": [
    "query_engine=index.as_query_engine() "
   ]
  },
  {
   "cell_type": "code",
   "execution_count": 8,
   "metadata": {},
   "outputs": [
    {
     "data": {
      "text/plain": [
       "<llama_index.core.query_engine.retriever_query_engine.RetrieverQueryEngine at 0x13aceb380>"
      ]
     },
     "execution_count": 8,
     "metadata": {},
     "output_type": "execute_result"
    }
   ],
   "source": [
    "query_engine"
   ]
  },
  {
   "cell_type": "code",
   "execution_count": 17,
   "metadata": {},
   "outputs": [],
   "source": [
    "from llama_index.core.retrievers import VectorIndexRetriever\n",
    "from llama_index.core.query_engine import RetrieverQueryEngine\n",
    "from llama_index.core.postprocessor import SimilarityPostprocessor\n",
    "\n",
    "\n",
    "retriever=VectorIndexRetriever(index=index)\n",
    "\n",
    "\n",
    "postProcessor=SimilarityPostprocessor(similarity_cutoff=0.85)\n",
    "\n",
    "query_engine=RetrieverQueryEngine(retriever=retriever,node_postprocessors=[postProcessor])"
   ]
  },
  {
   "cell_type": "code",
   "execution_count": 12,
   "metadata": {},
   "outputs": [],
   "source": [
    "response=query_engine.query(\"Want to add new SKU’s/ Items Please assist?\")"
   ]
  },
  {
   "cell_type": "code",
   "execution_count": 13,
   "metadata": {},
   "outputs": [
    {
     "name": "stdout",
     "output_type": "stream",
     "text": [
      "Final Response: To add new SKUs or items, you can use the \"Add New\"\n",
      "option in the system. After clicking on this option, a screen will\n",
      "open where you can choose the SKU classification from the dropdown\n",
      "menu. The major classifications available are Gradable, Normal, Style,\n",
      "and BOM. You can select the appropriate classification based on your\n",
      "requirements and proceed with creating the new SKU or item.\n",
      "______________________________________________________________________\n",
      "Source Node 1/3\n",
      "Node ID: 0599a56b-8ba2-48be-8903-0753318369a3\n",
      "Similarity: 0.8314592697353788\n",
      "Text: 03/03/2024, 12:05 SKU Master : Vinculum Knowledge Central https:\n",
      "//vinculumhelpdesk.freshdesk.com/support/solutions/articles/9000213659\n",
      "-sku-master 3/7Action Buttons Description SearchClicking on the search\n",
      "button without entering any filter criterion will populate the list of\n",
      "all the SKUs created so far based on default filter setting. User can\n",
      "f...\n",
      "______________________________________________________________________\n",
      "Source Node 2/3\n",
      "Node ID: d663f474-0598-4a6d-93aa-d8ee9894ba95\n",
      "Similarity: 0.8296910110281119\n",
      "Text: 03/03/2024, 12:05 SKU Master : Vinculum Knowledge Central https:\n",
      "//vinculumhelpdesk.freshdesk.com/support/solutions/articles/9000213659\n",
      "-sku-master 7/7Shipping Charges This reflects the charges required for\n",
      "shipping the SKU. Handling Charges This reflects the charges required\n",
      "for handling the SKU. Def Source WHThis is used to define the\n",
      "warehouse ...\n",
      "______________________________________________________________________\n",
      "Source Node 3/3\n",
      "Node ID: baff30dd-7a39-4fc1-9b91-701fdf2c643f\n",
      "Similarity: 0.8209076590180499\n",
      "Text: 03/03/2024, 12:06 SKU Import : Vinculum Knowledge Central https:\n",
      "//vinculumhelpdesk.freshdesk.com/support/solutions/articles/9000213260\n",
      "-sku-import 2/3The following fields are available for the user to\n",
      "import the correct SKU details. a. Import Type: The user can define\n",
      "the purpose of the import by selecting any of the dropdown choices,\n",
      "which are: ...\n"
     ]
    }
   ],
   "source": [
    "from llama_index.core.response.pprint_utils import pprint_response\n",
    "pprint_response(response,show_source=True)"
   ]
  },
  {
   "cell_type": "code",
   "execution_count": 10,
   "metadata": {},
   "outputs": [
    {
     "name": "stdout",
     "output_type": "stream",
     "text": [
      "To edit any SKU field, you need to navigate to the SKU Enquiry screen and click on the ‘Blue’ colored SKU code. This action will open the SKU Create/Edit screen, where you can make the necessary changes to the SKU details.\n"
     ]
    }
   ],
   "source": [
    "print(response)"
   ]
  },
  {
   "cell_type": "code",
   "execution_count": null,
   "metadata": {},
   "outputs": [],
   "source": []
  },
  {
   "cell_type": "markdown",
   "metadata": {},
   "source": [
    "## Stroing the index"
   ]
  },
  {
   "cell_type": "code",
   "execution_count": 9,
   "metadata": {},
   "outputs": [
    {
     "name": "stdout",
     "output_type": "stream",
     "text": [
      "A Stock Keeping Unit or SKU is a distinct type of item that can be purchased, sold, or tracked with a unique alphanumeric code/scannable bar code printed on it or its packaging. This code contains all the attributes associated with that item-type that can distinguish it from other item-types. These attributes can be manufacturer name, material used, color, size, warranty, etc. The term SKU is used by stores, e-commerce vendors, warehouses, product fulfillment centers, and any other business in inventory management field.\n"
     ]
    }
   ],
   "source": [
    "import os.path\n",
    "from llama_index.core import (\n",
    "    VectorStoreIndex,\n",
    "    SimpleDirectoryReader,\n",
    "    StorageContext,\n",
    "    load_index_from_storage\n",
    ")\n",
    "\n",
    "PERSIST_DIR = \"./storage\"\n",
    "if not os.path.exists(PERSIST_DIR):\n",
    "    # load the documents and create the index\n",
    "    documents = SimpleDirectoryReader(\"data\").load_data()\n",
    "    index = VectorStoreIndex.from_documents(documents)\n",
    "    # store it for later\n",
    "    index.storage_context.persist(persist_dir=PERSIST_DIR)\n",
    "else:\n",
    "    # load the existing index\n",
    "    storage_context = StorageContext.from_defaults(persist_dir=PERSIST_DIR)\n",
    "    index = load_index_from_storage(storage_context)\n",
    "\n",
    "# either way we can now query the index\n",
    "query_engine = index.as_query_engine()\n",
    "response = query_engine.query(\"What are SKU?\")\n",
    "print(response)\n",
    "queries=[\n",
    "    \"What are SKU?\",\n",
    "    \"Want to add new SKU's/ Items Please assist?\",\n",
    "    \"How can we update the SKU details like SKU Name, Price, Description in Bulk?\",\n",
    "    \"Getting Error as Color not available while uploading item master?\",\n",
    "    \"Getting Error as UOM not available while uploading item master?\",\n",
    "    \"Getting Error as size not available while uploading item master?\",\n",
    "    \"Getting Error as Hierarchy not available while uploading item master?\",\n",
    "    \"Getting Error as HSN Code not available while uploading item master?\",\n",
    "    \"Getting Error as Brand not available while uploading item master?\",\n",
    "    \"Getting Error as Upload SKU within assigned limit\",\n",
    "    \"Getting error as “Excel Cell [D9] must not exceed the length above 50 characters” while uploading the SKU master\",\n",
    "    \"Getting error as “Excel Cell [G9] must not exceed the length above 200 characters” while uploading the SKU master\",\n",
    "    \"Getting Invalid Template Error\",\n",
    "    \"Getting error as Duplicate SKU code while uploading item master\",\n",
    "    \"Error due to wrong format.\",\n",
    "    \"Server Encountered Error while uploading the File\",\n",
    "    \"File uploaded successfully but showing under processing.\",\n",
    "    \"Want to upload SKU Barcode / EAN code in the system against uploaded SKU’s\",\n",
    "    \"Facing Error as EAN/barcode no is already mapped with SKU while uploading the SKU master.\",\n",
    "    \"Getting an error as “This SKU is not a valid Sku” while uploading the SKU barcode.\"\n",
    "]\n",
    "# for query in queries:\n",
    "#     response = query_engine.query(query)\n",
    "#     print(f\"user: {query}\")\n",
    "#     # pprint_response(response, show_source=True)\n",
    "#     print(f\"Assistant: {response}\")\n",
    "#     print()"
   ]
  },
  {
   "cell_type": "code",
   "execution_count": 71,
   "metadata": {},
   "outputs": [
    {
     "name": "stdout",
     "output_type": "stream",
     "text": [
      "Loaded index from storage\n",
      "The SKU Import module is a feature in Vin eRetail that allows users to import SKUs in bulk using a CSV template file. It consists of two sections: Import and Download. The Import section enables users to import SKUs in bulk by selecting the Import Type, Attribute Set, and uploading the correct CSV file. The Download section allows users to search and download the uploaded CSV file of SKU imports based on various criteria.\n"
     ]
    }
   ],
   "source": [
    "import os.path\n",
    "from llama_index.core import (\n",
    "    VectorStoreIndex,\n",
    "    SimpleDirectoryReader,\n",
    "    StorageContext,\n",
    "    load_index_from_storage\n",
    ")\n",
    "\n",
    "PERSIST_DIR = \"./storage\"\n",
    "if not os.path.exists(PERSIST_DIR):\n",
    "    # load the documents and create the index\n",
    "    documents = SimpleDirectoryReader(\"data\").load_data()\n",
    "    index = VectorStoreIndex.from_documents(documents)\n",
    "    # store it for later\n",
    "    index.storage_context.persist(persist_dir=PERSIST_DIR)\n",
    "    print(\"Created and stored index\")\n",
    "else:\n",
    "    # load the existing index\n",
    "    storage_context = StorageContext.from_defaults(persist_dir=PERSIST_DIR)\n",
    "    index = load_index_from_storage(storage_context)\n",
    "    print(\"Loaded index from storage\")\n",
    "\n",
    "# either way we can now query the index\n",
    "query_engine = index.as_query_engine()\n",
    "response = query_engine.query(\"What is SKU Import module?\")\n",
    "print(response)"
   ]
  },
  {
   "cell_type": "markdown",
   "metadata": {},
   "source": [
    "## Trading Partner FAQ’s:\n"
   ]
  },
  {
   "cell_type": "code",
   "execution_count": 24,
   "metadata": {},
   "outputs": [
    {
     "name": "stdout",
     "output_type": "stream",
     "text": [
      "user: Mujhe customer master add karte samay GST number mandatory error kyun aa raha hai?\n",
      "Assistant: Aapko customer master add karte samay GST number mandatory error tab aata hai jab aapne customer type ko B2B select kiya hai, kyunki B2B customers ke liye GST number mandatory hota hai. Isliye ya to aap customer type ko B2C mein change karein ya fir agar B2B hai to relevant GST number add karne ke saath proceed karein.\n",
      "\n"
     ]
    }
   ],
   "source": [
    "# Can I pull my sku mapping through marketplace\n",
    "# Need assistance in creating New Vendor?\n",
    "# Getting Error as “Vendor code is Mandatory” while uploading Vendor master\n",
    "# Getting Error as “Vendor Name is Mandatory” while uploading Vendor master\n",
    "# Getting Error as “Tax Zone is Mandatory” while uploading Vendor master\n",
    "# Getting Error as “Currency Code is Mandatory” while uploading Vendor master\n",
    "# Facing Error as “Vendor type Mandatory Error”\n",
    "# Want to add Customer master Please assist?\n",
    "# Getting error as Customer type is Mandatory, how can this be eliminated?\n",
    "# Why am I getting an error as GST no is mandatory while adding customer master?\n",
    "\n",
    "# queries=[\n",
    "#     \"What is SKU Import module?\",\n",
    "#     \"Need assistance in creating New Vendor?\",\n",
    "#     \"Getting Error as “Vendor code is Mandatory” while uploading Vendor master\",\n",
    "#     \"Getting Error as “Vendor Name is Mandatory” while uploading Vendor master\",\n",
    "#     \"Getting Error as “Tax Zone is Mandatory” while uploading Vendor master\",\n",
    "#     \"Getting Error as “Currency Code is Mandatory” while uploading Vendor master\",\n",
    "#     \"Facing Error as “Vendor type Mandatory Error”\",\n",
    "#     \"Want to add Customer master Please assist?\",\n",
    "#     \"Getting error as Customer type is Mandatory, how can this be eliminated?\",\n",
    "#     \"Why am I getting an error as GST no is mandatory while adding customer master?\"\n",
    "# ]\n",
    "\n",
    "# queries=[\"can i manage multiple taxes in vinculum? if yes how can i do that?\",]\n",
    "queries=[\"\"]\n",
    "\n",
    "for query in queries:\n",
    "    response = query_engine.query(query)\n",
    "    print(f\"user: {query}\")\n",
    "    # pprint_response(response, show_source=True)\n",
    "    print(f\"Assistant: {response}\")\n",
    "    print()"
   ]
  }
 ],
 "metadata": {
  "kernelspec": {
   "display_name": ".venv",
   "language": "python",
   "name": "python3"
  },
  "language_info": {
   "codemirror_mode": {
    "name": "ipython",
    "version": 3
   },
   "file_extension": ".py",
   "mimetype": "text/x-python",
   "name": "python",
   "nbconvert_exporter": "python",
   "pygments_lexer": "ipython3",
   "version": "3.12.0"
  }
 },
 "nbformat": 4,
 "nbformat_minor": 2
}
