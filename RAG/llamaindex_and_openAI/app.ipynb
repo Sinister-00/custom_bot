{
 "cells": [
  {
   "cell_type": "code",
   "execution_count": 5,
   "metadata": {},
   "outputs": [
    {
     "data": {
      "text/plain": [
       "True"
      ]
     },
     "execution_count": 5,
     "metadata": {},
     "output_type": "execute_result"
    }
   ],
   "source": [
    "import os\n",
    "from dotenv import load_dotenv\n",
    "load_dotenv()"
   ]
  },
  {
   "cell_type": "code",
   "execution_count": 8,
   "metadata": {},
   "outputs": [],
   "source": [
    "os.environ[\"OPENAI_API_KEY\"]=os.getenv(\"OPENAI_API_KEY\")"
   ]
  },
  {
   "cell_type": "code",
   "execution_count": 14,
   "metadata": {},
   "outputs": [],
   "source": [
    "from llama_index.core import VectorStoreIndex, SimpleDirectoryReader\n",
    "documents=SimpleDirectoryReader(\"data\").load_data()"
   ]
  },
  {
   "cell_type": "code",
   "execution_count": 15,
   "metadata": {},
   "outputs": [
    {
     "data": {
      "text/plain": [
       "[Document(id_='1ecbc4fc-2611-48de-b403-aa1f87fe8871', embedding=None, metadata={'page_label': '1', 'file_name': '/Users/swapnildhamu/Developer/vin-ai/RAG/llamaindex_and_openAI/data/SKU Import _ Vinculum Knowledge Central.pdf', 'file_path': '/Users/swapnildhamu/Developer/vin-ai/RAG/llamaindex_and_openAI/data/SKU Import _ Vinculum Knowledge Central.pdf', 'file_type': 'application/pdf', 'file_size': 242159, 'creation_date': '2024-03-04', 'last_modified_date': '2024-03-03'}, excluded_embed_metadata_keys=['file_name', 'file_type', 'file_size', 'creation_date', 'last_modified_date', 'last_accessed_date'], excluded_llm_metadata_keys=['file_name', 'file_type', 'file_size', 'creation_date', 'last_modified_date', 'last_accessed_date'], relationships={}, text='03/03/2024, 12:06 SKU Import : Vinculum Knowledge Central\\nhttps://vinculumhelpdesk.freshdesk.com/support/solutions/articles/9000213260-sku-import 1/3SKU Import\\nModiﬁed on: Wed, 23 Mar, 2022 at 8:08 PM\\nSKU Import\\nIntroduction\\nThe SKU import module in Vin eRetail enables the user to import SKUs to the system in bulk using\\nthe CSV template file. It also allows to download the uploaded CSV file.\\nNavigation:  Master >> SKU Management >> SKU Import\\n SKU Import\\nThe SKU Import module consists of two sections:\\ni. Import\\nii. Download\\n \\nI. Import:\\xa0 This section allows the user to import the SKUs in Bulk via CSV template file.\\n', start_char_idx=None, end_char_idx=None, text_template='{metadata_str}\\n\\n{content}', metadata_template='{key}: {value}', metadata_seperator='\\n'),\n",
       " Document(id_='a4024128-f5c2-40cb-a1c3-a07e9e731bfa', embedding=None, metadata={'page_label': '2', 'file_name': '/Users/swapnildhamu/Developer/vin-ai/RAG/llamaindex_and_openAI/data/SKU Import _ Vinculum Knowledge Central.pdf', 'file_path': '/Users/swapnildhamu/Developer/vin-ai/RAG/llamaindex_and_openAI/data/SKU Import _ Vinculum Knowledge Central.pdf', 'file_type': 'application/pdf', 'file_size': 242159, 'creation_date': '2024-03-04', 'last_modified_date': '2024-03-03'}, excluded_embed_metadata_keys=['file_name', 'file_type', 'file_size', 'creation_date', 'last_modified_date', 'last_accessed_date'], excluded_llm_metadata_keys=['file_name', 'file_type', 'file_size', 'creation_date', 'last_modified_date', 'last_accessed_date'], relationships={}, text='03/03/2024, 12:06 SKU Import : Vinculum Knowledge Central\\nhttps://vinculumhelpdesk.freshdesk.com/support/solutions/articles/9000213260-sku-import 2/3The following fields are available for the user to import the correct SKU details.\\na. Import Type: The user can define the purpose of the import by selecting any of the dropdown\\nchoices, which are:\\n1. Create/Update: To create or update the SKUs in bulk\\n2. Cost Price Update: To update the price of the SKUs in bulk\\n3. BOM Link: To import BOM SKUs in bulk\\n \\nb. Attribute Set *: User will select the attribute set for SKU import from here. The SKU imported\\nfrom here will be assigned to the selected attribute.\\n \\nc. Upload Template: User will select the appropriate CSV file to be imported, using the ‘Choose\\nFile’ option.\\n ‘Download Template’  option allows the user to download the CSV template file for the\\nselected ‘Import Type’.\\n**Note: Max 500 rows can be imported in an attempt of Import.  (However , only for a first time\\nimport of the SKUs, the no. of rows can be increased from backend at the request of the user)\\n \\n1. Download:\\xa0 This section allows the user to search and download the uploaded CSV file of\\nSKU import by first searching them based on File Status, file Upload Date and other similar\\ncriterion.\\n \\nAction Buttons\\nOn Import Section\\n1. IMPOR T: After selecting the Import Type, Attribute Set and Uploading the correct file, the\\nuser needs to click on the yellow coloured “Import” button to start the import process.\\n2. RESET : This is used to reset all the selections made on the screen.\\n \\nOn Download Section\\n1. SEARCH: This is used to display the list of uploads made by the user .\\n2. RESET : This is used to reset all the filters selected by the user .\\n ', start_char_idx=None, end_char_idx=None, text_template='{metadata_str}\\n\\n{content}', metadata_template='{key}: {value}', metadata_seperator='\\n'),\n",
       " Document(id_='c51a2912-bae1-4e16-b5bd-1efb0e64c0f8', embedding=None, metadata={'page_label': '3', 'file_name': '/Users/swapnildhamu/Developer/vin-ai/RAG/llamaindex_and_openAI/data/SKU Import _ Vinculum Knowledge Central.pdf', 'file_path': '/Users/swapnildhamu/Developer/vin-ai/RAG/llamaindex_and_openAI/data/SKU Import _ Vinculum Knowledge Central.pdf', 'file_type': 'application/pdf', 'file_size': 242159, 'creation_date': '2024-03-04', 'last_modified_date': '2024-03-03'}, excluded_embed_metadata_keys=['file_name', 'file_type', 'file_size', 'creation_date', 'last_modified_date', 'last_accessed_date'], excluded_llm_metadata_keys=['file_name', 'file_type', 'file_size', 'creation_date', 'last_modified_date', 'last_accessed_date'], relationships={}, text='03/03/2024, 12:06 SKU Import : Vinculum Knowledge Central\\nhttps://vinculumhelpdesk.freshdesk.com/support/solutions/articles/9000213260-sku-import 3/3SKU Import T emplate File (CSV)\\n', start_char_idx=None, end_char_idx=None, text_template='{metadata_str}\\n\\n{content}', metadata_template='{key}: {value}', metadata_seperator='\\n'),\n",
       " Document(id_='ab638807-266a-4920-bcd8-2f728fca92ba', embedding=None, metadata={'page_label': '1', 'file_name': '/Users/swapnildhamu/Developer/vin-ai/RAG/llamaindex_and_openAI/data/SKU Master _ Vinculum Knowledge Central.pdf', 'file_path': '/Users/swapnildhamu/Developer/vin-ai/RAG/llamaindex_and_openAI/data/SKU Master _ Vinculum Knowledge Central.pdf', 'file_type': 'application/pdf', 'file_size': 358209, 'creation_date': '2024-03-04', 'last_modified_date': '2024-03-03'}, excluded_embed_metadata_keys=['file_name', 'file_type', 'file_size', 'creation_date', 'last_modified_date', 'last_accessed_date'], excluded_llm_metadata_keys=['file_name', 'file_type', 'file_size', 'creation_date', 'last_modified_date', 'last_accessed_date'], relationships={}, text='03/03/2024, 12:05 SKU Master : Vinculum Knowledge Central\\nhttps://vinculumhelpdesk.freshdesk.com/support/solutions/articles/9000213659-sku-master 1/7SKU Master\\nModiﬁed on: Fri, 1 Apr, 2022 at 3:31 PM\\nSKU Master\\nIntroduction\\nA Stock Keeping Unit or SKU is a distinct type of item that can be purchased, sold, or tracked with a unique\\nalphanumeric code/scannable bar code printed on it or its packaging. This code contains all the attributes\\nassociated with that item-type that can distinguish it from other item-types. These attributes can be manufacturer\\nname, material used, color , size, warranty , etc. The term SKU is used by stores, e-commerce vendors,\\nwarehouses, product fulfilment centres and any other business in inventory management field.\\nSKU Master is a collection of all the SKUs and their details available in the system. A user can search and\\nenquire any SKU and its details using the SKU Master data.\\n \\nSKU Master in V in eRetail\\nThe SKU Master in V in eRetail enables users to enquire and search an already existing SKU & its details. The\\nusers can refine the search further by using available filters like ‘Classification’, ‘Brand’, ‘V endor ’, etc. There is\\nalso a provision to Download/Export all the data present on the SKU Enquiry screen.\\nVin eRetail also allows users to Add/Import new SKU and its details. There are 3 ways to do so -\\n1. Through APIs from PIM.\\n2. Through SKU Import screen for bulk import.\\n3. Through Add New button on the SKU Master screen.\\n \\nNavigation:  Master >> SKU Management >> SKU Master\\n', start_char_idx=None, end_char_idx=None, text_template='{metadata_str}\\n\\n{content}', metadata_template='{key}: {value}', metadata_seperator='\\n'),\n",
       " Document(id_='98b2c585-6a14-4965-896a-fec155ed111c', embedding=None, metadata={'page_label': '2', 'file_name': '/Users/swapnildhamu/Developer/vin-ai/RAG/llamaindex_and_openAI/data/SKU Master _ Vinculum Knowledge Central.pdf', 'file_path': '/Users/swapnildhamu/Developer/vin-ai/RAG/llamaindex_and_openAI/data/SKU Master _ Vinculum Knowledge Central.pdf', 'file_type': 'application/pdf', 'file_size': 358209, 'creation_date': '2024-03-04', 'last_modified_date': '2024-03-03'}, excluded_embed_metadata_keys=['file_name', 'file_type', 'file_size', 'creation_date', 'last_modified_date', 'last_accessed_date'], excluded_llm_metadata_keys=['file_name', 'file_type', 'file_size', 'creation_date', 'last_modified_date', 'last_accessed_date'], relationships={}, text='03/03/2024, 12:05 SKU Master : Vinculum Knowledge Central\\nhttps://vinculumhelpdesk.freshdesk.com/support/solutions/articles/9000213659-sku-master 2/7 \\nSKU Enquiry Screen\\nNavigating to SKU Master opens the SKU Enquiry screen.\\nOn SKU Enquiry screen, the following are the fields based on which the SKUs can be searched:\\nFields Field Description\\nSKU Code SKU code is the User defined code given to the SKU.\\nStyle It is used to identify ‘Style’  SKU from a ‘V ariant’  SKU.\\nSKU Name SKU name is the User defined name given to the SKU.\\nClassification This is used to classify a SKU. Ex: ‘Normal’, ‘BOM’, etc.\\nSize/Color This field gives details about the size and color of the SKU\\nMRP This field reflects the MRP  of the SKU\\nBase Cost This field reflects the cost of the SKU which is the amount at which it was procured.\\nSale PriceThis reflects the price of the SKU which is the amount at which it will be listed for\\nsale.\\nSKU Mfg Code It is the V endor SKU Code i.e. the code used by the vendor to identify the SKU.\\nPrimary V endor This is the primary vendor from whom the SKU is procured.\\nBrand Code This is the name of the brand of the SKU.\\nHierarchy Code This reflects the hierarchy to which the SKU belong.\\nAttribute SetThis is a user defined classification and can be added through the Manage Attribute\\nsection of eRetail.\\nStatus It reflects the status of the SKU as ‘Active’, ‘Inactive’  or ‘Deleted’\\nCreated By This reflects the name of the user that created the SKU.\\nCreated Date This reflects the date on which the SKU was created.\\nBack Order This is a Yes/No dropdown to identify the SKU if it is eligible for Back Orders.\\nTax Category This gives details about the tax applicable on the sale of the SKU (HSN code)\\n \\nAction Buttons\\n ', start_char_idx=None, end_char_idx=None, text_template='{metadata_str}\\n\\n{content}', metadata_template='{key}: {value}', metadata_seperator='\\n'),\n",
       " Document(id_='d2fcb76f-5227-4341-b8c5-7c561e3bb1e5', embedding=None, metadata={'page_label': '3', 'file_name': '/Users/swapnildhamu/Developer/vin-ai/RAG/llamaindex_and_openAI/data/SKU Master _ Vinculum Knowledge Central.pdf', 'file_path': '/Users/swapnildhamu/Developer/vin-ai/RAG/llamaindex_and_openAI/data/SKU Master _ Vinculum Knowledge Central.pdf', 'file_type': 'application/pdf', 'file_size': 358209, 'creation_date': '2024-03-04', 'last_modified_date': '2024-03-03'}, excluded_embed_metadata_keys=['file_name', 'file_type', 'file_size', 'creation_date', 'last_modified_date', 'last_accessed_date'], excluded_llm_metadata_keys=['file_name', 'file_type', 'file_size', 'creation_date', 'last_modified_date', 'last_accessed_date'], relationships={}, text='03/03/2024, 12:05 SKU Master : Vinculum Knowledge Central\\nhttps://vinculumhelpdesk.freshdesk.com/support/solutions/articles/9000213659-sku-master 3/7Action Buttons Description\\nSearchClicking on the search button without entering any filter criterion will populate the\\nlist of all the SKUs created so far based on default filter setting. User can further\\nnarrow down the search by using filter options to get any specific information.\\nResetReset button will refresh the filter fields to default settings, i.e. to an initial state to\\nstart fresh search.\\nAdvance SearchAdvance Search opens a set of new filters to search SKU.\\nHere the additional filters are ‘Site Location’, ‘Approved Status’, ‘V endor Type’ and\\n‘SKU Source’.\\nExportThis allows the user to take the export of the details visible on the screen in an\\nexcel template.\\nMetaData Export This allows the user to take the export of Metadata in an excel template.\\nAdd New Add new tab is used to create a new SKU in the system.\\n \\nAdd New\\nAfter clicking on the ‘Add New’  option, the following screen opens\\nThe SKU classification dropdown has the following options to choose from \\nOut of these options, the four major classifications are Gradable, Normal, Style and BOM. The rest of the\\nclassifications are generated by users as per their individual requirements.', start_char_idx=None, end_char_idx=None, text_template='{metadata_str}\\n\\n{content}', metadata_template='{key}: {value}', metadata_seperator='\\n'),\n",
       " Document(id_='f8c3c186-c084-41c2-b35e-5ad379cb8c68', embedding=None, metadata={'page_label': '4', 'file_name': '/Users/swapnildhamu/Developer/vin-ai/RAG/llamaindex_and_openAI/data/SKU Master _ Vinculum Knowledge Central.pdf', 'file_path': '/Users/swapnildhamu/Developer/vin-ai/RAG/llamaindex_and_openAI/data/SKU Master _ Vinculum Knowledge Central.pdf', 'file_type': 'application/pdf', 'file_size': 358209, 'creation_date': '2024-03-04', 'last_modified_date': '2024-03-03'}, excluded_embed_metadata_keys=['file_name', 'file_type', 'file_size', 'creation_date', 'last_modified_date', 'last_accessed_date'], excluded_llm_metadata_keys=['file_name', 'file_type', 'file_size', 'creation_date', 'last_modified_date', 'last_accessed_date'], relationships={}, text='03/03/2024, 12:05 SKU Master : Vinculum Knowledge Central\\nhttps://vinculumhelpdesk.freshdesk.com/support/solutions/articles/9000213659-sku-master 4/7Classifications Description\\nGradable This includes SKU that can be graded. Mostly used for Grocery .\\nNormalThis includes general physical SKU. It does not have any other attribute and\\nclassified feature added to it.\\nStyle \\n(and V ariant)\\n This includes SKUs that are available in various size and color . It is mostly used for\\nFootwear and Apparels. The same SKU in dif ferent size or color are then auto-\\nclassified as ‘V ariants’  of that Style.\\nBOMBOM SKU are those in which dif ferent SKUs that are already created in the system\\nare bundled up together in a defined ratio form a new single SKU.\\nAvailable for Marketplace subscription checkbox: Marketplace subscription means making the SKU available\\nvirtually .\\n \\nSKU Create/Edit\\nAfter selecting a classification from the given options, the following screen will be displayed\\nOn this screen, below tabs are present to capture all vendor related information.\\nSKU Details\\nUser Defined Field\\nAttributes Detail\\nOther Details\\n ARS Details\\n \\nSKU DET AILS:  This is further divided into four sections.\\ni. Product Detail\\nii. Pricing Detail\\niii. Dimension Detail\\niv. SKU Image\\n \\nv. Product Detail  section will consist of all the primary information related to the SKU.\\nSKU Code: Any unique code which a user gives to the SKU while creating it. This SKU code is a mandatory field\\nand once created and saved cannot be changed and must be a unique number .\\nSKU Name & SKU Short Name: Enter the SKU name & Short name.\\nSKU Classification: SKU type out of the four types will be defined here initially when you click on create SKU\\nbutton.\\nStyle: This will reflect the Style SKU of the V ariant\\nSKU Source: To mention the source of SKU here by selecting from the drop down whether it is a consignment\\nproduct or an outright purchase.\\nAttribute Set; Size Group; Size; Color; Material: All these fields input values which appear in drop down are\\ncreated & configured by user from the Other Masters of the Master section.', start_char_idx=None, end_char_idx=None, text_template='{metadata_str}\\n\\n{content}', metadata_template='{key}: {value}', metadata_seperator='\\n'),\n",
       " Document(id_='edf0f4ac-c3e6-44df-b8f9-ca822dfaa1c5', embedding=None, metadata={'page_label': '5', 'file_name': '/Users/swapnildhamu/Developer/vin-ai/RAG/llamaindex_and_openAI/data/SKU Master _ Vinculum Knowledge Central.pdf', 'file_path': '/Users/swapnildhamu/Developer/vin-ai/RAG/llamaindex_and_openAI/data/SKU Master _ Vinculum Knowledge Central.pdf', 'file_type': 'application/pdf', 'file_size': 358209, 'creation_date': '2024-03-04', 'last_modified_date': '2024-03-03'}, excluded_embed_metadata_keys=['file_name', 'file_type', 'file_size', 'creation_date', 'last_modified_date', 'last_accessed_date'], excluded_llm_metadata_keys=['file_name', 'file_type', 'file_size', 'creation_date', 'last_modified_date', 'last_accessed_date'], relationships={}, text='03/03/2024, 12:05 SKU Master : Vinculum Knowledge Central\\nhttps://vinculumhelpdesk.freshdesk.com/support/solutions/articles/9000213659-sku-master 5/7Primary UPC/EAN: UPC (Universal Product Code) or EAN (European Product Code) are the bar code for the\\nSKU which will be entered here. Multiple barcodes can be supported by the single SKU.\\nBase UOM:  UOM is the Unit of Measurement in which the SKU will be measured or weighed which is used in\\nadvanced Shipment Notice, Invoice, Purchase Order documents etc.\\nHierarchy Code: Hierarchy code helps user to configure merchandising hierarchy for SKU from the list as they\\ncould be the sub category or sub-sub category of the SKU.\\nVendor SKU Code: The SKU code defined by the V endor can be entered in this field.\\nPrimary V endor: Every SKU in system is linked to a Primary vendor which is a mandatory field. There can be\\nmultiple other secondary vendors also linked to the same SKU.\\nVendor Name: This reflects the name of the V endor .\\nIs Approved: Mention the status of the V endor .\\nStatus: It is used to set the status of the SKU as ‘Active’, ‘Inactive’  or ‘Deleted’\\nCountry of Origin: Enter the country of origin of SKU by choosing from the down.\\nBrand Code:  Enter the name of the brand.\\nLink To Store: This is used to link the SKU to dif ferent stores, where it will be available for sale.\\nBack order & Back Order Quantity: This is used to make SKU eligible for back order and to set the back order\\nquantity .\\n1. Pricing Detail: In this section below given pricing related details of the SKU will be entered.\\n1. MSRP/MRP\\n2. Sale Price\\n3. Base Cost\\n4. Std Margin %\\n5. Tax Category\\n6. SKU Level Tax\\n1. Dimension Detail: All the below given dimension criterion will be filled in with respect to each SKU as this\\ninformation is further required for the Shipping purpose.\\n1. Height (CM)\\n2. Length (CM)\\n3. Width (CM)\\n4. Cube\\n5. Weight (KG)\\n1. Sku Image:  Images of the SKU can be entered in dif ferent format through this section.\\n1. Image URL\\n2. Product Page URL\\n3. Image files\\nUSER DEFINED FIELD: These are the custom fields which can be created by the User for SKU in case of any\\nextra information required.\\nATTRIBUTES DET AIL: This section allows user to fill data related to the selection made on “SKU Detail” screen\\nunder “Attribute Set”.\\nOTHER DET AILS: Other Detail section is further divided into two sections:\\ni. Detail 1\\nii. Detail 2', start_char_idx=None, end_char_idx=None, text_template='{metadata_str}\\n\\n{content}', metadata_template='{key}: {value}', metadata_seperator='\\n'),\n",
       " Document(id_='488cf2a9-cbfd-4cab-876f-a829a0c10fab', embedding=None, metadata={'page_label': '6', 'file_name': '/Users/swapnildhamu/Developer/vin-ai/RAG/llamaindex_and_openAI/data/SKU Master _ Vinculum Knowledge Central.pdf', 'file_path': '/Users/swapnildhamu/Developer/vin-ai/RAG/llamaindex_and_openAI/data/SKU Master _ Vinculum Knowledge Central.pdf', 'file_type': 'application/pdf', 'file_size': 358209, 'creation_date': '2024-03-04', 'last_modified_date': '2024-03-03'}, excluded_embed_metadata_keys=['file_name', 'file_type', 'file_size', 'creation_date', 'last_modified_date', 'last_accessed_date'], excluded_llm_metadata_keys=['file_name', 'file_type', 'file_size', 'creation_date', 'last_modified_date', 'last_accessed_date'], relationships={}, text='03/03/2024, 12:05 SKU Master : Vinculum Knowledge Central\\nhttps://vinculumhelpdesk.freshdesk.com/support/solutions/articles/9000213659-sku-master 6/7Detail 1: This section requires the user to input all the details of the product related to its shelf life. These details\\ncan be used to define validations at the time of Inbound and Picking.\\nFields Field Description\\nShelf Life This is used to enable and track shelf life for the SKU. \\nShelf Life T ypeUser needs to select what type of date is to be tracked for the SKU (Expiry date or\\nMfg. date)\\nTotal Shelf LifeThis field is used to enter the no. of days for which the SKU can be stored before it\\nbecomes unsafe to use. (Expiry Date)\\nShelf Life on ReceivingThis reflects the min. no. of days left for Expiry at inbound. If the shelf life of SKU is\\nless than this no. then the system will not allow to Inbound it.\\nShelf Life on PickingThis reflects the min. no. of days left for Expiry at the time of Picking. If the shelf life\\nof SKU is less than this no. then the system will not allow to pick it\\nSerial T racking When this is enabled, the system will track the SKU based on its serial no.\\nStackable .When this is enabled, the SKUs can be stacked together .\\nHazardous This is used to mark the SKU as Hazardous.\\nPoisonous This is used to mark the SKU as Poisonous.\\nIs Purchasable User can purchase/raise a PO for the SKU only when this field is enabled.\\nIs Saleable The SKU is made available for selling only when this field is enabled.\\nIs Stocked  When this is enabled, the SKU should be stocked.\\n \\nDetail 2: This section requires the user to input all the details of the product related to the SKU rotation and\\nvalidation.\\nFields Field Description\\nLottable V alidation This is used to define the Lottable V alidation, applicable for the SKU.\\nSKU RotationThis is used to select the SKU allocation strategy , which can be FEFO(First Expire\\nFirst Out), FIFO(First In First Out) or LIFO(Last In First Out). Ex: for FEFO the SKU\\nwith min. shelf life will be allocated first .\\nRotate By It is used to select the attribute based on which the SKU will be allocated.\\nRecv . Validation Code This is used to define the validations applicable at the time of Inbound.\\nPicking InstructionsThis is used to select the standard instructions that need to be followed while\\npicking the SKU.\\nShipping InstructionsThis is used to select the standard instructions that need to be followed while\\nshipping the SKU.\\nThreshold Alert\\nRequiredThis is enabled to set an alert when the SKU qty falls below the threshold.\\nThreshold Qty The user can enter the threshold qty to set up the threshold alert.\\nFullfilment T ype This is used to select the Fullfilment Type for procuring the SKU.', start_char_idx=None, end_char_idx=None, text_template='{metadata_str}\\n\\n{content}', metadata_template='{key}: {value}', metadata_seperator='\\n'),\n",
       " Document(id_='c523691a-8799-4fed-afc8-77dc6fe0c563', embedding=None, metadata={'page_label': '7', 'file_name': '/Users/swapnildhamu/Developer/vin-ai/RAG/llamaindex_and_openAI/data/SKU Master _ Vinculum Knowledge Central.pdf', 'file_path': '/Users/swapnildhamu/Developer/vin-ai/RAG/llamaindex_and_openAI/data/SKU Master _ Vinculum Knowledge Central.pdf', 'file_type': 'application/pdf', 'file_size': 358209, 'creation_date': '2024-03-04', 'last_modified_date': '2024-03-03'}, excluded_embed_metadata_keys=['file_name', 'file_type', 'file_size', 'creation_date', 'last_modified_date', 'last_accessed_date'], excluded_llm_metadata_keys=['file_name', 'file_type', 'file_size', 'creation_date', 'last_modified_date', 'last_accessed_date'], relationships={}, text='03/03/2024, 12:05 SKU Master : Vinculum Knowledge Central\\nhttps://vinculumhelpdesk.freshdesk.com/support/solutions/articles/9000213659-sku-master 7/7Shipping Charges This reflects the charges required for shipping the SKU.\\nHandling Charges This reflects the charges required for handling the SKU.\\nDef Source WHThis is used to define the warehouse from where the SKU will be\\nsourced/procured.\\nIs Uniquebarcode When this is enabled, the system will maintain the USN for the SKU.\\nIs IpcAllowed This is enabled for cross border fullfilment.\\nIs Repack AllowedThis is enabled for SKUs that need to be unpacked and then repacked into smaller\\npacks. Ex: grocery\\nMinimum T ransfer Qty This reflects the min. qty of the SKU which is required to perform ST O.\\nTransfer Unit FactorThe qty for which ST O is to be created should be in the multiples of transfer unit\\nfactor . Ex: if it is 5 then ST O qty can only be 5,10,15,20,25,etc\\n \\nARS DET AILS: Auto Replenishment System or ARS is used for automatic purchase order creation and auto-\\ndelivery of products. In this section user needs to check if the ARS is required, and then mention the ARS method\\nand stock details.\\nUser needs to enable the checkbox and the rest details to be updated in the ARS screen. (Please refer to ARS\\ndocumentation)\\nVARIANTS: This section is accessible only for “Style” classification of SKU. In this section user can add and fill\\ndetails of dif ferent variant SKUs to the main Style SKU.\\nBUNDLED ARTICLE: This section is accessible only for “BOM” classification of SKU. In this section the user can\\nadd multiple SKUs to create a new Bundled SKU. The user also has the option to select the ratio in which the\\nSKUs need to be bundled to create the new SKU.\\n \\nEdit Existing SKU\\nTo edit the already existing SKU in the system, the user needs to navigate to the SKU Enquiry screen and click\\non the ‘Blue’  colored SKU code. This will open the SKU Create/Edit screen, where the user can edit the SKU\\ndetails.\\n', start_char_idx=None, end_char_idx=None, text_template='{metadata_str}\\n\\n{content}', metadata_template='{key}: {value}', metadata_seperator='\\n')]"
      ]
     },
     "execution_count": 15,
     "metadata": {},
     "output_type": "execute_result"
    }
   ],
   "source": [
    "documents\n"
   ]
  },
  {
   "cell_type": "code",
   "execution_count": 16,
   "metadata": {},
   "outputs": [
    {
     "name": "stderr",
     "output_type": "stream",
     "text": [
      "/Users/swapnildhamu/Developer/vin-ai/.venv/lib/python3.12/site-packages/tqdm/auto.py:21: TqdmWarning: IProgress not found. Please update jupyter and ipywidgets. See https://ipywidgets.readthedocs.io/en/stable/user_install.html\n",
      "  from .autonotebook import tqdm as notebook_tqdm\n",
      "Generating embeddings: 100%|██████████| 10/10 [00:01<00:00,  6.03it/s]\n"
     ]
    }
   ],
   "source": [
    "index=VectorStoreIndex(documents, show_progress=True)"
   ]
  },
  {
   "cell_type": "code",
   "execution_count": 17,
   "metadata": {},
   "outputs": [
    {
     "data": {
      "text/plain": [
       "<llama_index.core.indices.vector_store.base.VectorStoreIndex at 0x14c36caa0>"
      ]
     },
     "execution_count": 17,
     "metadata": {},
     "output_type": "execute_result"
    }
   ],
   "source": [
    "index"
   ]
  },
  {
   "cell_type": "code",
   "execution_count": 18,
   "metadata": {},
   "outputs": [],
   "source": [
    "query_engine=index.as_query_engine() "
   ]
  },
  {
   "cell_type": "code",
   "execution_count": 19,
   "metadata": {},
   "outputs": [
    {
     "data": {
      "text/plain": [
       "<llama_index.core.query_engine.retriever_query_engine.RetrieverQueryEngine at 0x13fc636e0>"
      ]
     },
     "execution_count": 19,
     "metadata": {},
     "output_type": "execute_result"
    }
   ],
   "source": [
    "query_engine"
   ]
  },
  {
   "cell_type": "code",
   "execution_count": 42,
   "metadata": {},
   "outputs": [],
   "source": [
    "from llama_index.core.retrievers import VectorIndexRetriever\n",
    "from llama_index.core.query_engine import RetrieverQueryEngine\n",
    "from llama_index.core.postprocessor import SimilarityPostprocessor\n",
    "\n",
    "\n",
    "retriever=VectorIndexRetriever(index=index,similarity_top_k=4)\n",
    "\n",
    "\n",
    "postProcessor=SimilarityPostprocessor(similarity_cutoff=0.82)\n",
    "\n",
    "query_engine=RetrieverQueryEngine(retriever=retriever,node_postprocessors=[postProcessor])"
   ]
  },
  {
   "cell_type": "code",
   "execution_count": 43,
   "metadata": {},
   "outputs": [],
   "source": [
    "response=query_engine.query(\"what are three ways to Add/Import new SKU and its details\")"
   ]
  },
  {
   "cell_type": "code",
   "execution_count": 44,
   "metadata": {},
   "outputs": [
    {
     "name": "stdout",
     "output_type": "stream",
     "text": [
      "Final Response: 1. Select the Import Type, choose the Attribute Set,\n",
      "and upload the correct CSV file, then click on the \"Import\" button to\n",
      "start the import process. 2. Use the \"Create/Update\" option to create\n",
      "or update SKUs in bulk, the \"Cost Price Update\" option to update\n",
      "prices in bulk, or the \"BOM Link\" option to import BOM SKUs in bulk.\n",
      "3. Download the appropriate CSV template file, select the Import Type,\n",
      "and then click on the \"Import\" button to initiate the import process.\n",
      "______________________________________________________________________\n",
      "Source Node 1/4\n",
      "Node ID: a4024128-f5c2-40cb-a1c3-a07e9e731bfa\n",
      "Similarity: 0.8676654450942892\n",
      "Text: 03/03/2024, 12:06 SKU Import : Vinculum Knowledge Central https:\n",
      "//vinculumhelpdesk.freshdesk.com/support/solutions/articles/9000213260\n",
      "-sku-import 2/3The following fields are available for the user to\n",
      "import the correct SKU details. a. Import Type: The user can define\n",
      "the purpose of the import by selecting any of the dropdown choices,\n",
      "which are: ...\n",
      "______________________________________________________________________\n",
      "Source Node 2/4\n",
      "Node ID: 1ecbc4fc-2611-48de-b403-aa1f87fe8871\n",
      "Similarity: 0.8503730541730985\n",
      "Text: 03/03/2024, 12:06 SKU Import : Vinculum Knowledge Central https:\n",
      "//vinculumhelpdesk.freshdesk.com/support/solutions/articles/9000213260\n",
      "-sku-import 1/3SKU Import Modiﬁed on: Wed, 23 Mar, 2022 at 8:08 PM SKU\n",
      "Import Introduction The SKU import module in Vin eRetail enables the\n",
      "user to import SKUs to the system in bulk using the CSV template file.\n",
      "It...\n",
      "______________________________________________________________________\n",
      "Source Node 3/4\n",
      "Node ID: d2fcb76f-5227-4341-b8c5-7c561e3bb1e5\n",
      "Similarity: 0.8486656448205164\n",
      "Text: 03/03/2024, 12:05 SKU Master : Vinculum Knowledge Central https:\n",
      "//vinculumhelpdesk.freshdesk.com/support/solutions/articles/9000213659\n",
      "-sku-master 3/7Action Buttons Description SearchClicking on the search\n",
      "button without entering any filter criterion will populate the list of\n",
      "all the SKUs created so far based on default filter setting. User can\n",
      "f...\n",
      "______________________________________________________________________\n",
      "Source Node 4/4\n",
      "Node ID: c523691a-8799-4fed-afc8-77dc6fe0c563\n",
      "Similarity: 0.8473220992544673\n",
      "Text: 03/03/2024, 12:05 SKU Master : Vinculum Knowledge Central https:\n",
      "//vinculumhelpdesk.freshdesk.com/support/solutions/articles/9000213659\n",
      "-sku-master 7/7Shipping Charges This reflects the charges required for\n",
      "shipping the SKU. Handling Charges This reflects the charges required\n",
      "for handling the SKU. Def Source WHThis is used to define the\n",
      "warehouse ...\n"
     ]
    }
   ],
   "source": [
    "from llama_index.core.response.pprint_utils import pprint_response\n",
    "pprint_response(response,show_source=True)"
   ]
  },
  {
   "cell_type": "code",
   "execution_count": 28,
   "metadata": {},
   "outputs": [
    {
     "name": "stdout",
     "output_type": "stream",
     "text": [
      "The SKU import module in Vin eRetail enables users to import SKUs to the system in bulk using a CSV template file. It also allows users to download the uploaded CSV file.\n"
     ]
    }
   ],
   "source": [
    "print(response)"
   ]
  },
  {
   "cell_type": "code",
   "execution_count": null,
   "metadata": {},
   "outputs": [],
   "source": []
  },
  {
   "cell_type": "markdown",
   "metadata": {},
   "source": [
    "## Stroing the index"
   ]
  },
  {
   "cell_type": "code",
   "execution_count": 50,
   "metadata": {},
   "outputs": [
    {
     "name": "stdout",
     "output_type": "stream",
     "text": [
      "A Stock Keeping Unit or SKU is a distinct type of item that can be purchased, sold, or tracked with a unique alphanumeric code/scannable bar code printed on it or its packaging. This code contains all the attributes associated with that item-type that can distinguish it from other item-types. These attributes can be manufacturer name, material used, color, size, warranty, etc. The term SKU is used by stores, e-commerce vendors, warehouses, product fulfillment centers, and any other business in the inventory management field.\n"
     ]
    }
   ],
   "source": [
    "import os.path\n",
    "from llama_index.core import (\n",
    "    VectorStoreIndex,\n",
    "    SimpleDirectoryReader,\n",
    "    StorageContext,\n",
    "    load_index_from_storage\n",
    ")\n",
    "\n",
    "PERSIST_DIR = \"./storage\"\n",
    "if not os.path.exists(PERSIST_DIR):\n",
    "    # load the documents and create the index\n",
    "    documents = SimpleDirectoryReader(\"data\").load_data()\n",
    "    index = VectorStoreIndex.from_documents(documents)\n",
    "    # store it for later\n",
    "    index.storage_context.persist(persist_dir=PERSIST_DIR)\n",
    "else:\n",
    "    # load the existing index\n",
    "    storage_context = StorageContext.from_defaults(persist_dir=PERSIST_DIR)\n",
    "    index = load_index_from_storage(storage_context)\n",
    "\n",
    "# either way we can now query the index\n",
    "query_engine = index.as_query_engine()\n",
    "response = query_engine.query(\"What are SKU?\")\n",
    "print(response)"
   ]
  },
  {
   "cell_type": "code",
   "execution_count": 51,
   "metadata": {},
   "outputs": [
    {
     "name": "stdout",
     "output_type": "stream",
     "text": [
      "Loaded index from storage\n",
      "The SKU Import module is a feature in Vin eRetail that allows users to import SKUs in bulk using a CSV template file. It consists of two sections: Import and Download. The Import section enables users to import SKUs in bulk by selecting the import type, attribute set, and uploading the correct CSV file. The Download section allows users to search and download the uploaded CSV file of SKU imports based on various criteria.\n"
     ]
    }
   ],
   "source": [
    "import os.path\n",
    "from llama_index.core import (\n",
    "    VectorStoreIndex,\n",
    "    SimpleDirectoryReader,\n",
    "    StorageContext,\n",
    "    load_index_from_storage\n",
    ")\n",
    "\n",
    "PERSIST_DIR = \"./storage\"\n",
    "if not os.path.exists(PERSIST_DIR):\n",
    "    # load the documents and create the index\n",
    "    documents = SimpleDirectoryReader(\"data\").load_data()\n",
    "    index = VectorStoreIndex.from_documents(documents)\n",
    "    # store it for later\n",
    "    index.storage_context.persist(persist_dir=PERSIST_DIR)\n",
    "    print(\"Created and stored index\")\n",
    "else:\n",
    "    # load the existing index\n",
    "    storage_context = StorageContext.from_defaults(persist_dir=PERSIST_DIR)\n",
    "    index = load_index_from_storage(storage_context)\n",
    "    print(\"Loaded index from storage\")\n",
    "\n",
    "# either way we can now query the index\n",
    "query_engine = index.as_query_engine()\n",
    "response = query_engine.query(\"What is SKU Import module?\")\n",
    "print(response)"
   ]
  }
 ],
 "metadata": {
  "kernelspec": {
   "display_name": ".venv",
   "language": "python",
   "name": "python3"
  },
  "language_info": {
   "codemirror_mode": {
    "name": "ipython",
    "version": 3
   },
   "file_extension": ".py",
   "mimetype": "text/x-python",
   "name": "python",
   "nbconvert_exporter": "python",
   "pygments_lexer": "ipython3",
   "version": "3.12.0"
  }
 },
 "nbformat": 4,
 "nbformat_minor": 2
}
