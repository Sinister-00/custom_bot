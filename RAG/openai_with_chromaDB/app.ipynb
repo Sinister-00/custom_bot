{
 "cells": [
  {
   "cell_type": "markdown",
   "metadata": {},
   "source": [
    "## Libraries"
   ]
  },
  {
   "cell_type": "code",
   "execution_count": 1,
   "metadata": {},
   "outputs": [],
   "source": [
    "from langchain.document_loaders import TextLoader\n",
    "from langchain.text_splitter import CharacterTextSplitter\n",
    "from langchain.embeddings.openai import OpenAIEmbeddings\n",
    "from langchain.vectorstores import Chroma\n",
    "from langchain.chat_models import ChatOpenAI\n",
    "from langchain.chains import RetrievalQA\n",
    "from langchain.prompts import PromptTemplate\n",
    "from langchain.memory import ConversationBufferMemory\n",
    "from langchain.chains import ConversationalRetrievalChain\n",
    "from llama_index.core import SimpleDirectoryReader\n",
    "from langchain_community.document_loaders import DirectoryLoader"
   ]
  },
  {
   "cell_type": "markdown",
   "metadata": {},
   "source": [
    "## Creating chunks"
   ]
  },
  {
   "cell_type": "code",
   "execution_count": 6,
   "metadata": {},
   "outputs": [
    {
     "name": "stderr",
     "output_type": "stream",
     "text": [
      "Created a chunk of size 1325, which is longer than the specified 1000\n",
      "Created a chunk of size 1860, which is longer than the specified 1000\n",
      "Created a chunk of size 2502, which is longer than the specified 1000\n",
      "Created a chunk of size 2590, which is longer than the specified 1000\n",
      "Created a chunk of size 1111, which is longer than the specified 1000\n",
      "Created a chunk of size 1245, which is longer than the specified 1000\n",
      "Created a chunk of size 1107, which is longer than the specified 1000\n"
     ]
    }
   ],
   "source": [
    "text_splitter = CharacterTextSplitter(\n",
    "    chunk_size = 1000,\n",
    "    chunk_overlap = 200\n",
    ")\n",
    "\n",
    "dynamic_path = f'./data/'\n",
    "loader = DirectoryLoader(dynamic_path, glob=\"./*.txt\", loader_cls=TextLoader)\n",
    "documents = loader.load()\n",
    "splits = text_splitter.split_documents(documents=documents)\n"
   ]
  },
  {
   "cell_type": "markdown",
   "metadata": {},
   "source": [
    "## Creating Embeddings if not created"
   ]
  },
  {
   "cell_type": "code",
   "execution_count": 7,
   "metadata": {},
   "outputs": [
    {
     "name": "stderr",
     "output_type": "stream",
     "text": [
      "/Users/swapnildhamu/Developer/vin-ai/.venv/lib/python3.12/site-packages/langchain_core/_api/deprecation.py:119: LangChainDeprecationWarning: The class `OpenAIEmbeddings` was deprecated in LangChain 0.0.9 and will be removed in 0.2.0. An updated version of the class exists in the langchain-openai package and should be used instead. To use it run `pip install -U langchain-openai` and import as `from langchain_openai import OpenAIEmbeddings`.\n",
      "  warn_deprecated(\n"
     ]
    },
    {
     "name": "stdout",
     "output_type": "stream",
     "text": [
      "312\n"
     ]
    }
   ],
   "source": [
    "embedding = OpenAIEmbeddings()\n",
    "\n",
    "persist_directory = 'docs/chroma/'\n",
    "\n",
    "\n",
    "vectordb = Chroma.from_documents(\n",
    "    documents=splits,\n",
    "    embedding=embedding,\n",
    "    persist_directory=persist_directory\n",
    ") \n",
    "\n",
    "# save the database so we can use it later\n",
    "vectordb.persist()\n",
    "\n",
    "# check that the database have been created and get the number of documents\n",
    "print(vectordb._collection.count())"
   ]
  },
  {
   "cell_type": "markdown",
   "metadata": {},
   "source": [
    "## Similarity search with score "
   ]
  },
  {
   "cell_type": "code",
   "execution_count": 8,
   "metadata": {},
   "outputs": [
    {
     "name": "stdout",
     "output_type": "stream",
     "text": [
      "\n",
      "\n",
      "0.27672719955444336\n",
      "5. **Install QZ Tray**:\n",
      "   - Run the installation file downloaded in the previous step.\n",
      "   - Ensure that Java SE Development Kit is installed on your machine.\n",
      "\n",
      "6. **Start QZ Tray**:\n",
      "   - After successful installation, navigate to Start > All Programs > QZ Tray.\n",
      "\n",
      "7. **Automatic Startup**:\n",
      "   - Right-click on the QZ Tray icon and ensure that \"Automatically Start\" option is enabled.\n",
      "\n",
      "### Step 4: Label Printing\n",
      "\n",
      "8. **Test Print**:\n",
      "   - Once all setup steps are completed, attempt to print the label from the panel.\n",
      "\n",
      "---\n",
      "\n",
      "These detailed instructions cover the setup process for auto label printing using a Zebra printer. Following these steps ensures smooth and efficient label printing operations.\n",
      "\n",
      "For further assistance, refer to the [Zebra Printer Settings for Auto Printing](https://vinculumhelpdesk.freshdesk.com/support/solutions/articles/9000210122-zebra-printer-settings-for-auto-printing).\n",
      "\n",
      "\n",
      "0.2812996506690979\n",
      "Title: Zebra Printer Settings for Auto Printing\n",
      "\n",
      "Modified on: Mon, 10 Jan, 2022 at 2:52 PM\n",
      "\n",
      "# what is Zebra Printer Settings for Auto Printing\n",
      "\n",
      "Zebra level printers are commonly used for label printing purposes. To enable auto label printing, users need to follow specific steps, including installing the Zebra Printer Driver or a ZPL supported printer driver on their machine. Below are detailed instructions to set up auto label printing with a Zebra printer. for more information [Zebra Printer Settings for Auto Printing](https://vinculumhelpdesk.freshdesk.com/support/solutions/articles/9000210122-zebra-printer-settings-for-auto-printing).\n",
      "\n",
      "## Steps for Auto Label Printing Setup:\n",
      "\n",
      "### Step 1: Hardware Setup\n",
      "\n",
      "1. **Plugin Zebra Printer USB Cable**: Connect the Zebra printer to your machine using a USB cable.\n",
      "\n",
      "### Step 2: Software Setup\n",
      "\n",
      "\n",
      "0.2972572445869446\n",
      "## Steps for Auto Label Printing Setup:\n",
      "\n",
      "### Step 1: Hardware Setup\n",
      "\n",
      "1. **Plugin Zebra Printer USB Cable**: Connect the Zebra printer to your machine using a USB cable.\n",
      "\n",
      "### Step 2: Software Setup\n",
      "\n",
      "2. **Install Zebra Printer Driver**:\n",
      "   - Install the Zebra Printer Driver or a ZPL supported printer driver on your machine.\n",
      "   - After installation, navigate to Control Panel > Hardware and Sound > Devices and Printers.\n",
      "\n",
      "3. **Rename Printer**:\n",
      "   - Rename the Zebra printer as \"VinLBL\" in the Devices and Printers section.\n",
      "\n",
      "### Step 3: QZ Tray Installation\n",
      "\n",
      "4. **Download QZ Tray Software**:\n",
      "   - Visit the following link: [QZ Tray GitHub](https://github.com/qzind/tray/tags) or [QZ Tray Official Website](https://qz.io/download/).\n",
      "   - Download the file \"QZ Tray 2.0.3\" and save it on your machine.\n",
      "\n",
      "5. **Install QZ Tray**:\n",
      "   - Run the installation file downloaded in the previous step.\n",
      "   - Ensure that Java SE Development Kit is installed on your machine.\n"
     ]
    }
   ],
   "source": [
    "# similarity search\n",
    "question = \"how can i setup auto label printing\"\n",
    "\n",
    "\n",
    "docs = vectordb.similarity_search_with_score(question,k=3)\n",
    "\n",
    "for result in docs:\n",
    "    print(\"\\n\")\n",
    "    print(result[1])\n",
    "    print(result[0].page_content)"
   ]
  },
  {
   "cell_type": "markdown",
   "metadata": {},
   "source": [
    "## Loading existing vectorDB (If embeddings are already created) and querying"
   ]
  },
  {
   "cell_type": "code",
   "execution_count": 9,
   "metadata": {},
   "outputs": [
    {
     "name": "stderr",
     "output_type": "stream",
     "text": [
      "/Users/swapnildhamu/Developer/vin-ai/.venv/lib/python3.12/site-packages/langchain_core/_api/deprecation.py:119: LangChainDeprecationWarning: The class `ChatOpenAI` was deprecated in LangChain 0.0.10 and will be removed in 0.2.0. An updated version of the class exists in the langchain-openai package and should be used instead. To use it run `pip install -U langchain-openai` and import as `from langchain_openai import ChatOpenAI`.\n",
      "  warn_deprecated(\n",
      "/Users/swapnildhamu/Developer/vin-ai/.venv/lib/python3.12/site-packages/langchain_core/_api/deprecation.py:119: LangChainDeprecationWarning: The method `Chain.__call__` was deprecated in langchain 0.1.0 and will be removed in 0.2.0. Use invoke instead.\n",
      "  warn_deprecated(\n"
     ]
    },
    {
     "name": "stdout",
     "output_type": "stream",
     "text": [
      "To set up auto label printing with a Zebra printer, follow these steps:\n",
      "\n",
      "1. **Hardware Setup**:\n",
      "   - Connect the Zebra printer to your machine using a USB cable.\n",
      "\n",
      "2. **Software Setup**:\n",
      "   - Install the Zebra Printer Driver or a ZPL supported printer driver on your machine.\n",
      "   - Rename the Zebra printer as \"VinLBL\" in the Devices and Printers section.\n",
      "\n",
      "3. **QZ Tray Installation**:\n",
      "   - Download the QZ Tray software from [QZ Tray GitHub](https://github.com/qzind/tray/tags) or [QZ Tray Official Website](https://qz.io/download/).\n",
      "   - Install QZ Tray by running the downloaded installation file and ensure that Java SE Development Kit is installed on your machine.\n",
      "\n",
      "4. **Start QZ Tray**:\n",
      "   - After successful installation, navigate to Start > All Programs > QZ Tray.\n",
      "\n",
      "5. **Automatic Startup**:\n",
      "   - Right-click on the QZ Tray icon and ensure that the \"Automatically Start\" option is enabled.\n",
      "\n",
      "6. **Test Print**:\n",
      "   - Once all setup steps are completed, attempt to print the label from the panel.\n",
      "\n",
      "For more detailed instructions, you can refer to the [Zebra Printer Settings for Auto Printing](https://vinculumhelpdesk.freshdesk.com/support/solutions/articles/9000210122-zebra-printer-settings-for-auto-printing).\n"
     ]
    }
   ],
   "source": [
    "persist_directory = 'docs/chroma/'\n",
    "vectordb = Chroma(\n",
    "    persist_directory=persist_directory,\n",
    "    embedding_function=embedding\n",
    ")\n",
    "\n",
    "llm = ChatOpenAI(model_name=\"gpt-3.5-turbo\", temperature=0)\n",
    "\n",
    "qa_chain = RetrievalQA.from_chain_type(\n",
    "    llm,\n",
    "    retriever=vectordb.as_retriever()\n",
    ")\n",
    "\n",
    "result = qa_chain({\"query\": question})\n",
    "print(result[\"result\"])"
   ]
  },
  {
   "cell_type": "markdown",
   "metadata": {},
   "source": [
    "## Using templates to form a chain and get specific answer"
   ]
  },
  {
   "cell_type": "code",
   "execution_count": 11,
   "metadata": {},
   "outputs": [
    {
     "name": "stdout",
     "output_type": "stream",
     "text": [
      "To set up auto label printing with a Zebra printer, follow these steps:\n",
      "\n",
      "1. **Hardware Setup**:\n",
      "   - Connect the Zebra printer to your machine using a USB cable.\n",
      "\n",
      "2. **Software Setup**:\n",
      "   - Install the Zebra Printer Driver or a ZPL supported printer driver on your machine.\n",
      "   - Rename the Zebra printer as \"VinLBL\" in the Devices and Printers section.\n",
      "\n",
      "3. **QZ Tray Installation**:\n",
      "   - Download the QZ Tray software from [QZ Tray GitHub](https://github.com/qzind/tray/tags) or [QZ Tray Official Website](https://qz.io/download/).\n",
      "   - Install QZ Tray by running the downloaded installation file and ensure that Java SE Development Kit is installed on your machine.\n",
      "\n",
      "4. **Start QZ Tray**:\n",
      "   - After successful installation, navigate to Start > All Programs > QZ Tray.\n",
      "\n",
      "5. **Automatic Startup**:\n",
      "   - Right-click on the QZ Tray icon and ensure that the \"Automatically Start\" option is enabled.\n",
      "\n",
      "6. **Test Print**:\n",
      "   - Once all setup steps are completed, attempt to print the label from the panel.\n",
      "\n",
      "For more detailed instructions, you can refer to the [Zebra Printer Settings for Auto Printing](https://vinculumhelpdesk.freshdesk.com/support/solutions/articles/9000210122-zebra-printer-settings-for-auto-printing).\n"
     ]
    }
   ],
   "source": [
    "template = \"\"\"Address the user as vinner and Use the following pieces of context to answer the question at the end. If you don't know the answer, just say that you don't know, don't try to make up an answer. \n",
    "{context}\n",
    "Question: {question}\n",
    "Helpful Answer:\"\"\"\n",
    "\n",
    "QA_CHAIN_PROMPT = PromptTemplate.from_template(template)\n",
    "\n",
    "\n",
    "# Run chain\n",
    "qa_chain = RetrievalQA.from_chain_type(\n",
    "    llm,\n",
    "    retriever=vectordb.as_retriever(),\n",
    "    return_source_documents=True,\n",
    "    chain_type_kwargs={\"prompt\": QA_CHAIN_PROMPT}\n",
    ")\n",
    "\n",
    "print(result[\"result\"])"
   ]
  },
  {
   "cell_type": "markdown",
   "metadata": {},
   "source": [
    "## Using memory to store the conversation and get the answer"
   ]
  },
  {
   "cell_type": "code",
   "execution_count": 23,
   "metadata": {},
   "outputs": [
    {
     "name": "stdout",
     "output_type": "stream",
     "text": [
      "To set up auto label printing with a Zebra printer, follow these steps:\n",
      "\n",
      "1. **Hardware Setup**:\n",
      "   - Connect the Zebra printer to your machine using a USB cable.\n",
      "\n",
      "2. **Software Setup**:\n",
      "   - Install the Zebra Printer Driver or a ZPL supported printer driver on your machine.\n",
      "   - Rename the Zebra printer as \"VinLBL\" in the Devices and Printers section.\n",
      "\n",
      "3. **QZ Tray Installation**:\n",
      "   - Download the QZ Tray software from [QZ Tray GitHub](https://github.com/qzind/tray/tags) or [QZ Tray Official Website](https://qz.io/download/).\n",
      "   - Install QZ Tray by running the downloaded installation file and ensure that Java SE Development Kit is installed on your machine.\n",
      "\n",
      "4. **Start QZ Tray**:\n",
      "   - After successful installation, navigate to Start > All Programs > QZ Tray.\n",
      "\n",
      "5. **Automatic Startup**:\n",
      "   - Right-click on the QZ Tray icon and ensure that the \"Automatically Start\" option is enabled.\n",
      "\n",
      "6. **Test Print**:\n",
      "   - Once all setup steps are completed, attempt to print the label from the panel.\n",
      "\n",
      "For more detailed instructions, you can refer to the [Zebra Printer Settings for Auto Printing](https://vinculumhelpdesk.freshdesk.com/support/solutions/articles/9000210122-zebra-printer-settings-for-auto-printing).\n"
     ]
    }
   ],
   "source": [
    "memory = ConversationBufferMemory(\n",
    "    memory_key=\"chat_history\",\n",
    "    return_messages=True\n",
    ")\n",
    "\n",
    "qa = ConversationalRetrievalChain.from_llm(\n",
    "    llm,\n",
    "    retriever=vectordb.as_retriever(),\n",
    "    memory=memory\n",
    ")\n",
    "question = \"how can i setup auto label printing\"\n",
    "result = qa({\"question\": question})\n",
    "\n",
    "print(result['answer'])"
   ]
  },
  {
   "cell_type": "markdown",
   "metadata": {},
   "source": [
    "## ChatHistory"
   ]
  },
  {
   "cell_type": "code",
   "execution_count": 24,
   "metadata": {},
   "outputs": [
    {
     "name": "stdout",
     "output_type": "stream",
     "text": [
      "Sure, you can find detailed instructions on setting up auto label printing with a Zebra printer by following this link: [Zebra Printer Settings for Auto Printing](https://vinculumhelpdesk.freshdesk.com/support/solutions/articles/9000210122-zebra-printer-settings-for-auto-printing).\n"
     ]
    }
   ],
   "source": [
    "question = \"Can you provide me the link for the same which i can refer to\"\n",
    "result = qa({\"question\": question})\n",
    "print(result['answer'])"
   ]
  }
 ],
 "metadata": {
  "kernelspec": {
   "display_name": ".venv",
   "language": "python",
   "name": "python3"
  },
  "language_info": {
   "codemirror_mode": {
    "name": "ipython",
    "version": 3
   },
   "file_extension": ".py",
   "mimetype": "text/x-python",
   "name": "python",
   "nbconvert_exporter": "python",
   "pygments_lexer": "ipython3",
   "version": "3.12.0"
  }
 },
 "nbformat": 4,
 "nbformat_minor": 2
}
