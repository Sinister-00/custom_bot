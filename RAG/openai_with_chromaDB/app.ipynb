{
 "cells": [
  {
   "cell_type": "markdown",
   "metadata": {},
   "source": [
    "## Libraries"
   ]
  },
  {
   "cell_type": "code",
   "execution_count": 1,
   "metadata": {},
   "outputs": [],
   "source": [
    "from langchain.document_loaders import TextLoader\n",
    "from langchain.text_splitter import CharacterTextSplitter\n",
    "from langchain.embeddings.openai import OpenAIEmbeddings\n",
    "from langchain.vectorstores import Chroma\n",
    "from langchain.chat_models import ChatOpenAI\n",
    "from langchain.chains import RetrievalQA\n",
    "from langchain.prompts import PromptTemplate\n",
    "from langchain.memory import ConversationBufferMemory\n",
    "from langchain.chains import ConversationalRetrievalChain\n",
    "from llama_index.core import SimpleDirectoryReader\n",
    "from langchain_community.document_loaders import DirectoryLoader\n",
    "from langchain_openai import ChatOpenAI\n",
    "from langchain_openai import OpenAIEmbeddings"
   ]
  },
  {
   "cell_type": "markdown",
   "metadata": {},
   "source": [
    "## Creating chunks"
   ]
  },
  {
   "cell_type": "code",
   "execution_count": 2,
   "metadata": {},
   "outputs": [
    {
     "name": "stderr",
     "output_type": "stream",
     "text": [
      "Created a chunk of size 1005, which is longer than the specified 1000\n",
      "Created a chunk of size 1442, which is longer than the specified 1000\n",
      "Created a chunk of size 1325, which is longer than the specified 1000\n",
      "Created a chunk of size 1860, which is longer than the specified 1000\n",
      "Created a chunk of size 1364, which is longer than the specified 1000\n",
      "Created a chunk of size 1245, which is longer than the specified 1000\n",
      "Created a chunk of size 2502, which is longer than the specified 1000\n",
      "Created a chunk of size 2590, which is longer than the specified 1000\n",
      "Created a chunk of size 1252, which is longer than the specified 1000\n",
      "Created a chunk of size 1307, which is longer than the specified 1000\n",
      "Created a chunk of size 2559, which is longer than the specified 1000\n",
      "Created a chunk of size 4018, which is longer than the specified 1000\n",
      "Created a chunk of size 4425, which is longer than the specified 1000\n",
      "Created a chunk of size 1508, which is longer than the specified 1000\n",
      "Created a chunk of size 1218, which is longer than the specified 1000\n",
      "Created a chunk of size 1026, which is longer than the specified 1000\n",
      "Created a chunk of size 1274, which is longer than the specified 1000\n",
      "Created a chunk of size 1123, which is longer than the specified 1000\n",
      "Created a chunk of size 1275, which is longer than the specified 1000\n",
      "Created a chunk of size 1107, which is longer than the specified 1000\n"
     ]
    }
   ],
   "source": [
    "text_splitter = CharacterTextSplitter(\n",
    "    chunk_size = 1000,\n",
    "    chunk_overlap = 200\n",
    ")\n",
    "\n",
    "dynamic_path = f'./data/'\n",
    "loader = DirectoryLoader(dynamic_path, glob=\"./*.txt\", loader_cls=TextLoader)\n",
    "documents = loader.load()\n",
    "splits = text_splitter.split_documents(documents=documents)\n"
   ]
  },
  {
   "cell_type": "markdown",
   "metadata": {},
   "source": [
    "## Creating Embeddings if not created"
   ]
  },
  {
   "cell_type": "code",
   "execution_count": 3,
   "metadata": {},
   "outputs": [
    {
     "name": "stdout",
     "output_type": "stream",
     "text": [
      "737\n"
     ]
    }
   ],
   "source": [
    "embedding = OpenAIEmbeddings()\n",
    "\n",
    "persist_directory = 'docs/chroma/'\n",
    "\n",
    "\n",
    "vectordb = Chroma.from_documents(\n",
    "    documents=splits,\n",
    "    embedding=embedding,\n",
    "    persist_directory=persist_directory\n",
    ") \n",
    "\n",
    "# save the database so we can use it later\n",
    "# vectordb.persist()\n",
    "\n",
    "# check that the database have been created and get the number of documents\n",
    "print(vectordb._collection.count())"
   ]
  },
  {
   "cell_type": "markdown",
   "metadata": {},
   "source": [
    "## Similarity search with score "
   ]
  },
  {
   "cell_type": "code",
   "execution_count": 4,
   "metadata": {},
   "outputs": [
    {
     "name": "stdout",
     "output_type": "stream",
     "text": [
      "\n",
      "\n",
      "0.2765898108482361\n",
      "5. **Install QZ Tray**:\n",
      "   - Run the installation file downloaded in the previous step.\n",
      "   - Ensure that Java SE Development Kit is installed on your machine.\n",
      "\n",
      "6. **Start QZ Tray**:\n",
      "   - After successful installation, navigate to Start > All Programs > QZ Tray.\n",
      "\n",
      "7. **Automatic Startup**:\n",
      "   - Right-click on the QZ Tray icon and ensure that \"Automatically Start\" option is enabled.\n",
      "\n",
      "### Step 4: Label Printing\n",
      "\n",
      "8. **Test Print**:\n",
      "   - Once all setup steps are completed, attempt to print the label from the panel.\n",
      "\n",
      "---\n",
      "\n",
      "These detailed instructions cover the setup process for auto label printing using a Zebra printer. Following these steps ensures smooth and efficient label printing operations.\n",
      "\n",
      "For further assistance, refer to the [Zebra Printer Settings for Auto Printing](https://vinculumhelpdesk.freshdesk.com/support/solutions/articles/9000210122-zebra-printer-settings-for-auto-printing).\n",
      "\n",
      "\n",
      "0.2765898108482361\n",
      "5. **Install QZ Tray**:\n",
      "   - Run the installation file downloaded in the previous step.\n",
      "   - Ensure that Java SE Development Kit is installed on your machine.\n",
      "\n",
      "6. **Start QZ Tray**:\n",
      "   - After successful installation, navigate to Start > All Programs > QZ Tray.\n",
      "\n",
      "7. **Automatic Startup**:\n",
      "   - Right-click on the QZ Tray icon and ensure that \"Automatically Start\" option is enabled.\n",
      "\n",
      "### Step 4: Label Printing\n",
      "\n",
      "8. **Test Print**:\n",
      "   - Once all setup steps are completed, attempt to print the label from the panel.\n",
      "\n",
      "---\n",
      "\n",
      "These detailed instructions cover the setup process for auto label printing using a Zebra printer. Following these steps ensures smooth and efficient label printing operations.\n",
      "\n",
      "For further assistance, refer to the [Zebra Printer Settings for Auto Printing](https://vinculumhelpdesk.freshdesk.com/support/solutions/articles/9000210122-zebra-printer-settings-for-auto-printing).\n",
      "\n",
      "\n",
      "0.2811981439590454\n",
      "Title: Zebra Printer Settings for Auto Printing\n",
      "\n",
      "Modified on: Mon, 10 Jan, 2022 at 2:52 PM\n",
      "\n",
      "# what is Zebra Printer Settings for Auto Printing\n",
      "\n",
      "Zebra level printers are commonly used for label printing purposes. To enable auto label printing, users need to follow specific steps, including installing the Zebra Printer Driver or a ZPL supported printer driver on their machine. Below are detailed instructions to set up auto label printing with a Zebra printer. for more information [Zebra Printer Settings for Auto Printing](https://vinculumhelpdesk.freshdesk.com/support/solutions/articles/9000210122-zebra-printer-settings-for-auto-printing).\n",
      "\n",
      "## Steps for Auto Label Printing Setup:\n",
      "\n",
      "### Step 1: Hardware Setup\n",
      "\n",
      "1. **Plugin Zebra Printer USB Cable**: Connect the Zebra printer to your machine using a USB cable.\n",
      "\n",
      "### Step 2: Software Setup\n"
     ]
    }
   ],
   "source": [
    "# similarity search\n",
    "question = \"how can i setup auto label printing\"\n",
    "\n",
    "\n",
    "docs = vectordb.similarity_search_with_score(question,k=3)\n",
    "\n",
    "for result in docs:\n",
    "    print(\"\\n\")\n",
    "    print(result[1])\n",
    "    print(result[0].page_content)"
   ]
  },
  {
   "cell_type": "markdown",
   "metadata": {},
   "source": [
    "## Loading existing vectorDB (If embeddings are already created) and querying"
   ]
  },
  {
   "cell_type": "code",
   "execution_count": 5,
   "metadata": {},
   "outputs": [
    {
     "name": "stdout",
     "output_type": "stream",
     "text": [
      "To set up auto label printing with a Zebra printer, follow these steps:\n",
      "\n",
      "1. **Hardware Setup**:\n",
      "   - Connect the Zebra printer to your machine using a USB cable.\n",
      "\n",
      "2. **Software Setup**:\n",
      "   - Install the Zebra Printer Driver or a ZPL supported printer driver on your machine.\n",
      "\n",
      "3. **Install QZ Tray**:\n",
      "   - Run the installation file downloaded in the previous step.\n",
      "   - Ensure that Java SE Development Kit is installed on your machine.\n",
      "\n",
      "4. **Start QZ Tray**:\n",
      "   - After successful installation, navigate to Start > All Programs > QZ Tray.\n",
      "\n",
      "5. **Automatic Startup**:\n",
      "   - Right-click on the QZ Tray icon and ensure that the \"Automatically Start\" option is enabled.\n",
      "\n",
      "6. **Test Print**:\n",
      "   - Once all setup steps are completed, attempt to print the label from the panel.\n",
      "\n",
      "For more detailed instructions, you can refer to the [Zebra Printer Settings for Auto Printing](https://vinculumhelpdesk.freshdesk.com/support/solutions/articles/9000210122-zebra-printer-settings-for-auto-printing).\n"
     ]
    }
   ],
   "source": [
    "persist_directory = 'docs/chroma/'\n",
    "vectordb = Chroma(\n",
    "    persist_directory=persist_directory,\n",
    "    embedding_function=embedding\n",
    ")\n",
    "# from langchain_openai import ChatOpenAI\n",
    "llm = ChatOpenAI(model_name=\"gpt-3.5-turbo\", temperature=0)\n",
    "\n",
    "qa_chain = RetrievalQA.from_chain_type(\n",
    "    llm,\n",
    "    retriever=vectordb.as_retriever()\n",
    ")\n",
    "\n",
    "result = qa_chain.invoke({\"query\": question})\n",
    "print(result[\"result\"])"
   ]
  },
  {
   "cell_type": "markdown",
   "metadata": {},
   "source": [
    "## Using templates to form a chain and get specific answer"
   ]
  },
  {
   "cell_type": "code",
   "execution_count": 6,
   "metadata": {},
   "outputs": [
    {
     "name": "stdout",
     "output_type": "stream",
     "text": [
      "To set up auto label printing with a Zebra printer, follow these steps:\n",
      "\n",
      "1. **Hardware Setup**:\n",
      "   - Connect the Zebra printer to your machine using a USB cable.\n",
      "\n",
      "2. **Software Setup**:\n",
      "   - Install the Zebra Printer Driver or a ZPL supported printer driver on your machine.\n",
      "\n",
      "3. **Install QZ Tray**:\n",
      "   - Run the installation file downloaded in the previous step.\n",
      "   - Ensure that Java SE Development Kit is installed on your machine.\n",
      "\n",
      "4. **Start QZ Tray**:\n",
      "   - After successful installation, navigate to Start > All Programs > QZ Tray.\n",
      "\n",
      "5. **Automatic Startup**:\n",
      "   - Right-click on the QZ Tray icon and ensure that the \"Automatically Start\" option is enabled.\n",
      "\n",
      "6. **Test Print**:\n",
      "   - Once all setup steps are completed, attempt to print the label from the panel.\n",
      "\n",
      "For more detailed instructions, you can refer to the [Zebra Printer Settings for Auto Printing](https://vinculumhelpdesk.freshdesk.com/support/solutions/articles/9000210122-zebra-printer-settings-for-auto-printing).\n"
     ]
    }
   ],
   "source": [
    "template = \"\"\"Address the user as vinner and Use the following pieces of context to answer the question at the end. If you don't know the answer, just say that you don't know, don't try to make up an answer. \n",
    "{context}\n",
    "Question: {question}\n",
    "Helpful Answer:\"\"\"\n",
    "\n",
    "QA_CHAIN_PROMPT = PromptTemplate.from_template(template)\n",
    "\n",
    "\n",
    "# Run chain\n",
    "qa_chain = RetrievalQA.from_chain_type(\n",
    "    llm,\n",
    "    retriever=vectordb.as_retriever(),\n",
    "    return_source_documents=True,\n",
    "    chain_type_kwargs={\"prompt\": QA_CHAIN_PROMPT}\n",
    ")\n",
    "\n",
    "print(result[\"result\"])"
   ]
  },
  {
   "cell_type": "markdown",
   "metadata": {},
   "source": [
    "## Using memory to store the conversation and get the answer"
   ]
  },
  {
   "cell_type": "code",
   "execution_count": 14,
   "metadata": {},
   "outputs": [
    {
     "name": "stdout",
     "output_type": "stream",
     "text": [
      "To set up auto label printing with a Zebra printer, follow these steps:\n",
      "\n",
      "1. **Hardware Setup**:\n",
      "   - Connect the Zebra printer to your machine using a USB cable.\n",
      "\n",
      "2. **Software Setup**:\n",
      "   - Install QZ Tray by running the installation file downloaded in the previous step. Make sure Java SE Development Kit is installed on your machine.\n",
      "   - Start QZ Tray by navigating to Start > All Programs > QZ Tray after successful installation.\n",
      "   - Right-click on the QZ Tray icon and ensure that the \"Automatically Start\" option is enabled.\n",
      "\n",
      "3. **Label Printing**:\n",
      "   - Once all setup steps are completed, attempt to print the label from the panel.\n",
      "\n",
      "For more detailed information, you can refer to the [Zebra Printer Settings for Auto Printing guide](https://vinculumhelpdesk.freshdesk.com/support/solutions/articles/9000210122-zebra-printer-settings-for-auto-printing).\n"
     ]
    }
   ],
   "source": [
    "memory = ConversationBufferMemory(\n",
    "    memory_key=\"chat_history\",\n",
    "    return_messages=True\n",
    ")\n",
    "\n",
    "qa = ConversationalRetrievalChain.from_llm(\n",
    "    llm,\n",
    "    retriever=vectordb.as_retriever(),\n",
    "    memory=memory\n",
    ")\n",
    "question = \"how can i setup auto label printing\"\n",
    "result = qa.invoke({\"question\": question})\n",
    "\n",
    "print(result['answer'])"
   ]
  },
  {
   "cell_type": "markdown",
   "metadata": {},
   "source": [
    "## ChatHistory"
   ]
  },
  {
   "cell_type": "code",
   "execution_count": 15,
   "metadata": {},
   "outputs": [
    {
     "name": "stdout",
     "output_type": "stream",
     "text": [
      "{'question': 'Can you provide me link for the same', 'chat_history': [HumanMessage(content='how can i setup auto label printing'), AIMessage(content='To set up auto label printing with a Zebra printer, follow these steps:\\n\\n1. **Hardware Setup**:\\n   - Connect the Zebra printer to your machine using a USB cable.\\n\\n2. **Software Setup**:\\n   - Install QZ Tray by running the installation file downloaded in the previous step. Make sure Java SE Development Kit is installed on your machine.\\n   - Start QZ Tray by navigating to Start > All Programs > QZ Tray after successful installation.\\n   - Right-click on the QZ Tray icon and ensure that the \"Automatically Start\" option is enabled.\\n\\n3. **Label Printing**:\\n   - Once all setup steps are completed, attempt to print the label from the panel.\\n\\nFor more detailed information, you can refer to the [Zebra Printer Settings for Auto Printing guide](https://vinculumhelpdesk.freshdesk.com/support/solutions/articles/9000210122-zebra-printer-settings-for-auto-printing).'), HumanMessage(content='Can you provide me link for the same'), AIMessage(content='Certainly! You can access the Zebra Printer Settings for Auto Printing guide by following this link: [Zebra Printer Settings for Auto Printing](https://vinculumhelpdesk.freshdesk.com/support/solutions/articles/9000210122-zebra-printer-settings-for-auto-printing).')], 'answer': 'Certainly! You can access the Zebra Printer Settings for Auto Printing guide by following this link: [Zebra Printer Settings for Auto Printing](https://vinculumhelpdesk.freshdesk.com/support/solutions/articles/9000210122-zebra-printer-settings-for-auto-printing).'}\n"
     ]
    }
   ],
   "source": [
    "question = \"Can you provide me link for the same\"\n",
    "result = qa.invoke({\"question\": question})\n",
    "# print(result['answer'])\n",
    "print(result)\n",
    "\n"
   ]
  },
  {
   "cell_type": "markdown",
   "metadata": {},
   "source": [
    "## Ignore from here"
   ]
  },
  {
   "cell_type": "code",
   "execution_count": 9,
   "metadata": {},
   "outputs": [],
   "source": [
    "from langchain.schema.vectorstore import VectorStoreRetriever\n",
    "from langchain.callbacks.manager import CallbackManagerForRetrieverRun\n",
    "from langchain.schema.document import Document\n",
    "from typing import List\n",
    "class MyVectorStoreRetriever(VectorStoreRetriever):\n",
    "    # See https://github.com/langchain-ai/langchain/blob/61dd92f8215daef3d9cf1734b0d1f8c70c1571c3/libs/langchain/langchain/vectorstores/base.py#L500\n",
    "    def _get_relevant_documents(\n",
    "        self, query: str, *, run_manager: CallbackManagerForRetrieverRun\n",
    "    ) -> List[Document]:\n",
    "        docs_and_similarities = (\n",
    "            self.vectorstore.similarity_search_with_relevance_scores(\n",
    "                query, **self.search_kwargs\n",
    "            )\n",
    "        )\n",
    "\n",
    "        # Make the score part of the document metadata\n",
    "        for doc, similarity in docs_and_similarities:\n",
    "            doc.metadata[\"score\"] = similarity\n",
    "\n",
    "        docs = [doc for doc, _ in docs_and_similarities]\n",
    "        return docs"
   ]
  },
  {
   "cell_type": "code",
   "execution_count": 12,
   "metadata": {},
   "outputs": [
    {
     "name": "stdout",
     "output_type": "stream",
     "text": [
      "To set up auto label printing with a Zebra printer, you can follow these steps:\n",
      "\n",
      "1. **Hardware Setup**:\n",
      "   - Plugin the Zebra Printer USB Cable: Connect the Zebra printer to your machine using a USB cable.\n",
      "\n",
      "2. **Software Setup**:\n",
      "   - Install QZ Tray: Run the installation file downloaded in the previous step. Ensure that Java SE Development Kit is installed on your machine.\n",
      "   - Start QZ Tray: After successful installation, navigate to Start > All Programs > QZ Tray.\n",
      "   - Automatic Startup: Right-click on the QZ Tray icon and ensure that the \"Automatically Start\" option is enabled.\n",
      "\n",
      "3. **Label Printing**:\n",
      "   - Test Print: Once all setup steps are completed, attempt to print the label from the panel.\n",
      "\n",
      "For more detailed instructions, you can refer to the [Zebra Printer Settings for Auto Printing](https://vinculumhelpdesk.freshdesk.com/support/solutions/articles/9000210122-zebra-printer-settings-for-auto-printing).\n"
     ]
    }
   ],
   "source": [
    "# retriever = MyVectorStoreRetriever(\n",
    "#    vectorstore=vectordb,\n",
    "#    search_type=\"similarity_score_threshold\",\n",
    "#    search_kwargs={\"score_threshold\": similarity_threshold, \"k\": 3},\n",
    "# )\n",
    "memory = ConversationBufferMemory(\n",
    "    memory_key=\"chat_history\",\n",
    "    return_messages=True\n",
    ")\n",
    "\n",
    "qa = ConversationalRetrievalChain.from_llm(\n",
    "    llm,\n",
    "    # retriever=vectordb.as_retriever(),\n",
    "    retriever=MyVectorStoreRetriever(\n",
    "        vectorstore=vectordb,\n",
    "        search_type=\"similarity_score_threshold\",\n",
    "        search_kwargs={\"score_threshold\": 0.5, \"k\": 3},\n",
    "    ),\n",
    "    memory=memory\n",
    ")\n",
    "question = \"how can i setup auto label printing\"\n",
    "result = qa.invoke({\"question\": question})\n",
    "\n",
    "print(result['answer'])\n"
   ]
  },
  {
   "cell_type": "code",
   "execution_count": 13,
   "metadata": {},
   "outputs": [
    {
     "name": "stdout",
     "output_type": "stream",
     "text": [
      "{'question': 'what was the last question i asked', 'chat_history': [HumanMessage(content='how can i setup auto label printing'), AIMessage(content='To set up auto label printing with a Zebra printer, you can follow these steps:\\n\\n1. **Hardware Setup**:\\n   - Plugin the Zebra Printer USB Cable: Connect the Zebra printer to your machine using a USB cable.\\n\\n2. **Software Setup**:\\n   - Install QZ Tray: Run the installation file downloaded in the previous step. Ensure that Java SE Development Kit is installed on your machine.\\n   - Start QZ Tray: After successful installation, navigate to Start > All Programs > QZ Tray.\\n   - Automatic Startup: Right-click on the QZ Tray icon and ensure that the \"Automatically Start\" option is enabled.\\n\\n3. **Label Printing**:\\n   - Test Print: Once all setup steps are completed, attempt to print the label from the panel.\\n\\nFor more detailed instructions, you can refer to the [Zebra Printer Settings for Auto Printing](https://vinculumhelpdesk.freshdesk.com/support/solutions/articles/9000210122-zebra-printer-settings-for-auto-printing).'), HumanMessage(content='what was the last question i asked'), AIMessage(content=\"I don't have the ability to remember or track the previous questions asked. If there's anything specific you would like to know or discuss, feel free to ask!\")], 'answer': \"I don't have the ability to remember or track the previous questions asked. If there's anything specific you would like to know or discuss, feel free to ask!\"}\n"
     ]
    }
   ],
   "source": [
    "question=\"what was the last question i asked\"\n",
    "result = qa.invoke({\"question\": question})\n",
    "print(result)"
   ]
  },
  {
   "cell_type": "code",
   "execution_count": null,
   "metadata": {},
   "outputs": [],
   "source": []
  }
 ],
 "metadata": {
  "kernelspec": {
   "display_name": ".venv",
   "language": "python",
   "name": "python3"
  },
  "language_info": {
   "codemirror_mode": {
    "name": "ipython",
    "version": 3
   },
   "file_extension": ".py",
   "mimetype": "text/x-python",
   "name": "python",
   "nbconvert_exporter": "python",
   "pygments_lexer": "ipython3",
   "version": "3.12.0"
  }
 },
 "nbformat": 4,
 "nbformat_minor": 2
}
